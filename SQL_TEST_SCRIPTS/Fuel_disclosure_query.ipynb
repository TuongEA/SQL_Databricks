{
 "cells": [
  {
   "cell_type": "code",
   "execution_count": 0,
   "metadata": {
    "application/vnd.databricks.v1+cell": {
     "cellMetadata": {
      "byteLimit": 2048000,
      "rowLimit": 10000
     },
     "inputWidgets": {},
     "nuid": "d25e9bd3-2ee2-498a-8a5c-44d755f3733c",
     "showTitle": false,
     "tableResultSettingsMap": {},
     "title": ""
    }
   },
   "outputs": [],
   "source": [
    "SET TIME ZONE 'Pacific/Auckland';"
   ]
  },
  {
   "cell_type": "markdown",
   "metadata": {
    "application/vnd.databricks.v1+cell": {
     "cellMetadata": {},
     "inputWidgets": {},
     "nuid": "495ef80c-3b1f-4bfa-ac50-5c7151975f6e",
     "showTitle": false,
     "tableResultSettingsMap": {},
     "title": ""
    }
   },
   "source": [
    "#GAS"
   ]
  },
  {
   "cell_type": "code",
   "execution_count": 0,
   "metadata": {
    "application/vnd.databricks.v1+cell": {
     "cellMetadata": {
      "byteLimit": 2048000,
      "rowLimit": 10000
     },
     "inputWidgets": {},
     "nuid": "309de74f-a0c7-464b-b4a3-9e29289cd0ea",
     "showTitle": true,
     "tableResultSettingsMap": {
      "0": {
       "dataGridStateBlob": "{\"version\":1,\"tableState\":{\"columnPinning\":{\"left\":[\"#row_number#\"],\"right\":[]},\"columnSizing\":{},\"columnVisibility\":{}},\"settings\":{\"columns\":{}},\"syncTimestamp\":1755650147184}",
       "filterBlob": null,
       "queryPlanFiltersBlob": null,
       "tableResultIndex": 0
      }
     },
     "title": "Weekly Gas Storage Disclosure"
    }
   },
   "outputs": [],
   "source": [
    "select ParticipantCode, `Date` as TradingDate, \n",
    "StoredVolumePetajoules * 1e6 as StoredVolumeGJ,\n",
    "MaxWithdrawalRateTerajoulesPerDay * 1e3 as MaxWithdrawalRateGJperDay,\n",
    "MaxInjectionRateTerajoulesPerDay * 1e3 as MaxInjectionRateGJperDay,\n",
    "MaxStorageCapacityTerajoules * 1e6 as MaxStorageCapacityGJ,\n",
    "SubmissionDate\n",
    "from datahub.wholesale.thermalfueldisclosuresstoragegas\n",
    "where maxStorageCapacityTerajoules > 0\n"
   ]
  },
  {
   "cell_type": "code",
   "execution_count": 0,
   "metadata": {
    "application/vnd.databricks.v1+cell": {
     "cellMetadata": {
      "byteLimit": 2048000,
      "rowLimit": 10000
     },
     "inputWidgets": {},
     "nuid": "4217b4b2-d359-48a0-948e-2c3004b90aa3",
     "showTitle": true,
     "tableResultSettingsMap": {
      "0": {
       "dataGridStateBlob": "{\"version\":1,\"tableState\":{\"columnPinning\":{\"left\":[\"#row_number#\"],\"right\":[]},\"columnSizing\":{},\"columnVisibility\":{}},\"settings\":{\"columns\":{}},\"syncTimestamp\":1755658381270}",
       "filterBlob": null,
       "queryPlanFiltersBlob": null,
       "tableResultIndex": 0
      }
     },
     "title": "Gas contract constraint"
    }
   },
   "outputs": [],
   "source": [
    "select ParticipantCode, MonthEnded, \n",
    "ContractedGasMinPetajoulesPerMonth * 1e6 as Monthly_Min_GJ,\n",
    "ContractedGasMaxPetajoulesPerMonth * 1e6 as Monthly_Max_GJ,\n",
    "DeliverabilityMinTerajoulesPerDay * 1e3 as Daily_Max_GJ,\t\n",
    "DeliverabilityMaxTerajoulesPerDay * 1e3 as Daily_Min_GJ,\t\n",
    "SubmissionDate\n",
    "from  datahub.wholesale.thermalfueldisclosurescontractsgas\n",
    "order by ParticipantCode, MonthEnded"
   ]
  },
  {
   "cell_type": "code",
   "execution_count": 0,
   "metadata": {
    "application/vnd.databricks.v1+cell": {
     "cellMetadata": {
      "byteLimit": 2048000,
      "rowLimit": 10000
     },
     "inputWidgets": {},
     "nuid": "f3e2ffa3-f873-41e1-bf18-0ecb5a726ffa",
     "showTitle": true,
     "tableResultSettingsMap": {
      "0": {
       "dataGridStateBlob": "{\"version\":1,\"tableState\":{\"columnPinning\":{\"left\":[\"#row_number#\"],\"right\":[]},\"columnSizing\":{},\"columnVisibility\":{}},\"settings\":{\"columns\":{}},\"syncTimestamp\":1755655718008}",
       "filterBlob": null,
       "queryPlanFiltersBlob": null,
       "tableResultIndex": 0
      }
     },
     "title": "Gas transaction cost (price)"
    }
   },
   "outputs": [],
   "source": [
    "select \n",
    "ParticipantCode, DateSupplied, TransactionType, max(PriceExclCarbonDollarsPerGigajoule),\n",
    "round(sum(VolumeGigajoules*PriceExclCarbonDollarsPerGigajoule)/sum(VolumeGigajoules),2) as VWAP\n",
    "from ea_prd.gold.factthermalfueldisclosurestransactionsgas\n",
    "where TRansactionType in ('Sale','Purchase') --and DateSupplied >= '2025-01-01'\n",
    "and VolumeGigajoules > 0 \n",
    "Group BY all\n",
    "order by all"
   ]
  },
  {
   "cell_type": "markdown",
   "metadata": {
    "application/vnd.databricks.v1+cell": {
     "cellMetadata": {},
     "inputWidgets": {},
     "nuid": "5f7bb8c0-0abc-4e44-bbb1-6de95bc81814",
     "showTitle": false,
     "tableResultSettingsMap": {},
     "title": ""
    }
   },
   "source": [
    "#DIESEL"
   ]
  },
  {
   "cell_type": "code",
   "execution_count": 0,
   "metadata": {
    "application/vnd.databricks.v1+cell": {
     "cellMetadata": {
      "byteLimit": 2048000,
      "rowLimit": 10000
     },
     "inputWidgets": {},
     "nuid": "1e73fad1-eb93-4778-887f-64897508b1ce",
     "showTitle": false,
     "tableResultSettingsMap": {},
     "title": ""
    }
   },
   "outputs": [],
   "source": [
    "select * from  ea_prd.gold.factthermal\n",
    "where ParticipantCode='CTCT' and DateSupplied = '2025-08-10'"
   ]
  },
  {
   "cell_type": "markdown",
   "metadata": {
    "application/vnd.databricks.v1+cell": {
     "cellMetadata": {},
     "inputWidgets": {},
     "nuid": "c6a24b87-e8f9-491a-a4ae-e5472e854e62",
     "showTitle": false,
     "tableResultSettingsMap": {},
     "title": ""
    }
   },
   "source": [
    "#COAL"
   ]
  },
  {
   "cell_type": "code",
   "execution_count": 0,
   "metadata": {
    "application/vnd.databricks.v1+cell": {
     "cellMetadata": {
      "byteLimit": 2048000,
      "rowLimit": 10000
     },
     "inputWidgets": {},
     "nuid": "d62792cc-200d-481b-bdd7-57eae902aa6c",
     "showTitle": true,
     "tableResultSettingsMap": {
      "0": {
       "dataGridStateBlob": "{\"version\":1,\"tableState\":{\"columnPinning\":{\"left\":[\"#row_number#\"],\"right\":[]},\"columnSizing\":{\"DeliveryPriceExclCarbonDollarsPerGJ\":267,\"ParticipantCode\":130,\"TradingDate\":114,\"Fuel\":90},\"columnVisibility\":{}},\"settings\":{\"columns\":{}},\"syncTimestamp\":1755671868210}",
       "filterBlob": null,
       "queryPlanFiltersBlob": null,
       "tableResultIndex": 0
      }
     },
     "title": "Coal storage and price"
    }
   },
   "outputs": [],
   "source": [
    "select ParticipantCode, `Date` as TradingDate, Fuel, StorageLocation, \n",
    "-- it seems that value of SpecificEnergyMegaJoulesPerTonne is in GigaJoules per tonne\n",
    "round(SpecificEnergyMegaJoulesPerTonne * TotalVolumeStoredKilotonnes * 1e3,3) as StoredVolumeGJ,\n",
    "round(SpecificEnergyMegaJoulesPerTonne * VolumeOptionsKilotonnes * 1e3,3) as VolumeOptionsGJ,\n",
    "round(SpecificEnergyMegaJoulesPerTonne * DeliveriesReceivedInLastWeekKilotonnes * 1e3,3) as ReceivedInLastWeekGJ,\n",
    "case \n",
    "  when SubmissionDate = '2025-04-09' -- it seems that value of DeliveryPriceExclCarbonDollarsPerKilotonne is in $ per delivery\n",
    "    then round(DeliveryPriceExclCarbonDollarsPerKilotonne/ (1000*DeliveriesReceivedInLastWeekKilotonnes)/ SpecificEnergyMegaJoulesPerTonne , 2)\n",
    "  when SubmissionDate = '2025-07-16' -- it seems that value of DeliveryPriceExclCarbonDollarsPerKilotonne is in $ per kilotonne\n",
    "    then  round(DeliveryPriceExclCarbonDollarsPerKilotonne/1000/SpecificEnergyMegaJoulesPerTonne , 2) \n",
    "  else -- it seems that value of DeliveryPriceExclCarbonDollarsPerKilotonne is in $ per tonne\n",
    "    round(DeliveryPriceExclCarbonDollarsPerKilotonne/ SpecificEnergyMegaJoulesPerTonne , 2) \n",
    "end as DeliveryPriceExclCarbonDollarsPerGJ\n",
    ",*\n",
    "from datahub.wholesale.thermalfueldisclosuresstoragesolid\n",
    "\n"
   ]
  },
  {
   "cell_type": "code",
   "execution_count": 0,
   "metadata": {
    "application/vnd.databricks.v1+cell": {
     "cellMetadata": {
      "byteLimit": 2048000,
      "rowLimit": 10000
     },
     "inputWidgets": {},
     "nuid": "bf99f7ac-6b3e-4c2a-b56b-5d1c958713d9",
     "showTitle": false,
     "tableResultSettingsMap": {
      "0": {
       "dataGridStateBlob": "{\"version\":1,\"tableState\":{\"columnPinning\":{\"left\":[\"#row_number#\"],\"right\":[]},\"columnSizing\":{},\"columnVisibility\":{}},\"settings\":{\"columns\":{}},\"syncTimestamp\":1755670567217}",
       "filterBlob": null,
       "queryPlanFiltersBlob": null,
       "tableResultIndex": 0
      }
     },
     "title": ""
    }
   },
   "outputs": [],
   "source": [
    "select * from datahub.wholesale.thermalfueldisclosuresdeliveriessolid\n"
   ]
  },
  {
   "cell_type": "code",
   "execution_count": 0,
   "metadata": {
    "application/vnd.databricks.v1+cell": {
     "cellMetadata": {
      "byteLimit": 2048000,
      "rowLimit": 10000
     },
     "inputWidgets": {},
     "nuid": "4626f001-c1ca-4e0b-87e3-b1a7bedafa1a",
     "showTitle": false,
     "tableResultSettingsMap": {
      "0": {
       "dataGridStateBlob": "{\"version\":1,\"tableState\":{\"columnPinning\":{\"left\":[\"#row_number#\"],\"right\":[]},\"columnSizing\":{\"FileName\":873,\"DateOfDelivery\":155},\"columnVisibility\":{}},\"settings\":{\"columns\":{}},\"syncTimestamp\":1755672037746}",
       "filterBlob": null,
       "queryPlanFiltersBlob": null,
       "tableResultIndex": 0
      }
     },
     "title": ""
    }
   },
   "outputs": [],
   "source": [
    "select * from ea_prd.bronze.thermalfueldisclosuresdeliveriessolid"
   ]
  }
 ],
 "metadata": {
  "application/vnd.databricks.v1+notebook": {
   "computePreferences": null,
   "dashboards": [],
   "environmentMetadata": {
    "base_environment": "",
    "environment_version": "2"
   },
   "inputWidgetPreferences": null,
   "language": "sql",
   "notebookMetadata": {
    "pythonIndentUnit": 2
   },
   "notebookName": "Fuel_disclosure_query",
   "widgets": {}
  },
  "language_info": {
   "name": "sql"
  }
 },
 "nbformat": 4,
 "nbformat_minor": 0
}
