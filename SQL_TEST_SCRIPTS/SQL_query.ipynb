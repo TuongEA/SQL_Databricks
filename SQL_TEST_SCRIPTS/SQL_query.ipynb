{
 "cells": [
  {
   "cell_type": "code",
   "execution_count": 0,
   "metadata": {
    "application/vnd.databricks.v1+cell": {
     "cellMetadata": {
      "byteLimit": 2048000,
      "rowLimit": 10000
     },
     "inputWidgets": {},
     "nuid": "d25e9bd3-2ee2-498a-8a5c-44d755f3733c",
     "showTitle": false,
     "tableResultSettingsMap": {},
     "title": ""
    }
   },
   "outputs": [],
   "source": [
    "SET TIME ZONE 'Pacific/Auckland';"
   ]
  },
  {
   "cell_type": "code",
   "execution_count": 0,
   "metadata": {
    "application/vnd.databricks.v1+cell": {
     "cellMetadata": {
      "byteLimit": 2048000,
      "rowLimit": 10000
     },
     "inputWidgets": {},
     "nuid": "8b229905-c3ff-47b8-86de-b09e7c582f0b",
     "showTitle": false,
     "tableResultSettingsMap": {},
     "title": ""
    }
   },
   "outputs": [],
   "source": [
    "SELECT TradingDate, TradingPeriodNumber,\n",
    "                Case \n",
    "                  -- When dat.PointOfConnectionCode in ('GLN0332','KAW2201') Then 'NI' \n",
    "                  -- When dat.PointOfConnectionCode in ('INV0661') Then 'SI' \n",
    "                  When dat.GridZoneCode = 'GZ8' Then 'HAY' \n",
    "                  Else dat.IslandCode \n",
    "                End as Region,\n",
    "                sum(KilowattHours)/500 as MW \n",
    "                FROM datahub.wholesale.reconciledinjectionandofftake dat \n",
    "                WHERE dat.FlowDirection = 'Offtake'\n",
    "                AND TradingDate >= '2025-09-01'\n",
    "                GROUP BY all \n",
    "                ORDER BY TradingDate, TradingPeriodNumber, Region"
   ]
  },
  {
   "cell_type": "code",
   "execution_count": 0,
   "metadata": {
    "application/vnd.databricks.v1+cell": {
     "cellMetadata": {
      "byteLimit": 2048000,
      "rowLimit": 10000
     },
     "inputWidgets": {},
     "nuid": "d790cd22-b109-449d-83b8-cc60231b4cb0",
     "showTitle": false,
     "tableResultSettingsMap": {
      "0": {
       "dataGridStateBlob": "{\"version\":1,\"tableState\":{\"columnPinning\":{\"left\":[\"#row_number#\"],\"right\":[]},\"columnSizing\":{},\"columnVisibility\":{}},\"settings\":{\"columns\":{}},\"syncTimestamp\":1761164150985}",
       "filterBlob": null,
       "queryPlanFiltersBlob": null,
       "tableResultIndex": 0
      }
     },
     "title": ""
    }
   },
   "outputs": [],
   "source": [
    "select *\n",
    "from ea_prd.gold.factspdbranches where TradingDate = '2025-10-23' and TradingPeriodNumber >= 14\n",
    "and CaseTypeCode = 'RTD' and SPDBranchMarginalDollarsPerMegawattHour > 0 \n",
    "\n"
   ]
  },
  {
   "cell_type": "code",
   "execution_count": 0,
   "metadata": {
    "application/vnd.databricks.v1+cell": {
     "cellMetadata": {
      "byteLimit": 2048000,
      "rowLimit": 10000
     },
     "inputWidgets": {},
     "nuid": "874d221f-a9f1-49e4-8113-472ce43aff4d",
     "showTitle": false,
     "tableResultSettingsMap": {},
     "title": ""
    }
   },
   "outputs": [],
   "source": [
    "select *\n",
    "from ea_prd.gold.factspdmarketnodeconstraints where TradingDate = '2025-10-23'\n",
    "and CaseTypeCode = 'RTD' and (SPDMarketNodeConstraintName like 'DN_STK%' or SPDMarketNodeConstraintName like 'DN_ARG%')\n",
    "order by IntervalDateTime"
   ]
  },
  {
   "cell_type": "code",
   "execution_count": 0,
   "metadata": {
    "application/vnd.databricks.v1+cell": {
     "cellMetadata": {
      "byteLimit": 2048000,
      "rowLimit": 10000
     },
     "inputWidgets": {},
     "nuid": "755ea744-8063-45a4-8d9f-dbc7a6073a8f",
     "showTitle": false,
     "tableResultSettingsMap": {
      "0": {
       "dataGridStateBlob": "{\"version\":1,\"tableState\":{\"columnPinning\":{\"left\":[\"#row_number#\"],\"right\":[]},\"columnSizing\":{},\"columnVisibility\":{}},\"settings\":{\"columns\":{}},\"syncTimestamp\":1761175106834}",
       "filterBlob": null,
       "queryPlanFiltersBlob": null,
       "tableResultIndex": 0
      }
     },
     "title": ""
    }
   },
   "outputs": [],
   "source": [
    "select *\n",
    "from ea_prd.gold.factthermalfueldisclosurestransactionsgas\n",
    "where ParticipantCode = 'GENE'\n",
    "and SubmissionDate > '2025-10-01'\n",
    "order by SubmissionDate, Date"
   ]
  },
  {
   "cell_type": "code",
   "execution_count": 0,
   "metadata": {
    "application/vnd.databricks.v1+cell": {
     "cellMetadata": {
      "byteLimit": 2048000,
      "rowLimit": 10000
     },
     "inputWidgets": {},
     "nuid": "ab57cedf-eac7-4324-a656-1ac0345895dc",
     "showTitle": false,
     "tableResultSettingsMap": {
      "0": {
       "dataGridStateBlob": "{\"version\":1,\"tableState\":{\"columnPinning\":{\"left\":[\"#row_number#\"],\"right\":[]},\"columnSizing\":{\"SpecificEnergy_GJperlitre\":299},\"columnVisibility\":{}},\"settings\":{\"columns\":{}},\"syncTimestamp\":1756158320750}",
       "filterBlob": null,
       "queryPlanFiltersBlob": null,
       "tableResultIndex": 0
      }
     },
     "title": ""
    }
   },
   "outputs": [],
   "source": [
    "select * from ea_prd.bronze.thermalfueldisclosuresstoragediesel"
   ]
  },
  {
   "cell_type": "code",
   "execution_count": 0,
   "metadata": {
    "application/vnd.databricks.v1+cell": {
     "cellMetadata": {
      "byteLimit": 2048000,
      "rowLimit": 10000
     },
     "inputWidgets": {},
     "nuid": "aa35d163-a841-4a29-9662-f0cd49902e66",
     "showTitle": false,
     "tableResultSettingsMap": {
      "0": {
       "dataGridStateBlob": "{\"version\":1,\"tableState\":{\"columnPinning\":{\"left\":[\"#row_number#\"],\"right\":[]},\"columnSizing\":{\"UpdatedDatetime\":278},\"columnVisibility\":{}},\"settings\":{\"columns\":{}},\"syncTimestamp\":1756157841722}",
       "filterBlob": null,
       "queryPlanFiltersBlob": null,
       "tableResultIndex": 0
      }
     },
     "title": ""
    }
   },
   "outputs": [],
   "source": [
    "select * from ea_prd.gold.factthermalfueldisclosuresstoragediesel"
   ]
  },
  {
   "cell_type": "code",
   "execution_count": 0,
   "metadata": {
    "application/vnd.databricks.v1+cell": {
     "cellMetadata": {
      "byteLimit": 2048000,
      "rowLimit": 10000
     },
     "inputWidgets": {},
     "nuid": "eae2b016-6649-431b-a769-9c8f0a407785",
     "showTitle": false,
     "tableResultSettingsMap": {
      "0": {
       "dataGridStateBlob": "{\"version\":1,\"tableState\":{\"columnPinning\":{\"left\":[\"#row_number#\"],\"right\":[]},\"columnSizing\":{},\"columnVisibility\":{}},\"settings\":{\"columns\":{}},\"syncTimestamp\":1756097251178}",
       "filterBlob": null,
       "queryPlanFiltersBlob": null,
       "tableResultIndex": 0
      }
     },
     "title": ""
    }
   },
   "outputs": [],
   "source": [
    "select UpdatedDate, count(*) from ea_prd.silver.spd_solution_constraint group by all\n"
   ]
  },
  {
   "cell_type": "code",
   "execution_count": 0,
   "metadata": {
    "application/vnd.databricks.v1+cell": {
     "cellMetadata": {
      "byteLimit": 2048000,
      "rowLimit": 10000
     },
     "inputWidgets": {},
     "nuid": "d6a157a8-6da8-48a4-a9bb-6568c6c83a35",
     "showTitle": false,
     "tableResultSettingsMap": {
      "0": {
       "dataGridStateBlob": "{\"version\":1,\"tableState\":{\"columnPinning\":{\"left\":[\"#row_number#\"],\"right\":[]},\"columnSizing\":{},\"columnVisibility\":{}},\"settings\":{\"columns\":{}},\"syncTimestamp\":1756094278316}",
       "filterBlob": null,
       "queryPlanFiltersBlob": null,
       "tableResultIndex": 0
      }
     },
     "title": ""
    }
   },
   "outputs": [],
   "source": [
    "with L1 as (\n",
    "  select UpdatedDate, count(*) as silver \n",
    "  from ea_prd.silver.spd_mssdata_branchconstrfactors  \n",
    "  group by all\n",
    ")\n",
    ", L2 as (\n",
    "  select UpdatedDate, count(*) as gold \n",
    "  from ea_prd.gold.factspdmarketnodeconstraints\n",
    "  group by all\n",
    ")\n",
    "select L1.*, L2.gold from L1 left join L2 on L1.UpdatedDate = L2.UpdatedDate --and L1.CaseID = L2.CaseID\n",
    "where L1.silver <> L2.gold or L2.gold is null"
   ]
  },
  {
   "cell_type": "code",
   "execution_count": 0,
   "metadata": {
    "application/vnd.databricks.v1+cell": {
     "cellMetadata": {
      "byteLimit": 2048000,
      "rowLimit": 10000
     },
     "inputWidgets": {},
     "nuid": "8422be9b-628f-4e90-9167-2a7708d1625b",
     "showTitle": false,
     "tableResultSettingsMap": {},
     "title": ""
    }
   },
   "outputs": [],
   "source": [
    "select CaseID, count(*) from  \n",
    "from ea_prd.silver.spd_solution_branch\n",
    "group by all"
   ]
  },
  {
   "cell_type": "code",
   "execution_count": 0,
   "metadata": {
    "application/vnd.databricks.v1+cell": {
     "cellMetadata": {
      "byteLimit": 2048000,
      "rowLimit": 10000
     },
     "inputWidgets": {},
     "nuid": "5d748cc6-6d03-427c-a31f-b97e36e7684f",
     "showTitle": false,
     "tableResultSettingsMap": {
      "0": {
       "dataGridStateBlob": "{\"version\":1,\"tableState\":{\"columnPinning\":{\"left\":[\"#row_number#\"],\"right\":[]},\"columnSizing\":{},\"columnVisibility\":{}},\"settings\":{\"columns\":{}},\"syncTimestamp\":1756069905730}",
       "filterBlob": null,
       "queryPlanFiltersBlob": null,
       "tableResultIndex": 0
      }
     },
     "title": ""
    }
   },
   "outputs": [],
   "source": [
    "select CaseID, count(*) from  \n",
    "from ea_prd.gold.factspdbranches\n",
    "group by all"
   ]
  },
  {
   "cell_type": "code",
   "execution_count": 0,
   "metadata": {
    "application/vnd.databricks.v1+cell": {
     "cellMetadata": {
      "byteLimit": 2048000,
      "rowLimit": 10000
     },
     "inputWidgets": {},
     "nuid": "42947237-3ff2-428a-9ffb-344a3f42c291",
     "showTitle": false,
     "tableResultSettingsMap": {
      "0": {
       "dataGridStateBlob": "{\"version\":1,\"tableState\":{\"columnPinning\":{\"left\":[\"#row_number#\"],\"right\":[]},\"columnSizing\":{\"Offer_MW\":157},\"columnVisibility\":{}},\"settings\":{\"columns\":{}},\"syncTimestamp\":1756071631447}",
       "filterBlob": null,
       "queryPlanFiltersBlob": null,
       "tableResultIndex": 0
      }
     },
     "title": ""
    }
   },
   "outputs": [],
   "source": [
    "with L1 as (select CaseID, IntervalDateTime, PNodeCode, avg(SPDGenerationMegawatts) as Cleared_MW \n",
    "from ea_prd.gold.factspdbidsandoffers \n",
    "where Tradingdate = '2025-08-21' \n",
    "and TradingPeriodNumber = 30 \n",
    "and CaseTypeCode = 'RTD'\n",
    "and Interval = '21-AUG-2025 14:30'\n",
    "and OfferTypeCode = 'ENOF'\n",
    "Group by CaseID, IntervalDateTime, PNodeCode)\n",
    ", L2 as (\n",
    "  select CaseID, IntervalDateTime, sum(Cleared_MW) as Cleared_MW \n",
    "  from L1 Group by CaseID, IntervalDateTime)\n",
    ", L3 as (\n",
    "  select SPDOfferPriceDollarsPerMegawattHour as Offer_Price, \n",
    "  case \n",
    "    when SPDOfferOutputMegawatts >= 9999 then SPDAdjustedOfferOutputMegawatts\n",
    "    else SPDOfferOutputMegawatts \n",
    "  end as Offer_MW, \n",
    "  SPDAdjustedOfferOutputMegawatts as Adjuted_Offer_MW, \n",
    "  Cleared_MW  \n",
    "  from ea_prd.gold.factspdbidsandoffers a INNER JOIN L2 ON 1=1\n",
    "where Tradingdate = '2025-08-21' \n",
    "and TradingPeriodNumber = 30 \n",
    "and CaseTypeCode = 'RTD'\n",
    "and Interval = '21-AUG-2025 14:30'\n",
    "and OfferTypeCode = 'ENOF')\n",
    "select Offer_Price,\tsum(Offer_MW) as Offer_MW,\n",
    "sum(Adjuted_Offer_MW) as Adjusted_MW,\n",
    "avg(Cleared_MW) as Cleared_MW\n",
    "from L3\n",
    "Group by Offer_Price\n",
    "Order by Offer_Price"
   ]
  },
  {
   "cell_type": "code",
   "execution_count": 0,
   "metadata": {
    "application/vnd.databricks.v1+cell": {
     "cellMetadata": {
      "byteLimit": 2048000,
      "rowLimit": 10000
     },
     "inputWidgets": {},
     "nuid": "309de74f-a0c7-464b-b4a3-9e29289cd0ea",
     "showTitle": true,
     "tableResultSettingsMap": {
      "0": {
       "dataGridStateBlob": "{\"version\":1,\"tableState\":{\"columnPinning\":{\"left\":[\"#row_number#\"],\"right\":[]},\"columnSizing\":{},\"columnVisibility\":{}},\"settings\":{\"columns\":{}},\"syncTimestamp\":1755650147184}",
       "filterBlob": null,
       "queryPlanFiltersBlob": null,
       "tableResultIndex": 0
      }
     },
     "title": "* from"
    }
   },
   "outputs": [],
   "source": [
    "select count(*) from ea_prd.bronze.spd_solution_branch"
   ]
  },
  {
   "cell_type": "code",
   "execution_count": 0,
   "metadata": {
    "application/vnd.databricks.v1+cell": {
     "cellMetadata": {
      "byteLimit": 2048000,
      "rowLimit": 10000
     },
     "inputWidgets": {},
     "nuid": "4217b4b2-d359-48a0-948e-2c3004b90aa3",
     "showTitle": false,
     "tableResultSettingsMap": {
      "0": {
       "dataGridStateBlob": "{\"version\":1,\"tableState\":{\"columnPinning\":{\"left\":[\"#row_number#\"],\"right\":[]},\"columnSizing\":{},\"columnVisibility\":{}},\"settings\":{\"columns\":{}},\"syncTimestamp\":1755658381270}",
       "filterBlob": null,
       "queryPlanFiltersBlob": null,
       "tableResultIndex": 0
      }
     },
     "title": ""
    }
   },
   "outputs": [],
   "source": [
    "select ParticipantCode, MonthEnded, \n",
    "ContractedGasMinPetajoulesPerMonth * 1e6 as Monthly_Min_GJ,\n",
    "ContractedGasMaxPetajoulesPerMonth * 1e6 as Monthly_Max_GJ,\n",
    "DeliverabilityMinTerajoulesPerDay * 1e3 as Daily_Max_GJ,\t\n",
    "DeliverabilityMaxTerajoulesPerDay * 1e3 as Daily_Min_GJ,\t\n",
    "SubmissionDate\n",
    "from  datahub.wholesale.thermalfueldisclosurescontractsgas\n",
    "order by ParticipantCode, MonthEnded"
   ]
  },
  {
   "cell_type": "code",
   "execution_count": 0,
   "metadata": {
    "application/vnd.databricks.v1+cell": {
     "cellMetadata": {
      "byteLimit": 2048000,
      "rowLimit": 10000
     },
     "inputWidgets": {},
     "nuid": "5d9ac95f-fa6c-44ba-891c-4917e01405e6",
     "showTitle": false,
     "tableResultSettingsMap": {},
     "title": ""
    }
   },
   "outputs": [],
   "source": [
    "select * from datahub.wholesale.thermalfueldisclosuresstoragegas"
   ]
  },
  {
   "cell_type": "code",
   "execution_count": 0,
   "metadata": {
    "application/vnd.databricks.v1+cell": {
     "cellMetadata": {
      "byteLimit": 2048000,
      "rowLimit": 10000
     },
     "inputWidgets": {},
     "nuid": "1e73fad1-eb93-4778-887f-64897508b1ce",
     "showTitle": false,
     "tableResultSettingsMap": {},
     "title": ""
    }
   },
   "outputs": [],
   "source": [
    "select * from  ea_prd.gold.factthermal\n",
    "where ParticipantCode='CTCT' and DateSupplied = '2025-08-10'"
   ]
  },
  {
   "cell_type": "code",
   "execution_count": 0,
   "metadata": {
    "application/vnd.databricks.v1+cell": {
     "cellMetadata": {
      "byteLimit": 2048000,
      "rowLimit": 10000
     },
     "inputWidgets": {},
     "nuid": "f3e2ffa3-f873-41e1-bf18-0ecb5a726ffa",
     "showTitle": false,
     "tableResultSettingsMap": {
      "0": {
       "dataGridStateBlob": "{\"version\":1,\"tableState\":{\"columnPinning\":{\"left\":[\"#row_number#\"],\"right\":[]},\"columnSizing\":{},\"columnVisibility\":{}},\"settings\":{\"columns\":{}},\"syncTimestamp\":1755655718008}",
       "filterBlob": null,
       "queryPlanFiltersBlob": null,
       "tableResultIndex": 0
      }
     },
     "title": ""
    }
   },
   "outputs": [],
   "source": [
    "select \n",
    "ParticipantCode, DateSupplied, TransactionType, max(PriceExclCarbonDollarsPerGigajoule),\n",
    "round(sum(VolumeGigajoules*PriceExclCarbonDollarsPerGigajoule)/sum(VolumeGigajoules),2) as VWAP\n",
    "from ea_prd.gold.factthermalfueldisclosurestransactionsgas\n",
    "where TRansactionType in ('Sale','Purchase') and DateSupplied >= '2025-01-01'\n",
    "and VolumeGigajoules > 0 \n",
    "Group BY all\n",
    "order by all"
   ]
  },
  {
   "cell_type": "code",
   "execution_count": 0,
   "metadata": {
    "application/vnd.databricks.v1+cell": {
     "cellMetadata": {
      "byteLimit": 2048000,
      "rowLimit": 10000
     },
     "inputWidgets": {},
     "nuid": "d62792cc-200d-481b-bdd7-57eae902aa6c",
     "showTitle": false,
     "tableResultSettingsMap": {
      "0": {
       "dataGridStateBlob": "{\"version\":1,\"tableState\":{\"columnPinning\":{\"left\":[\"#row_number#\"],\"right\":[]},\"columnSizing\":{},\"columnVisibility\":{}},\"settings\":{\"columns\":{}},\"syncTimestamp\":1755655441403}",
       "filterBlob": null,
       "queryPlanFiltersBlob": null,
       "tableResultIndex": 0
      }
     },
     "title": ""
    }
   },
   "outputs": [],
   "source": [
    "select TRadingDate,GasVWAPDollarsPerGigajoule, * from datahub.wholesale.gasandcarbonpriceindices \n",
    "where TRadingDate>= '2025-01-01'\n",
    "order by TRadingDate\n"
   ]
  }
 ],
 "metadata": {
  "application/vnd.databricks.v1+notebook": {
   "computePreferences": null,
   "dashboards": [],
   "environmentMetadata": {
    "base_environment": "",
    "environment_version": "2"
   },
   "inputWidgetPreferences": null,
   "language": "sql",
   "notebookMetadata": {
    "pythonIndentUnit": 2
   },
   "notebookName": "SQL_query",
   "widgets": {}
  },
  "language_info": {
   "name": "sql"
  }
 },
 "nbformat": 4,
 "nbformat_minor": 0
}
