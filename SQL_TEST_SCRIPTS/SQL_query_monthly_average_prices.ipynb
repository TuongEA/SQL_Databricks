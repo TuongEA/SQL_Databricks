{
 "cells": [
  {
   "cell_type": "code",
   "execution_count": 0,
   "metadata": {
    "application/vnd.databricks.v1+cell": {
     "cellMetadata": {
      "byteLimit": 2048000,
      "rowLimit": 10000
     },
     "inputWidgets": {},
     "nuid": "d25e9bd3-2ee2-498a-8a5c-44d755f3733c",
     "showTitle": false,
     "tableResultSettingsMap": {},
     "title": ""
    }
   },
   "outputs": [],
   "source": [
    "SET TIME ZONE 'Pacific/Auckland';"
   ]
  },
  {
   "cell_type": "code",
   "execution_count": 0,
   "metadata": {
    "application/vnd.databricks.v1+cell": {
     "cellMetadata": {
      "byteLimit": 2048000,
      "rowLimit": 10000
     },
     "inputWidgets": {},
     "nuid": "32694865-7c13-4e51-9d01-e5756bd39ddb",
     "showTitle": true,
     "tableResultSettingsMap": {
      "0": {
       "dataGridStateBlob": "{\"version\":1,\"tableState\":{\"columnPinning\":{\"left\":[\"#row_number#\"],\"right\":[]},\"columnSizing\":{},\"columnVisibility\":{}},\"settings\":{\"columns\":{}},\"syncTimestamp\":1755552262766}",
       "filterBlob": null,
       "queryPlanFiltersBlob": null,
       "tableResultIndex": 0
      }
     },
     "title": "Simple monthly average price"
    },
    "jupyter": {
     "source_hidden": true
    }
   },
   "outputs": [],
   "source": [
    "With L1 as (select TradingDate,TradingPeriodNumber, avg(DollarsPerMegawattHour) as AvgPrice \n",
    "from ea_prd.gold.factpredispatchandfinalenergyprices \n",
    "where TradingDate >= '1997-05-01' and PriceTypeCode = 'F'\n",
    "group by TradingDate,TradingPeriodNumber)\n",
    "select year(TradingDate)as YearID, month(TradingDate)  as MonthID, round(avg(AvgPrice),2) as AvgPrice  \n",
    "from L1 group by YearID, MonthID\n",
    "Order by YearID, MonthID"
   ]
  },
  {
   "cell_type": "code",
   "execution_count": 0,
   "metadata": {
    "application/vnd.databricks.v1+cell": {
     "cellMetadata": {
      "byteLimit": 2048000,
      "rowLimit": 10000
     },
     "inputWidgets": {},
     "nuid": "ef441433-5091-4288-b758-90c8ac76c6c6",
     "showTitle": true,
     "tableResultSettingsMap": {
      "0": {
       "dataGridStateBlob": "{\"version\":1,\"tableState\":{\"columnPinning\":{\"left\":[\"#row_number#\"],\"right\":[]},\"columnSizing\":{},\"columnVisibility\":{}},\"settings\":{\"columns\":{}},\"syncTimestamp\":1755051880572}",
       "filterBlob": null,
       "queryPlanFiltersBlob": null,
       "tableResultIndex": 0
      }
     },
     "title": "Monthly average price at reference nodes"
    },
    "jupyter": {
     "source_hidden": true
    }
   },
   "outputs": [],
   "source": [
    "with HAY as (\n",
    "  select year(TradingDate)as YearID, month(TradingDate)  as MonthID, round(avg(DollarsPerMegawattHour),2) as HAY_AvgPrice \n",
    "  from ea_prd.gold.factpredispatchandfinalenergyprices \n",
    "  where PointOfConnectionCode = 'HAY2201' and PriceTypeCode = 'F'\n",
    "  and TradingDate >= '1996-10-01'\n",
    "  group by YearID, MonthID)\n",
    ", BEN as (\n",
    "  select year(TradingDate)as YearID, month(TradingDate)  as MonthID, round(avg(DollarsPerMegawattHour),2) as BEN_AvgPrice \n",
    "  from ea_prd.gold.factpredispatchandfinalenergyprices \n",
    "  where PointOfConnectionCode = 'BEN2201' and PriceTypeCode = 'F'\n",
    "  and TradingDate >= '1997-05-01'\n",
    "  group by YearID, MonthID)\n",
    ", OTA as (\n",
    "  select year(TradingDate)as YearID, month(TradingDate)  as MonthID, round(avg(DollarsPerMegawattHour),2) as OTA_AvgPrice \n",
    "  from ea_prd.gold.factpredispatchandfinalenergyprices \n",
    "  where PointOfConnectionCode = 'OTA2201' and PriceTypeCode = 'F'\n",
    "  and TradingDate >= '1996-10-01'\n",
    "  group by YearID, MonthID)\n",
    "select OTA.*, HAY_AvgPrice, BEN_AvgPrice from HAY \n",
    "inner join BEN on HAY.YearID = BEN.YearID and HAY.MonthID = BEN.MonthID\n",
    "inner join OTA on HAY.YearID = OTA.YearID and HAY.MonthID = OTA.MonthID\n",
    "Order by YearID, MonthID\n"
   ]
  },
  {
   "cell_type": "code",
   "execution_count": 0,
   "metadata": {
    "application/vnd.databricks.v1+cell": {
     "cellMetadata": {
      "byteLimit": 2048000,
      "rowLimit": 10000
     },
     "inputWidgets": {},
     "nuid": "70020d62-e572-41b2-b3fe-7f12ea12f7b9",
     "showTitle": true,
     "tableResultSettingsMap": {
      "0": {
       "dataGridStateBlob": "{\"version\":1,\"tableState\":{\"columnPinning\":{\"left\":[\"#row_number#\"],\"right\":[]},\"columnSizing\":{},\"columnVisibility\":{}},\"settings\":{\"columns\":{}},\"syncTimestamp\":1755552770565}",
       "filterBlob": null,
       "queryPlanFiltersBlob": null,
       "tableResultIndex": 0
      }
     },
     "title": "Monthly load weighted average price"
    }
   },
   "outputs": [
    {
     "output_type": "display_data",
     "data": {
      "text/plain": [
       "Databricks visualization. Run in Databricks to view."
      ]
     },
     "metadata": {
      "application/vnd.databricks.v1.subcommand+json": {
       "baseErrorDetails": null,
       "bindings": {},
       "collapsed": false,
       "command": "%sql WITH q AS (With L1 as (\n  Select year(pr.TradingDate)as YearID, month(pr.TradingDate)  as MonthID,\n  round(sum(DollarsPerMegawattHour*KilowattHours/1000),2) as Dollars,\n  round(sum(KilowattHours/1000),3) as MWh,\n  round(sum(DollarsPerMegawattHour*KilowattHours)/sum(KilowattHours),2) as LWAP\n  from ea_prd.gold.factpredispatchandfinalenergyprices pr\n  inner join ea_prd.gold.factreconciledinjectionandofftake rec\n  on pr.TradingDate = rec.TradingDate and pr.TradingPeriodNumber = rec.TradingPeriodNumber and pr.PointOfConnectionCode = rec.PointOfConnectionCode\n  and pr.TradingDate >= '1997-05-01' and pr.PriceTypeCode = 'F' and rec.FlowDirection = 'Offtake' \n  GROUP BY year(pr.TradingDate), month(pr.TradingDate)\n)\nselect * from L1 \nOrder by YearID, MonthID) SELECT `YearID`,`Load_weighted_avg_price` FROM q",
       "commandTitle": "Visualization 1",
       "commandType": "auto",
       "commandVersion": 0,
       "commentThread": [],
       "commentsVisible": false,
       "contentSha256Hex": null,
       "customPlotOptions": {
        "redashChart": [
         {
          "key": "type",
          "value": "CHART"
         },
         {
          "key": "options",
          "value": {
           "alignYAxesAtZero": true,
           "coefficient": 1,
           "columnConfigurationMap": {
            "x": {
             "column": "YearID",
             "id": "column_d832d93634"
            },
            "y": [
             {
              "column": "Load_weighted_avg_price",
              "id": "column_d832d93631"
             }
            ]
           },
           "dateTimeFormat": "DD/MM/YYYY HH:mm",
           "direction": {
            "type": "counterclockwise"
           },
           "error_y": {
            "type": "data",
            "visible": true
           },
           "globalSeriesType": "scatter",
           "legend": {
            "traceorder": "normal"
           },
           "missingValuesAsZero": true,
           "numberFormat": "0,0.[00000]",
           "percentFormat": "0[.]00%",
           "series": {
            "error_y": {
             "type": "data",
             "visible": true
            },
            "stacking": null
           },
           "seriesOptions": {
            "Load_weighted_avg_price": {
             "type": "scatter",
             "yAxis": 0
            }
           },
           "showDataLabels": false,
           "sizemode": "diameter",
           "sortX": true,
           "sortY": true,
           "swappedAxes": false,
           "textFormat": "",
           "useAggregationsUi": true,
           "valuesOptions": {},
           "version": 2,
           "xAxis": {
            "labels": {
             "enabled": true
            },
            "type": "-"
           },
           "yAxis": [
            {
             "type": "-"
            },
            {
             "opposite": true,
             "type": "-"
            }
           ]
          }
         }
        ]
       },
       "datasetPreviewNameToCmdIdMap": {},
       "diffDeletes": [],
       "diffInserts": [],
       "displayType": "redashChart",
       "error": null,
       "errorDetails": null,
       "errorSummary": null,
       "errorTraceType": null,
       "finishTime": 0,
       "globalVars": {},
       "guid": "",
       "height": "auto",
       "hideCommandCode": false,
       "hideCommandResult": false,
       "iPythonMetadata": null,
       "inputWidgets": {},
       "isLockedInExamMode": false,
       "latestAssumeRoleInfo": null,
       "latestUser": "a user",
       "latestUserId": null,
       "listResultMetadata": null,
       "metadata": {},
       "nuid": "953b6802-6b42-4f33-87cd-defb41c4a06d",
       "origId": 0,
       "parentHierarchy": [],
       "pivotAggregation": null,
       "pivotColumns": null,
       "position": 2.375,
       "resultDbfsErrorMessage": null,
       "resultDbfsStatus": "INLINED_IN_TREE",
       "results": null,
       "showCommandTitle": false,
       "startTime": 0,
       "state": "input",
       "streamStates": {},
       "subcommandOptions": {
        "queryPlan": {
         "selects": [
          {
           "column": "YearID",
           "type": "column"
          },
          {
           "column": "Load_weighted_avg_price",
           "type": "column"
          }
         ]
        }
       },
       "submitTime": 0,
       "subtype": "tableResultSubCmd.visualization",
       "tableResultIndex": 0,
       "tableResultSettingsMap": {},
       "useConsistentColors": false,
       "version": "CommandV1",
       "width": "auto",
       "workflows": null,
       "xColumns": null,
       "yColumns": null
      }
     },
     "output_type": "display_data"
    }
   ],
   "source": [
    "With L1 as (\n",
    "  Select year(pr.TradingDate)as YearID, month(pr.TradingDate)  as MonthID,\n",
    "  round(sum(DollarsPerMegawattHour*KilowattHours/1000),2) as Dollars,\n",
    "  round(sum(KilowattHours/1000),3) as MWh,\n",
    "  round(sum(DollarsPerMegawattHour*KilowattHours)/sum(KilowattHours),2) as LWAP\n",
    "  from ea_prd.gold.factpredispatchandfinalenergyprices pr\n",
    "  inner join ea_prd.gold.factreconciledinjectionandofftake rec\n",
    "  on pr.TradingDate = rec.TradingDate and pr.TradingPeriodNumber = rec.TradingPeriodNumber and pr.PointOfConnectionCode = rec.PointOfConnectionCode\n",
    "  and pr.TradingDate >= '1997-05-01' and pr.PriceTypeCode = 'F' and rec.FlowDirection = 'Offtake' \n",
    "  GROUP BY year(pr.TradingDate), month(pr.TradingDate)\n",
    ")\n",
    "select * from L1 \n",
    "Order by YearID, MonthID\n"
   ]
  }
 ],
 "metadata": {
  "application/vnd.databricks.v1+notebook": {
   "computePreferences": null,
   "dashboards": [],
   "environmentMetadata": {
    "base_environment": "",
    "environment_version": "2"
   },
   "inputWidgetPreferences": null,
   "language": "sql",
   "notebookMetadata": {
    "pythonIndentUnit": 2
   },
   "notebookName": "SQL_query_monthly_average_prices",
   "widgets": {}
  },
  "language_info": {
   "name": "sql"
  }
 },
 "nbformat": 4,
 "nbformat_minor": 0
}
