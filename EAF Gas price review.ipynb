{
 "cells": [
  {
   "cell_type": "code",
   "execution_count": 0,
   "metadata": {
    "application/vnd.databricks.v1+cell": {
     "cellMetadata": {},
     "inputWidgets": {},
     "nuid": "eb97b511-59d0-4b1d-9c44-1f1b907d4ef3",
     "showTitle": false,
     "tableResultSettingsMap": {},
     "title": ""
    }
   },
   "outputs": [],
   "source": [
    "select TradingDate, avg(DollarsPerMegawattHour) as Energy_spot_price\n",
    "from datahub.wholesale.predispatchandfinalenergyprices\n",
    "where TradingDate >= '2021-07-01'\n",
    "and PriceTypeCode = 'F'\n",
    "and PointOfConnectionCode = 'OTA2201'"
   ]
  },
  {
   "cell_type": "code",
   "execution_count": 0,
   "metadata": {
    "application/vnd.databricks.v1+cell": {
     "cellMetadata": {
      "byteLimit": 2048000,
      "rowLimit": 10000
     },
     "inputWidgets": {},
     "nuid": "4cfef2dd-6540-4d14-b0f0-44793a443dd3",
     "showTitle": false,
     "tableResultSettingsMap": {
      "0": {
       "dataGridStateBlob": "{\"version\":1,\"tableState\":{\"columnPinning\":{\"left\":[\"#row_number#\"],\"right\":[]},\"columnSizing\":{},\"columnVisibility\":{}},\"settings\":{\"columns\":{}},\"syncTimestamp\":1761186748897}",
       "filterBlob": null,
       "queryPlanFiltersBlob": null,
       "tableResultIndex": 0
      }
     },
     "title": ""
    }
   },
   "outputs": [
    {
     "output_type": "display_data",
     "data": {
      "text/plain": [
       "Databricks visualization. Run in Databricks to view."
      ]
     },
     "metadata": {
      "application/vnd.databricks.v1.subcommand+json": {
       "baseErrorDetails": null,
       "bindings": {},
       "collapsed": false,
       "command": "%sql WITH q AS (with L1 as (\nselect TradingDate, GasVWAPDollarsPerGigajoule as `Daily volume weighted average gas price`, \nLAST_VALUE(CASE WHEN CarbonVWAPDollarsPerNZU <> 0 THEN CarbonVWAPDollarsPerNZU END, TRUE) OVER (ORDER BY TradingDate ROWS BETWEEN UNBOUNDED PRECEDING AND CURRENT ROW\n) AS `Daily volume weighted average carbon price`\nfrom  datahub.wholesale.gasandcarbonpriceindices where TradingDate >= '2021-01-01'\n), L2 as (\nselect TradingDate, avg(DollarsPerMegawattHour) as Energy_spot_price\nfrom datahub.wholesale.predispatchandfinalenergyprices\nwhere TradingDate >= '2021-07-01'\nand PriceTypeCode = 'F'\nand PointOfConnectionCode = 'OTA2201'\ngroup by all\n)\nselect L1.*, Energy_spot_price from L1 inner join L2 on L1.TradingDate = L2.TradingDate\norder by L1.TradingDate) SELECT `TradingDate`,SUM(`Energy_spot_price`) `column_5a9834c1530`,SUM(`Daily volume weighted average gas price`) `column_5a9834c1539` FROM q GROUP BY `TradingDate`",
       "commandTitle": "Visualization 1",
       "commandType": "auto",
       "commandVersion": 0,
       "commentThread": [],
       "commentsVisible": false,
       "contentSha256Hex": null,
       "customPlotOptions": {
        "redashChart": [
         {
          "key": "type",
          "value": "CHART"
         },
         {
          "key": "options",
          "value": {
           "alignYAxesAtZero": false,
           "coefficient": 1,
           "columnConfigurationMap": {
            "x": {
             "column": "TradingDate",
             "id": "column_5a9834c1527"
            },
            "y": [
             {
              "column": "Energy_spot_price",
              "id": "column_5a9834c1530",
              "transform": "SUM"
             },
             {
              "column": "Daily volume weighted average gas price",
              "id": "column_5a9834c1539",
              "transform": "SUM"
             }
            ]
           },
           "dateTimeFormat": "DD/MM/YYYY HH:mm",
           "direction": {
            "type": "counterclockwise"
           },
           "error_y": {
            "type": "data",
            "visible": true
           },
           "globalSeriesType": "line",
           "isAggregationOn": true,
           "legend": {
            "enabled": true,
            "placement": "below",
            "traceorder": "normal"
           },
           "missingValuesAsZero": true,
           "numberFormat": "0,0.[00000]",
           "percentFormat": "0[.]00%",
           "series": {
            "error_y": {
             "type": "data",
             "visible": true
            },
            "stacking": null
           },
           "seriesOptions": {
            "Daily volume weighted average gas price": {
             "type": "line",
             "yAxis": 0
            },
            "column_5a9834c1530": {
             "color": "#FFAB00",
             "name": "OTA electricity spot price",
             "type": "line",
             "yAxis": 0
            },
            "column_5a9834c1536": {
             "type": "line",
             "yAxis": 0
            },
            "column_5a9834c1539": {
             "color": "#077A9D",
             "name": "EMS daily gas spot price",
             "type": "line",
             "yAxis": 1
            }
           },
           "showDataLabels": false,
           "sizemode": "diameter",
           "sortX": true,
           "sortY": true,
           "swappedAxes": false,
           "textFormat": "",
           "useAggregationsUi": true,
           "valuesOptions": {},
           "version": 2,
           "xAxis": {
            "labels": {
             "enabled": true
            },
            "type": "-"
           },
           "yAxis": [
            {
             "rangeMax": 1000,
             "rangeMin": 0,
             "title": {
              "text": "$/MWh"
             },
             "type": "-"
            },
            {
             "opposite": true,
             "rangeMax": 100,
             "rangeMin": 0,
             "title": {
              "text": "$/GJ"
             },
             "type": "-"
            }
           ]
          }
         }
        ]
       },
       "datasetPreviewNameToCmdIdMap": {},
       "diffDeletes": [],
       "diffInserts": [],
       "displayType": "redashChart",
       "error": null,
       "errorDetails": null,
       "errorSummary": null,
       "errorTraceType": null,
       "finishTime": 0,
       "globalVars": {},
       "guid": "",
       "height": "auto",
       "hideCommandCode": false,
       "hideCommandResult": false,
       "iPythonMetadata": null,
       "inputWidgets": {},
       "isLockedInExamMode": false,
       "latestAssumeRoleInfo": null,
       "latestUser": "a user",
       "latestUserId": null,
       "listResultMetadata": null,
       "metadata": {},
       "nuid": "ca6ed083-ee8d-47ea-8383-e2d6170fa7e5",
       "origId": 0,
       "parentHierarchy": [],
       "pivotAggregation": null,
       "pivotColumns": null,
       "position": 1.5,
       "resultDbfsErrorMessage": null,
       "resultDbfsStatus": "INLINED_IN_TREE",
       "results": null,
       "showCommandTitle": false,
       "startTime": 0,
       "state": "input",
       "streamStates": {},
       "subcommandOptions": {
        "queryPlan": {
         "groups": [
          {
           "column": "TradingDate",
           "type": "column"
          }
         ],
         "selects": [
          {
           "column": "TradingDate",
           "type": "column"
          },
          {
           "alias": "column_5a9834c1530",
           "args": [
            {
             "column": "Energy_spot_price",
             "type": "column"
            }
           ],
           "function": "SUM",
           "type": "function"
          },
          {
           "alias": "column_5a9834c1539",
           "args": [
            {
             "column": "Daily volume weighted average gas price",
             "type": "column"
            }
           ],
           "function": "SUM",
           "type": "function"
          }
         ]
        }
       },
       "submitTime": 0,
       "subtype": "tableResultSubCmd.visualization",
       "tableResultIndex": 0,
       "tableResultSettingsMap": {},
       "useConsistentColors": false,
       "version": "CommandV1",
       "width": "auto",
       "workflows": null,
       "xColumns": null,
       "yColumns": null
      }
     },
     "output_type": "display_data"
    }
   ],
   "source": [
    "with L1 as (\n",
    "select TradingDate, GasVWAPDollarsPerGigajoule as `Daily volume weighted average gas price`, \n",
    "LAST_VALUE(CASE WHEN CarbonVWAPDollarsPerNZU <> 0 THEN CarbonVWAPDollarsPerNZU END, TRUE) OVER (ORDER BY TradingDate ROWS BETWEEN UNBOUNDED PRECEDING AND CURRENT ROW\n",
    ") AS `Daily volume weighted average carbon price`\n",
    "from  datahub.wholesale.gasandcarbonpriceindices where TradingDate >= '2021-01-01'\n",
    "), L2 as (\n",
    "select TradingDate, avg(DollarsPerMegawattHour) as Energy_spot_price\n",
    "from datahub.wholesale.predispatchandfinalenergyprices\n",
    "where TradingDate >= '2021-07-01'\n",
    "and PriceTypeCode = 'F'\n",
    "and PointOfConnectionCode = 'OTA2201'\n",
    "group by all\n",
    ")\n",
    "select L1.*, Energy_spot_price from L1 inner join L2 on L1.TradingDate = L2.TradingDate\n",
    "order by L1.TradingDate\n"
   ]
  },
  {
   "cell_type": "code",
   "execution_count": 0,
   "metadata": {
    "application/vnd.databricks.v1+cell": {
     "cellMetadata": {
      "byteLimit": 2048000,
      "rowLimit": 10000
     },
     "inputWidgets": {},
     "nuid": "8e8d17b6-fa1c-4125-886e-3d2c7d3a490f",
     "showTitle": false,
     "tableResultSettingsMap": {},
     "title": ""
    }
   },
   "outputs": [],
   "source": [
    "select date'2021-07-01' as TradingDate, CarbonVWAPDollarsPerNZU\n",
    "from datahub.wholesale.gasandcarbonpriceindices \n",
    "where TradingDate = (\n",
    "select max(TradingDate) from datahub.wholesale.gasandcarbonpriceindices\n",
    "where TradingDate <= date'2021-07-01' and CarbonVWAPDollarsPerNZU <> 0\n",
    ")\n",
    "union \n",
    "select TradingDate, CarbonVWAPDollarsPerNZU\n",
    "from datahub.wholesale.gasandcarbonpriceindices\n",
    "where TradingDate > date'2021-07-01'\n",
    "order by Tradingdate"
   ]
  }
 ],
 "metadata": {
  "application/vnd.databricks.v1+notebook": {
   "computePreferences": null,
   "dashboards": [],
   "environmentMetadata": {
    "base_environment": "",
    "environment_version": "4"
   },
   "inputWidgetPreferences": null,
   "language": "sql",
   "notebookMetadata": {
    "pythonIndentUnit": 4
   },
   "notebookName": "EAF Gas price review",
   "widgets": {}
  },
  "language_info": {
   "name": "sql"
  }
 },
 "nbformat": 4,
 "nbformat_minor": 0
}
