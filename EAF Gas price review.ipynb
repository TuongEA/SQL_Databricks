{
 "cells": [
  {
   "cell_type": "code",
   "execution_count": 0,
   "metadata": {
    "application/vnd.databricks.v1+cell": {
     "cellMetadata": {
      "byteLimit": 2048000,
      "rowLimit": 10000
     },
     "inputWidgets": {},
     "nuid": "2d7b6ae1-756c-4114-b14a-4bcbad7aeabc",
     "showTitle": true,
     "tableResultSettingsMap": {},
     "title": "Gas price"
    }
   },
   "outputs": [
    {
     "output_type": "display_data",
     "data": {
      "text/plain": [
       "Databricks visualization. Run in Databricks to view."
      ]
     },
     "metadata": {
      "application/vnd.databricks.v1.subcommand+json": {
       "baseErrorDetails": null,
       "bindings": {},
       "collapsed": false,
       "command": "%sql WITH q AS (select * from gas) SELECT `TradingDate`,SUM(`GasVWAPDollarsPerGigajoule`) `column_5a9834c1580`,SUM(`OTA_price`) `column_5a9834c1583` FROM q GROUP BY `TradingDate`",
       "commandTitle": "Visualization 1",
       "commandType": "auto",
       "commandVersion": 0,
       "commentThread": [],
       "commentsVisible": false,
       "contentSha256Hex": null,
       "customPlotOptions": {
        "redashChart": [
         {
          "key": "type",
          "value": "CHART"
         },
         {
          "key": "options",
          "value": {
           "alignYAxesAtZero": false,
           "coefficient": 1,
           "columnConfigurationMap": {
            "x": {
             "column": "TradingDate",
             "id": "column_5a9834c1577"
            },
            "y": [
             {
              "column": "GasVWAPDollarsPerGigajoule",
              "id": "column_5a9834c1580",
              "transform": "SUM"
             },
             {
              "column": "OTA_price",
              "id": "column_5a9834c1583",
              "transform": "SUM"
             }
            ]
           },
           "dateTimeFormat": "DD/MM/YYYY HH:mm",
           "direction": {
            "type": "counterclockwise"
           },
           "error_y": {
            "type": "data",
            "visible": true
           },
           "globalSeriesType": "line",
           "isAggregationOn": true,
           "legend": {
            "enabled": true,
            "placement": "below",
            "traceorder": "normal"
           },
           "missingValuesAsZero": true,
           "numberFormat": "0,0.[00000]",
           "percentFormat": "0[.]00%",
           "series": {
            "error_y": {
             "type": "data",
             "visible": true
            },
            "stacking": null
           },
           "seriesOptions": {
            "column_5a9834c1580": {
             "name": "EMS gas price",
             "type": "line",
             "yAxis": 1
            },
            "column_5a9834c1583": {
             "name": "OTA spot price",
             "type": "line",
             "yAxis": 0
            }
           },
           "showDataLabels": false,
           "sizemode": "diameter",
           "sortX": true,
           "sortY": true,
           "swappedAxes": false,
           "textFormat": "",
           "useAggregationsUi": true,
           "valuesOptions": {},
           "version": 2,
           "xAxis": {
            "labels": {
             "enabled": true
            },
            "type": "-"
           },
           "yAxis": [
            {
             "rangeMax": 1000,
             "rangeMin": 0,
             "title": {
              "text": "$/MWh"
             },
             "type": "-"
            },
            {
             "opposite": true,
             "rangeMax": 100,
             "rangeMin": 0,
             "title": {
              "text": "$/GJ"
             },
             "type": "-"
            }
           ]
          }
         }
        ]
       },
       "datasetPreviewNameToCmdIdMap": {},
       "diffDeletes": [],
       "diffInserts": [],
       "displayType": "redashChart",
       "error": null,
       "errorDetails": null,
       "errorSummary": null,
       "errorTraceType": null,
       "finishTime": 0,
       "globalVars": {},
       "guid": "",
       "height": "auto",
       "hideCommandCode": false,
       "hideCommandResult": false,
       "iPythonMetadata": null,
       "inputWidgets": {},
       "isLockedInExamMode": false,
       "latestAssumeRoleInfo": null,
       "latestUser": "a user",
       "latestUserId": null,
       "listResultMetadata": null,
       "metadata": {},
       "nuid": "b7a4b78b-28a5-4255-94d6-668702ee8d7e",
       "origId": 0,
       "parentHierarchy": [],
       "pivotAggregation": null,
       "pivotColumns": null,
       "position": 1.25,
       "resultDbfsErrorMessage": null,
       "resultDbfsStatus": "INLINED_IN_TREE",
       "results": null,
       "showCommandTitle": false,
       "startTime": 0,
       "state": "input",
       "streamStates": {},
       "subcommandOptions": {
        "queryPlan": {
         "groups": [
          {
           "column": "TradingDate",
           "type": "column"
          }
         ],
         "selects": [
          {
           "column": "TradingDate",
           "type": "column"
          },
          {
           "alias": "column_5a9834c1580",
           "args": [
            {
             "column": "GasVWAPDollarsPerGigajoule",
             "type": "column"
            }
           ],
           "function": "SUM",
           "type": "function"
          },
          {
           "alias": "column_5a9834c1583",
           "args": [
            {
             "column": "OTA_price",
             "type": "column"
            }
           ],
           "function": "SUM",
           "type": "function"
          }
         ]
        }
       },
       "submitTime": 0,
       "subtype": "tableResultSubCmd.visualization",
       "tableResultIndex": 0,
       "tableResultSettingsMap": {},
       "useConsistentColors": false,
       "version": "CommandV1",
       "width": "auto",
       "workflows": null,
       "xColumns": null,
       "yColumns": null
      }
     },
     "output_type": "display_data"
    }
   ],
   "source": [
    "Create or replace temporary view gas as (\n",
    "WITH prepared AS (\n",
    "  SELECT \n",
    "    TradingDate,\n",
    "    -- Replace 0 with NULL so we can apply last_value over non-zero values\n",
    "    CASE \n",
    "      WHEN GasVWAPDollarsPerGigajoule = 0 THEN NULL \n",
    "      ELSE GasVWAPDollarsPerGigajoule \n",
    "    END AS NonZeroValue\n",
    "  FROM datahub.wholesale.gasandcarbonpriceindices\n",
    "  WHERE TradingDate BETWEEN '2019-01-01' AND '2025-06-30'\n",
    "),\n",
    "with_filled AS (\n",
    "  SELECT \n",
    "    TradingDate,\n",
    "    -- Use last non-null (i.e., non-zero) value\n",
    "    LAST_VALUE(NonZeroValue, TRUE) OVER (\n",
    "      ORDER BY TradingDate \n",
    "      ROWS BETWEEN UNBOUNDED PRECEDING AND CURRENT ROW\n",
    "    ) AS GasVWAPDollarsPerGigajoule\n",
    "  FROM prepared\n",
    "), Daily_price as (\n",
    "select TradingDate, Avg(DollarsPerMegawattHour) as OTA_price from ea_prd.gold.factpredispatchandfinalenergyprices\n",
    "where TradingDate BETWEEN '2020-07-01' AND '2025-06-30'\n",
    "and PointOfConnectionCode = 'OTA2201' and PriceTypeCode = 'F'\n",
    "group by TradingDate\n",
    ")\n",
    "SELECT CASE\n",
    "    WHEN MONTH(a.TradingDate) <= 6 THEN (YEAR(a.TradingDate) - 1) || '/' || YEAR(a.TradingDate)\n",
    "    ELSE YEAR(a.TradingDate) || '/' || (YEAR(a.TradingDate) + 1)\n",
    "  END AS `Year`, \n",
    "  a.TradingDate, \n",
    "  a.GasVWAPDollarsPerGigajoule, \n",
    "  AVG(GasVWAPDollarsPerGigajoule) OVER (\n",
    "      ORDER BY a.TradingDate \n",
    "      ROWS BETWEEN 29 PRECEDING AND CURRENT ROW\n",
    "    ) AS RollingAvg30DollarsPerGJ,\n",
    "  a.GasVWAPDollarsPerGigajoule*10 as Scaled_Gas_Price, \n",
    "  b.OTA_price \n",
    "FROM with_filled a INNER JOIN Daily_price b ON a.TradingDate = b.TradingDate\n",
    "WHERE a.TradingDate BETWEEN '2021-07-01' AND '2025-06-30'\n",
    "order by a.TradingDate\n",
    ");\n",
    "\n",
    "select * from gas"
   ]
  },
  {
   "cell_type": "code",
   "execution_count": 0,
   "metadata": {
    "application/vnd.databricks.v1+cell": {
     "cellMetadata": {
      "byteLimit": 2048000,
      "rowLimit": 10000
     },
     "inputWidgets": {},
     "nuid": "e0c36a55-86d9-4380-9fc7-7ac353111495",
     "showTitle": true,
     "tableResultSettingsMap": {},
     "title": "Carbon price"
    }
   },
   "outputs": [],
   "source": [
    "Create or replace temporary view carbon as (\n",
    "WITH prepared AS (\n",
    "  SELECT \n",
    "    TradingDate,\n",
    "    -- Replace 0 with NULL so we can apply last_value over non-zero values\n",
    "    CASE \n",
    "      WHEN CarbonVWAPDollarsPerNZU = 0 THEN NULL \n",
    "      ELSE CarbonVWAPDollarsPerNZU \n",
    "    END AS NonZeroValue\n",
    "  FROM datahub.wholesale.gasandcarbonpriceindices\n",
    "  WHERE TradingDate BETWEEN '2019-01-01' AND '2025-06-30'\n",
    "),\n",
    "with_filled AS (\n",
    "  SELECT \n",
    "    TradingDate,\n",
    "    -- Use last non-null (i.e., non-zero) value\n",
    "    LAST_VALUE(NonZeroValue, TRUE) OVER (\n",
    "      ORDER BY TradingDate \n",
    "      ROWS BETWEEN UNBOUNDED PRECEDING AND CURRENT ROW\n",
    "    ) AS CarbonVWAPDollarsPerNZU\n",
    "  FROM prepared\n",
    ")\n",
    "SELECT \n",
    "  CASE\n",
    "    WHEN MONTH(TradingDate) <= 6 THEN (YEAR(TradingDate) - 1) || '/' || YEAR(TradingDate)\n",
    "    ELSE YEAR(TradingDate) || '/' || (YEAR(TradingDate) + 1)\n",
    "  END AS `Year`, \n",
    "  TradingDate, \n",
    "  CarbonVWAPDollarsPerNZU,\n",
    "  AVG(CarbonVWAPDollarsPerNZU) OVER (\n",
    "      ORDER BY TradingDate \n",
    "      ROWS BETWEEN 29 PRECEDING AND CURRENT ROW\n",
    "    ) AS RollingAvg30DollarsPerNZU\n",
    "FROM with_filled\n",
    "WHERE TradingDate BETWEEN '2021-07-01' AND '2025-06-30'\n",
    ");\n",
    "\n",
    "SELECT * from carbon"
   ]
  },
  {
   "cell_type": "code",
   "execution_count": 0,
   "metadata": {
    "application/vnd.databricks.v1+cell": {
     "cellMetadata": {
      "byteLimit": 2048000,
      "rowLimit": 10000
     },
     "inputWidgets": {},
     "nuid": "3b9056ed-30c7-4f49-ac6d-dbd5449002c6",
     "showTitle": true,
     "tableResultSettingsMap": {},
     "title": "Rolling average gas price"
    }
   },
   "outputs": [],
   "source": [
    "select gas.TradingDate, gas.GasVWAPDollarsPerGigajoule as Daily_ETS_inclusive_Gas_Price, \n",
    "gas.RollingAvg30DollarsPerGJ as 30daysRollingAverage_ETS_inclusive_Gas_Price, \n",
    "gas.RollingAvg30DollarsPerGJ - carbon.RollingAvg30DollarsPerNZU* 0.05397 as 30daysRollingAverage_ETS_exnclusive_Gas_Price\n",
    "from carbon inner join gas on carbon.TradingDate = gas.TradingDate"
   ]
  }
 ],
 "metadata": {
  "application/vnd.databricks.v1+notebook": {
   "computePreferences": null,
   "dashboards": [],
   "environmentMetadata": {
    "base_environment": "",
    "environment_version": "4"
   },
   "inputWidgetPreferences": null,
   "language": "sql",
   "notebookMetadata": {
    "pythonIndentUnit": 4
   },
   "notebookName": "EAF Gas price review",
   "widgets": {}
  },
  "language_info": {
   "name": "sql"
  }
 },
 "nbformat": 4,
 "nbformat_minor": 0
}
