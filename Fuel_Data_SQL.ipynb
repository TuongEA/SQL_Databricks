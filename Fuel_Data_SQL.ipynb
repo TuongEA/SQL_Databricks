{
 "cells": [
  {
   "cell_type": "code",
   "execution_count": 0,
   "metadata": {
    "application/vnd.databricks.v1+cell": {
     "cellMetadata": {
      "byteLimit": 2048000,
      "rowLimit": 10000
     },
     "inputWidgets": {},
     "nuid": "8d8f6393-f208-41ae-a4de-e3d7a21060ad",
     "showTitle": false,
     "tableResultSettingsMap": {},
     "title": ""
    }
   },
   "outputs": [],
   "source": [
    "SET TIME ZONE 'Pacific/Auckland';"
   ]
  },
  {
   "cell_type": "markdown",
   "metadata": {
    "application/vnd.databricks.v1+cell": {
     "cellMetadata": {
      "byteLimit": 2048000,
      "rowLimit": 10000
     },
     "inputWidgets": {},
     "nuid": "5df4fd24-c3cb-483a-a3b1-a66770c14c58",
     "showTitle": false,
     "tableResultSettingsMap": {},
     "title": ""
    }
   },
   "source": [
    "#GAS"
   ]
  },
  {
   "cell_type": "code",
   "execution_count": 0,
   "metadata": {
    "application/vnd.databricks.v1+cell": {
     "cellMetadata": {
      "byteLimit": 2048000,
      "rowLimit": 10000
     },
     "collapsed": true,
     "inputWidgets": {},
     "nuid": "7ecf7a16-b5bb-47fb-aed2-75886df6f33f",
     "showTitle": true,
     "tableResultSettingsMap": {
      "0": {
       "dataGridStateBlob": "{\"version\":1,\"tableState\":{\"columnPinning\":{\"left\":[\"#row_number#\"],\"right\":[]},\"columnSizing\":{\"StoredVolumePetajoules\":258},\"columnVisibility\":{}},\"settings\":{\"columns\":{}},\"syncTimestamp\":1757903835806}",
       "filterBlob": null,
       "queryPlanFiltersBlob": null,
       "tableResultIndex": 0
      }
     },
     "title": "Gas Storage from datahub"
    }
   },
   "outputs": [],
   "source": [
    "with L1 (\n",
    "  select ParticipantCode, Date, max(SubmissionDate) as SubmissionDate\n",
    "  from datahub.wholesale.thermalfueldisclosuresstoragegas group by all\n",
    ")\n",
    "select a.ParticipantCode, a.Date,a.SubmissionDate,\n",
    "a.StoredVolumePetajoules, a.MaxWithdrawalRateTerajoulesPerDay, a.MaxInjectionRateTerajoulesPerDay, a.MaxStorageCapacityTerajoules\n",
    "from datahub.wholesale.thermalfueldisclosuresstoragegas a\n",
    "inner join L1 b\n",
    "on (a.ParticipantCode = b.ParticipantCode \n",
    "and a.Date = b.Date \n",
    "and a.SubmissionDate = b.SubmissionDate)\n",
    "order by ParticipantCode, Date\n"
   ]
  },
  {
   "cell_type": "code",
   "execution_count": 0,
   "metadata": {
    "application/vnd.databricks.v1+cell": {
     "cellMetadata": {
      "byteLimit": 2048000,
      "rowLimit": 10000
     },
     "inputWidgets": {},
     "nuid": "df98305b-30f6-46d5-8400-abaa5ccb33ea",
     "showTitle": true,
     "tableResultSettingsMap": {
      "0": {
       "dataGridStateBlob": "{\"version\":1,\"tableState\":{\"columnPinning\":{\"left\":[\"#row_number#\"],\"right\":[]},\"columnSizing\":{},\"columnVisibility\":{}},\"settings\":{\"columns\":{}},\"syncTimestamp\":1759801868467}",
       "filterBlob": null,
       "queryPlanFiltersBlob": null,
       "tableResultIndex": 0
      }
     },
     "title": "Gas Contracts from datahub only"
    }
   },
   "outputs": [],
   "source": [
    "\n",
    "with L1 (\n",
    "  select ParticipantCode, MonthEnded, max(SubmissionDate) as SubmissionDate\n",
    "  from datahub.wholesale.thermalfueldisclosurescontractsgas group by all\n",
    ")\n",
    "select a.ParticipantCode,a.MonthEnded,a.SubmissionDate,ContractedGasMinPetajoulesPerMonth,ContractedGasMaxPetajoulesPerMonth,DeliverabilityMinTerajoulesPerDay,DeliverabilityMaxTerajoulesPerDay\n",
    "from  datahub.wholesale.thermalfueldisclosurescontractsgas a\n",
    "inner join L1 b\n",
    "on (a.ParticipantCode = b.ParticipantCode \n",
    "and a.MonthEnded = b.MonthEnded \n",
    "and a.SubmissionDate = b.SubmissionDate)\n",
    "--where a.SubmissionDate >= '2025-09-05'\n",
    "order by ParticipantCode, MonthEnded"
   ]
  },
  {
   "cell_type": "code",
   "execution_count": 0,
   "metadata": {
    "application/vnd.databricks.v1+cell": {
     "cellMetadata": {
      "byteLimit": 2048000,
      "rowLimit": 10000
     },
     "inputWidgets": {},
     "nuid": "201128d2-7736-4f15-81e3-1a1f2df732f8",
     "showTitle": true,
     "tableResultSettingsMap": {},
     "title": "Latest gas storage"
    }
   },
   "outputs": [],
   "source": [
    "with L1 (\n",
    "  select ParticipantCode, Max(Date) as latestDate\n",
    "  from datahub.wholesale.thermalfueldisclosuresstoragegas group by all\n",
    "), L2 as (\n",
    "  select a.ParticipantCode, a.Date, Max(a.SubmissionDate) as SubmissionDate\n",
    "  from datahub.wholesale.thermalfueldisclosuresstoragegas a inner join L1 on (a.Date = L1.latestDate and a.ParticipantCode = L1.ParticipantCode)\n",
    "  group by all\n",
    ")\n",
    "select b.*, a.StoredVolumePetajoules, a.MaxWithdrawalRateTerajoulesPerDay, a.MaxInjectionRateTerajoulesPerDay, a.MaxStorageCapacityTerajoules\n",
    "from datahub.wholesale.thermalfueldisclosuresstoragegas a\n",
    "inner join L2 b\n",
    "on (a.ParticipantCode = b.ParticipantCode \n",
    "and a.Date = b.Date \n",
    "and a.SubmissionDate = b.SubmissionDate)\n",
    "order by a.ParticipantCode, a.Date"
   ]
  },
  {
   "cell_type": "code",
   "execution_count": 0,
   "metadata": {
    "application/vnd.databricks.v1+cell": {
     "cellMetadata": {
      "byteLimit": 2048000,
      "rowLimit": 10000
     },
     "inputWidgets": {},
     "nuid": "db54f83a-5ca1-4671-9a25-4ea88aeb76f4",
     "showTitle": true,
     "tableResultSettingsMap": {
      "0": {
       "dataGridStateBlob": "{\"version\":1,\"tableState\":{\"columnPinning\":{\"left\":[\"#row_number#\"],\"right\":[]},\"columnSizing\":{},\"columnVisibility\":{}},\"settings\":{\"columns\":{}},\"syncTimestamp\":1760046775863}",
       "filterBlob": null,
       "queryPlanFiltersBlob": null,
       "tableResultIndex": 0
      }
     },
     "title": "Gas Storage including data before 2025-04-06"
    }
   },
   "outputs": [],
   "source": [
    "with CTCT as (\n",
    "  SELECT 'CTCT' as ParticipantCode, `Date`, '2025-04-02' as SubmissionDate, \n",
    "  StoredVolume_PJ,MaxWithdrawlRate_TJperDay,MaxInjectionRate_TJperDay, 3500 as MaxStorageCapacity_TJ\n",
    "  FROM csv.`/Volumes/datahub/marketmonitoring/marketmonitoring/Sam/s46data/DataSummary/GasStorageContact.csv`\n",
    "  WITH ( header = 'true', inferSchema = 'true' )\n",
    "), TODD as (\n",
    "  SELECT 'TODD' as ParticipantCode, `Date`, '2025-04-02' as SubmissionDate, \n",
    "  StoredVolume_PJ,MaxWithdrawlRate_TJperDay,MaxInjectionRate_TJperDay,3500 as MaxStorageCapacity_TJ\n",
    "  FROM csv.`/Volumes/datahub/marketmonitoring/marketmonitoring/Sam/s46data/DataSummary/GasStorageTODD.csv`\n",
    "  WITH ( header = 'true', inferSchema = 'true' )\n",
    "), DataHub as (\n",
    "  select a.ParticipantCode, a.Date,a.SubmissionDate,\n",
    "  StoredVolumePetajoules, a.MaxWithdrawalRateTerajoulesPerDay, a.MaxInjectionRateTerajoulesPerDay, a.MaxStorageCapacityTerajoules\n",
    "  from datahub.wholesale.thermalfueldisclosuresstoragegas a\n",
    "), L1 as (\n",
    "  select * from DataHub union select * from CTCT union select * from TODD\n",
    "), L2 (\n",
    "  select ParticipantCode, Date, max(SubmissionDate) as SubmissionDate\n",
    "  from L1 group by all\n",
    ")\n",
    "-- select * from L1\n",
    "select a.ParticipantCode, a.Date,a.SubmissionDate,\n",
    "a.StoredVolumePetajoules, a.MaxWithdrawalRateTerajoulesPerDay, \n",
    "coalesce(a.MaxInjectionRateTerajoulesPerDay,a.MaxWithdrawalRateTerajoulesPerDay) as MaxInjectionRateTerajoulesPerDay , \n",
    "a.MaxStorageCapacityTerajoules\n",
    "from L1 a\n",
    "inner join L2 b\n",
    "on (a.ParticipantCode = b.ParticipantCode \n",
    "and a.Date = b.Date \n",
    "and a.SubmissionDate = b.SubmissionDate)\n",
    "where a.ParticipantCode <> 'GENE'\n",
    "order by `Date`, ParticipantCode, SubmissionDate"
   ]
  },
  {
   "cell_type": "code",
   "execution_count": 0,
   "metadata": {
    "application/vnd.databricks.v1+cell": {
     "cellMetadata": {
      "byteLimit": 2048000,
      "rowLimit": 10000
     },
     "inputWidgets": {},
     "nuid": "30d0cb14-d99c-488e-a83f-72a421b87c22",
     "showTitle": true,
     "tableResultSettingsMap": {
      "0": {
       "dataGridStateBlob": "{\"version\":1,\"tableState\":{\"columnPinning\":{\"left\":[\"#row_number#\"],\"right\":[]},\"columnSizing\":{},\"columnVisibility\":{}},\"settings\":{\"columns\":{}},\"syncTimestamp\":1759978258741}",
       "filterBlob": null,
       "queryPlanFiltersBlob": null,
       "tableResultIndex": 0
      }
     },
     "title": "Gas Contracts including data before 2025-04-01"
    }
   },
   "outputs": [],
   "source": [
    "with CTCT as (\n",
    "  SELECT 'CTCT' as ParticipantCode, *\n",
    "  FROM csv.`/Volumes/datahub/marketmonitoring/marketmonitoring/Sam/s46data/DataSummary/ContractedGasCTCT.csv`\n",
    "  WITH ( header = 'true', inferSchema = 'true' )\n",
    "), GENE as (\n",
    "  SELECT 'GENE' as ParticipantCode, *\n",
    "  FROM csv.`/Volumes/datahub/marketmonitoring/marketmonitoring/Sam/s46data/DataSummary/ContractedGasGENE.csv`\n",
    "  WITH ( header = 'true', inferSchema = 'true' )\n",
    "), TODD as (\n",
    "  SELECT 'TODD' as ParticipantCode, *\n",
    "  FROM csv.`/Volumes/datahub/marketmonitoring/marketmonitoring/Sam/s46data/DataSummary/ContractedGasTODD.csv`\n",
    "  WITH ( header = 'true', inferSchema = 'true' )\n",
    "), L1 as (select * from CTCT union select * from GENE union select * from TODD),\n",
    "L2 as (\n",
    "select ParticipantCode, last_day(`Month`) as MonthEnded, SubmissionDate,\n",
    "ContractedGasMin_PJperMonth as ContractedGasMinPetajoulesPerMonth,\n",
    "ContractedGasMax_PJperMonth as ContractedGasMaxPetajoulesPerMonth,\n",
    "DeliverabilityMin_TJperday as DeliverabilityMinTerajoulesPerDay,\n",
    "DeliverabilityMax_TJperday as DeliverabilityMaxTerajoulesPerDay\n",
    "from L1\n",
    "union\n",
    "select ParticipantCode,MonthEnded,SubmissionDate,\n",
    "ContractedGasMinPetajoulesPerMonth,ContractedGasMaxPetajoulesPerMonth,\n",
    "DeliverabilityMinTerajoulesPerDay,DeliverabilityMaxTerajoulesPerDay\n",
    "from  datahub.wholesale.thermalfueldisclosurescontractsgas\n",
    "), L3 (\n",
    "  select ParticipantCode, MonthEnded, max(SubmissionDate) as SubmissionDate\n",
    "  from L2 group by all\n",
    ")\n",
    ", GasContracts as (\n",
    "select a.ParticipantCode,a.MonthEnded,a.SubmissionDate,\n",
    "ContractedGasMinPetajoulesPerMonth,ContractedGasMaxPetajoulesPerMonth,\n",
    "Cast(coalesce(DeliverabilityMinTerajoulesPerDay,0) as double) as DeliverabilityMinTerajoulesPerDay,\n",
    "Cast(coalesce(DeliverabilityMaxTerajoulesPerDay,0) as double) as DeliverabilityMaxTerajoulesPerDay\n",
    "from L2 a\n",
    "inner join L3 b\n",
    "on (a.ParticipantCode = b.ParticipantCode \n",
    "and a.MonthEnded = b.MonthEnded \n",
    "and a.SubmissionDate = b.SubmissionDate)\n",
    ")\n",
    "select ParticipantCode, cast(date_trunc('month', MonthEnded) as Date) as MonthStarted, MonthEnded, SubmissionDate,\n",
    "ContractedGasMinPetajoulesPerMonth as MinPJPerMonth,\n",
    "ContractedGasMaxPetajoulesPerMonth as MaxPJPerMonth,\n",
    "DeliverabilityMinTerajoulesPerDay as MinTJPerDay,\n",
    "DeliverabilityMaxTerajoulesPerDay as MaxTJPerDay,\n",
    "round(greatest(ContractedGasMinPetajoulesPerMonth * 1000/Day(MonthEnded), DeliverabilityMinTerajoulesPerDay),3) as DailyMinTJ,\n",
    "round(least(ContractedGasMaxPetajoulesPerMonth * 1000/Day(MonthEnded), NULLIF(DeliverabilityMaxTerajoulesPerDay, 0)),3) as DailyMaxTJ\n",
    "\n",
    "from GasContracts\n",
    "order by MonthEnded, ParticipantCode"
   ]
  },
  {
   "cell_type": "code",
   "execution_count": 0,
   "metadata": {
    "application/vnd.databricks.v1+cell": {
     "cellMetadata": {},
     "inputWidgets": {},
     "nuid": "3aa3f90e-c7a2-40c9-8c6d-97b3c649a740",
     "showTitle": false,
     "tableResultSettingsMap": {},
     "title": ""
    }
   },
   "outputs": [],
   "source": []
  },
  {
   "cell_type": "code",
   "execution_count": 0,
   "metadata": {
    "application/vnd.databricks.v1+cell": {
     "cellMetadata": {
      "byteLimit": 2048000,
      "rowLimit": 10000
     },
     "inputWidgets": {},
     "nuid": "3d485ea7-39c3-40b1-8ae3-ac8d5b29e402",
     "showTitle": true,
     "tableResultSettingsMap": {
      "0": {
       "dataGridStateBlob": "{\"version\":1,\"tableState\":{\"columnPinning\":{\"left\":[\"#row_number#\"],\"right\":[]},\"columnSizing\":{},\"columnVisibility\":{}},\"settings\":{\"columns\":{}},\"syncTimestamp\":1756162216033}",
       "filterBlob": null,
       "queryPlanFiltersBlob": null,
       "tableResultIndex": 0
      }
     },
     "title": "Volume Weighted Average Purchase Gas Price On Spot Market"
    }
   },
   "outputs": [
    {
     "output_type": "display_data",
     "data": {
      "text/plain": [
       "Databricks visualization. Run in Databricks to view."
      ]
     },
     "metadata": {
      "application/vnd.databricks.v1.subcommand+json": {
       "baseErrorDetails": null,
       "bindings": {},
       "collapsed": false,
       "command": "%sql WITH q AS (select DateSupplied as TradingDate, ParticipantCode, \nmax(PriceExclCarbonDollarsPerGigajoule) as max_price,\nmin(PriceExclCarbonDollarsPerGigajoule) as min_price,\nsum(PriceExclCarbonDollarsPerGigajoule*VolumeGigajoules)/sum(VolumeGigajoules) as VWAP\nfrom ea_prd.gold.factthermalfueldisclosurestransactionsgas\nwhere DateSupplied >= '2025-01-01' and VolumeGigajoules > 0\nand Counterparty in ('Sport Market','Spot Market','Spot market','Tradepoint')\nand TransactionType in ('Purchase','Purchase '\n                      \n                       ) \ngroup by all\nOrder by ParticipantCode, TradingDate) SELECT `TradingDate`,`VWAP`,`ParticipantCode` FROM q",
       "commandTitle": "Visualization 1",
       "commandType": "auto",
       "commandVersion": 0,
       "commentThread": [],
       "commentsVisible": false,
       "contentSha256Hex": null,
       "customPlotOptions": {
        "redashChart": [
         {
          "key": "type",
          "value": "CHART"
         },
         {
          "key": "options",
          "value": {
           "alignYAxesAtZero": true,
           "coefficient": 1,
           "columnConfigurationMap": {
            "series": {
             "column": "ParticipantCode",
             "id": "column_6fc982c676"
            },
            "x": {
             "column": "TradingDate",
             "id": "column_6fc982c669"
            },
            "y": [
             {
              "column": "VWAP",
              "id": "column_6fc982c6101"
             }
            ]
           },
           "dateTimeFormat": "DD/MM/YYYY HH:mm",
           "direction": {
            "type": "counterclockwise"
           },
           "error_y": {
            "type": "data",
            "visible": true
           },
           "globalSeriesType": "scatter",
           "legend": {
            "traceorder": "normal"
           },
           "missingValuesAsZero": true,
           "numberFormat": "0,0.[00000]",
           "percentFormat": "0[.]00%",
           "series": {
            "error_y": {
             "type": "data",
             "visible": true
            },
            "stacking": null
           },
           "seriesOptions": {
            "VWAP": {
             "type": "scatter",
             "yAxis": 0
            },
            "column_6fc982c672": {
             "type": "scatter",
             "yAxis": 0
            },
            "max_price": {
             "type": "scatter",
             "yAxis": 0
            }
           },
           "showDataLabels": false,
           "sizemode": "diameter",
           "sortX": true,
           "sortY": true,
           "swappedAxes": false,
           "textFormat": "",
           "useAggregationsUi": true,
           "valuesOptions": {},
           "version": 2,
           "xAxis": {
            "labels": {
             "enabled": true
            },
            "type": "-"
           },
           "yAxis": [
            {
             "type": "-"
            },
            {
             "opposite": true,
             "type": "-"
            }
           ]
          }
         }
        ]
       },
       "datasetPreviewNameToCmdIdMap": {},
       "diffDeletes": [],
       "diffInserts": [],
       "displayType": "redashChart",
       "error": null,
       "errorDetails": null,
       "errorSummary": null,
       "errorTraceType": null,
       "finishTime": 0,
       "globalVars": {},
       "guid": "",
       "height": "auto",
       "hideCommandCode": false,
       "hideCommandResult": false,
       "iPythonMetadata": null,
       "inputWidgets": {},
       "isLockedInExamMode": false,
       "latestAssumeRoleInfo": null,
       "latestUser": "a user",
       "latestUserId": null,
       "listResultMetadata": null,
       "metadata": {
        "byteLimit": 2048000,
        "rowLimit": 10000
       },
       "nuid": "abdcfe7e-5d68-4b9a-8363-5699143b814b",
       "origId": 0,
       "parentHierarchy": [],
       "pivotAggregation": null,
       "pivotColumns": null,
       "position": 4.125,
       "resultDbfsErrorMessage": null,
       "resultDbfsStatus": "INLINED_IN_TREE",
       "results": null,
       "showCommandTitle": false,
       "startTime": 0,
       "state": "input",
       "streamStates": {},
       "subcommandOptions": {
        "queryPlan": {
         "selects": [
          {
           "column": "TradingDate",
           "type": "column"
          },
          {
           "column": "VWAP",
           "type": "column"
          },
          {
           "column": "ParticipantCode",
           "type": "column"
          }
         ]
        }
       },
       "submitTime": 0,
       "subtype": "tableResultSubCmd.visualization",
       "tableResultIndex": 0,
       "tableResultSettingsMap": {},
       "useConsistentColors": false,
       "version": "CommandV1",
       "width": "auto",
       "workflows": null,
       "xColumns": null,
       "yColumns": null
      }
     },
     "output_type": "display_data"
    }
   ],
   "source": [
    "select DateSupplied as TradingDate, ParticipantCode, \n",
    "max(PriceExclCarbonDollarsPerGigajoule) as max_price,\n",
    "min(PriceExclCarbonDollarsPerGigajoule) as min_price,\n",
    "sum(PriceExclCarbonDollarsPerGigajoule*VolumeGigajoules)/sum(VolumeGigajoules) as VWAP\n",
    "from ea_prd.gold.factthermalfueldisclosurestransactionsgas\n",
    "where DateSupplied >= '2025-01-01' and VolumeGigajoules > 0\n",
    "and Counterparty in ('Sport Market','Spot Market','Spot market','Tradepoint')\n",
    "and TransactionType in ('Purchase','Purchase '\n",
    "                      --  ,'Sale','Sell'\n",
    "                       ) \n",
    "group by all\n",
    "Order by ParticipantCode, TradingDate"
   ]
  },
  {
   "cell_type": "code",
   "execution_count": 0,
   "metadata": {
    "application/vnd.databricks.v1+cell": {
     "cellMetadata": {
      "byteLimit": 2048000,
      "rowLimit": 10000
     },
     "inputWidgets": {},
     "nuid": "a0da5dca-abcd-4fb3-abb6-7af1d289d613",
     "showTitle": false,
     "tableResultSettingsMap": {
      "0": {
       "dataGridStateBlob": "{\"version\":1,\"tableState\":{\"columnPinning\":{\"left\":[\"#row_number#\"],\"right\":[]},\"columnSizing\":{},\"columnVisibility\":{}},\"settings\":{\"columns\":{}},\"syncTimestamp\":1756162843357}",
       "filterBlob": null,
       "queryPlanFiltersBlob": null,
       "tableResultIndex": 0
      }
     },
     "title": ""
    }
   },
   "outputs": [
    {
     "output_type": "display_data",
     "data": {
      "text/plain": [
       "Databricks visualization. Run in Databricks to view."
      ]
     },
     "metadata": {
      "application/vnd.databricks.v1.subcommand+json": {
       "baseErrorDetails": null,
       "bindings": {},
       "collapsed": false,
       "command": "%sql WITH q AS (select TradingDate, GasVWAPDollarsPerGigajoule from datahub.wholesale.gasandcarbonpriceindices \nwhere TradingDate >= '2020-01-01'\norder by TradingDate) SELECT `TradingDate`,SUM(`GasVWAPDollarsPerGigajoule`) `column_6fc982c6103` FROM q GROUP BY `TradingDate`",
       "commandTitle": "Visualization 1",
       "commandType": "auto",
       "commandVersion": 0,
       "commentThread": [],
       "commentsVisible": false,
       "contentSha256Hex": null,
       "customPlotOptions": {
        "redashChart": [
         {
          "key": "type",
          "value": "CHART"
         },
         {
          "key": "options",
          "value": {
           "alignYAxesAtZero": true,
           "coefficient": 1,
           "columnConfigurationMap": {
            "x": {
             "column": "TradingDate",
             "id": "column_6fc982c6102"
            },
            "y": [
             {
              "column": "GasVWAPDollarsPerGigajoule",
              "id": "column_6fc982c6103",
              "transform": "SUM"
             }
            ]
           },
           "dateTimeFormat": "DD/MM/YYYY HH:mm",
           "direction": {
            "type": "counterclockwise"
           },
           "error_y": {
            "type": "data",
            "visible": true
           },
           "globalSeriesType": "line",
           "legend": {
            "traceorder": "normal"
           },
           "missingValuesAsZero": true,
           "numberFormat": "0,0.[00000]",
           "percentFormat": "0[.]00%",
           "series": {
            "error_y": {
             "type": "data",
             "visible": true
            },
            "stacking": null
           },
           "seriesOptions": {
            "column_6fc982c6103": {
             "name": "GasVWAPDollarsPerGigajoule",
             "yAxis": 0
            }
           },
           "showDataLabels": false,
           "sizemode": "diameter",
           "sortX": true,
           "sortY": true,
           "swappedAxes": false,
           "textFormat": "",
           "useAggregationsUi": true,
           "valuesOptions": {},
           "version": 2,
           "xAxis": {
            "labels": {
             "enabled": true
            },
            "type": "-"
           },
           "yAxis": [
            {
             "type": "-"
            },
            {
             "opposite": true,
             "type": "-"
            }
           ]
          }
         }
        ]
       },
       "datasetPreviewNameToCmdIdMap": {},
       "diffDeletes": [],
       "diffInserts": [],
       "displayType": "redashChart",
       "error": null,
       "errorDetails": null,
       "errorSummary": null,
       "errorTraceType": null,
       "finishTime": 0,
       "globalVars": {},
       "guid": "",
       "height": "auto",
       "hideCommandCode": false,
       "hideCommandResult": false,
       "iPythonMetadata": null,
       "inputWidgets": {},
       "isLockedInExamMode": false,
       "latestAssumeRoleInfo": null,
       "latestUser": "a user",
       "latestUserId": null,
       "listResultMetadata": null,
       "metadata": {
        "byteLimit": 2048000,
        "rowLimit": 10000
       },
       "nuid": "ae413335-446a-4c83-9652-45aebf1d5d0d",
       "origId": 0,
       "parentHierarchy": [],
       "pivotAggregation": null,
       "pivotColumns": null,
       "position": 4.1875,
       "resultDbfsErrorMessage": null,
       "resultDbfsStatus": "INLINED_IN_TREE",
       "results": null,
       "showCommandTitle": false,
       "startTime": 0,
       "state": "input",
       "streamStates": {},
       "subcommandOptions": {
        "queryPlan": {
         "groups": [
          {
           "column": "TradingDate",
           "type": "column"
          }
         ],
         "selects": [
          {
           "column": "TradingDate",
           "type": "column"
          },
          {
           "alias": "column_6fc982c6103",
           "args": [
            {
             "column": "GasVWAPDollarsPerGigajoule",
             "type": "column"
            }
           ],
           "function": "SUM",
           "type": "function"
          }
         ]
        }
       },
       "submitTime": 0,
       "subtype": "tableResultSubCmd.visualization",
       "tableResultIndex": 0,
       "tableResultSettingsMap": {},
       "useConsistentColors": false,
       "version": "CommandV1",
       "width": "auto",
       "workflows": null,
       "xColumns": null,
       "yColumns": null
      }
     },
     "output_type": "display_data"
    }
   ],
   "source": [
    "select TradingDate, GasVWAPDollarsPerGigajoule from datahub.wholesale.gasandcarbonpriceindices \n",
    "where TradingDate >= '2020-01-01'\n",
    "order by TradingDate"
   ]
  },
  {
   "cell_type": "markdown",
   "metadata": {
    "application/vnd.databricks.v1+cell": {
     "cellMetadata": {
      "byteLimit": 2048000,
      "rowLimit": 10000
     },
     "inputWidgets": {},
     "nuid": "c9a55019-3099-4022-8e2c-9dcbe3fedc93",
     "showTitle": false,
     "tableResultSettingsMap": {},
     "title": ""
    }
   },
   "source": [
    "#COAL"
   ]
  },
  {
   "cell_type": "code",
   "execution_count": 0,
   "metadata": {
    "application/vnd.databricks.v1+cell": {
     "cellMetadata": {
      "byteLimit": 2048000,
      "rowLimit": 10000
     },
     "inputWidgets": {},
     "nuid": "3f168f50-8e97-472c-b70b-208ca44bc2de",
     "showTitle": false,
     "tableResultSettingsMap": {
      "0": {
       "dataGridStateBlob": "{\"version\":1,\"tableState\":{\"columnPinning\":{\"left\":[\"#row_number#\"],\"right\":[]},\"columnSizing\":{},\"columnVisibility\":{}},\"settings\":{\"columns\":{}},\"syncTimestamp\":1760054147408}",
       "filterBlob": null,
       "queryPlanFiltersBlob": null,
       "tableResultIndex": 0
      }
     },
     "title": ""
    }
   },
   "outputs": [],
   "source": [
    "with Coal as (\n",
    "  SELECT 'GENE' as ParticipantCode, `Date`, `Date`+Interval 1 day as SubmissionDate, FuelName as Fuel,\n",
    "  20.54 as `EnrgFactor_GJ/tonne`, TotalVolumeStored_kt as Storage_kTon, \n",
    "  round(DeliveriesReceivedInLastWeek_kt,3) as LastWeekDelivery_kTon, \n",
    "  round(DeliveryPriceExclCarbon_dollarsperkilotonne/1000,2) as `CO2exclusive_$/tonne`,\n",
    "  VolumeOptions_kt as BurningOptions_kTon\n",
    " --,*\n",
    "  FROM csv.`/Volumes/datahub/marketmonitoring/marketmonitoring/Sam/s46data/DataSummary/CoalStorageAndReceived.csv`\n",
    "  WITH ( header = 'true', inferSchema = 'true' )\n",
    ")\n",
    "select * from Coal\n"
   ]
  },
  {
   "cell_type": "code",
   "execution_count": 0,
   "metadata": {
    "application/vnd.databricks.v1+cell": {
     "cellMetadata": {
      "byteLimit": 2048000,
      "rowLimit": 10000
     },
     "inputWidgets": {},
     "nuid": "864e9683-c6f3-488f-828a-6478beec21c4",
     "showTitle": false,
     "tableResultSettingsMap": {},
     "title": ""
    }
   },
   "outputs": [],
   "source": [
    "SELECT 'GENE' as ParticipantCode, `Date`, `Date`+Interval 1 day as SubmissionDate, FuelName as Fuel,\n",
    "  20.54 as `EnrgFactor_GJ/tonne`, TotalVolumeStored_kt as Storage_kTon, \n",
    "  round(DeliveriesReceivedInLastWeek_kt,3) as LastWeekDelivery_kTon, \n",
    "  round(DeliveryPriceExclCarbon_dollarsperkilotonne/1000,2) as `CO2exclusive_$/tonne`,\n",
    "  VolumeOptions_kt as BurningOptions_kTon\n",
    " ,*\n",
    "  FROM csv.`/Volumes/datahub/marketmonitoring/marketmonitoring/Sam/s46data/DataSummary/CoalStorageAndReceived.csv`\n",
    "  WITH ( header = 'true', inferSchema = 'true' )"
   ]
  },
  {
   "cell_type": "code",
   "execution_count": 0,
   "metadata": {
    "application/vnd.databricks.v1+cell": {
     "cellMetadata": {
      "byteLimit": 2048000,
      "rowLimit": 10000
     },
     "inputWidgets": {},
     "nuid": "759e3f58-b34a-46c9-834a-8a8691b8349a",
     "showTitle": true,
     "tableResultSettingsMap": {
      "0": {
       "dataGridStateBlob": "{\"version\":1,\"tableState\":{\"columnPinning\":{\"left\":[\"#row_number#\"],\"right\":[]},\"columnSizing\":{},\"columnVisibility\":{}},\"settings\":{\"columns\":{}},\"syncTimestamp\":1760048939433}",
       "filterBlob": null,
       "queryPlanFiltersBlob": null,
       "tableResultIndex": 0
      }
     },
     "title": "Coal Storage"
    }
   },
   "outputs": [],
   "source": [
    "with Coal as (\n",
    "  SELECT 'GENE' as ParticipantCode, `Date`, `Date`+Interval 1 day as SubmissionDate, FuelName as Fuel,\n",
    "  20.54 as `EnrgFactor_GJ/tonne`, TotalVolumeStored_kt as Storage_kTon, \n",
    "  round(DeliveriesReceivedInLastWeek_kt,3) as LastWeekDelivery_kTon, \n",
    "  round(DeliveryPriceExclCarbon_dollarsperkilotonne/1000,2) as `CO2exclusive_$/tonne`,\n",
    "  VolumeOptions_kt as BurningOptions_kTon\n",
    " --,*\n",
    "  FROM csv.`/Volumes/datahub/marketmonitoring/marketmonitoring/Sam/s46data/DataSummary/CoalStorageAndReceived.csv`\n",
    "  WITH ( header = 'true', inferSchema = 'true' )\n",
    "), L1 as (\n",
    "select * from Coal\n",
    "union\n",
    "select ParticipantCode, Date, SubmissionDate, Fuel,\n",
    "case \n",
    "  when SpecificEnergyMegaJoulesPerTonne < 100 then SpecificEnergyMegaJoulesPerTonne \n",
    "  else SpecificEnergyMegaJoulesPerTonne/1000\n",
    "end as `EnrgFactor_GJ/tonne`,\n",
    "TotalVolumeStoredKilotonnes as Storage_kTon,\n",
    "DeliveriesReceivedInLastWeekKilotonnes as LastWeekDelivery_kTon,\n",
    "case \n",
    "  when DeliveryPriceExclCarbonDollarsPerKilotonne > 10000 then round(DeliveryPriceExclCarbonDollarsPerKilotonne/10000,2)\n",
    "  else DeliveryPriceExclCarbonDollarsPerKilotonne\n",
    "end as `CO2exclusive_$/tonne`,\n",
    "VolumeOptionsKilotonnes as BurningOptions_kTon\n",
    "from datahub.wholesale.thermalfueldisclosuresstoragesolid\n",
    ")\n",
    "select ParticipantCode,Date,SubmissionDate,Fuel,\n",
    "round(1000 * Storage_kTon * `EnrgFactor_GJ/tonne`,3) as Storeage_GJ,\n",
    "round(`CO2exclusive_$/tonne`/`EnrgFactor_GJ/tonne`,2) as CO2exclusiveDollarsPer_GJ,\n",
    "`EnrgFactor_GJ/tonne`,\n",
    "Storage_kTon,\n",
    "BurningOptions_kTon,\n",
    "LastWeekDelivery_kTon,\n",
    "`CO2exclusive_$/tonne`\n",
    "from L1\n",
    "order by Date\n"
   ]
  },
  {
   "cell_type": "code",
   "execution_count": 0,
   "metadata": {
    "application/vnd.databricks.v1+cell": {
     "cellMetadata": {
      "byteLimit": 2048000,
      "rowLimit": 10000
     },
     "inputWidgets": {},
     "nuid": "4260b50c-a7c3-4b67-bf70-660df3155ec5",
     "showTitle": true,
     "tableResultSettingsMap": {
      "0": {
       "dataGridStateBlob": "{\"version\":1,\"tableState\":{\"columnPinning\":{\"left\":[\"#row_number#\"],\"right\":[]},\"columnSizing\":{},\"columnVisibility\":{}},\"settings\":{\"columns\":{}},\"syncTimestamp\":1756168358660}",
       "filterBlob": null,
       "queryPlanFiltersBlob": null,
       "tableResultIndex": 0
      }
     },
     "title": "Coal Storage"
    }
   },
   "outputs": [],
   "source": [
    "with L1 as (select ParticipantCode, Date, SubmissionDate, Fuel,\n",
    "case \n",
    "  when SpecificEnergyMegaJoulesPerTonne < 100 then SpecificEnergyMegaJoulesPerTonne \n",
    "  else SpecificEnergyMegaJoulesPerTonne/1000\n",
    "end as `EnrgFactor_GJ/tonne`,\n",
    "TotalVolumeStoredKilotonnes as Storage_kTon,\n",
    "DeliveriesReceivedInLastWeekKilotonnes as LastWeekDelivery_kTon,\n",
    "case \n",
    "  when DeliveryPriceExclCarbonDollarsPerKilotonne > 10000 then round(DeliveryPriceExclCarbonDollarsPerKilotonne/10000,2)\n",
    "  else DeliveryPriceExclCarbonDollarsPerKilotonne\n",
    "end as `CO2exclusive_$/tonne`,\n",
    "VolumeOptionsKilotonnes as BurningOptions_kTon\n",
    "from datahub.wholesale.thermalfueldisclosuresstoragesolid )\n",
    "\n",
    "select ParticipantCode,Date,SubmissionDate,Fuel,\n",
    "round(1000 * Storage_kTon * `EnrgFactor_GJ/tonne`,3) as Storeage_GJ,\n",
    "round(`CO2exclusive_$/tonne`/`EnrgFactor_GJ/tonne`,2) as CO2exclusiveDollarsPer_GJ,\n",
    "`EnrgFactor_GJ/tonne`,\n",
    "Storage_kTon,\n",
    "BurningOptions_kTon,\n",
    "LastWeekDelivery_kTon,\n",
    "`CO2exclusive_$/tonne`\n",
    "from L1\n",
    "--where Date > '2025-04-09'\n",
    "order by Date"
   ]
  },
  {
   "cell_type": "code",
   "execution_count": 0,
   "metadata": {
    "application/vnd.databricks.v1+cell": {
     "cellMetadata": {
      "byteLimit": 2048000,
      "rowLimit": 10000
     },
     "inputWidgets": {},
     "nuid": "1e3c066a-0ec6-4a1e-992f-bcba73ff1f66",
     "showTitle": true,
     "tableResultSettingsMap": {},
     "title": "Coal delivery"
    }
   },
   "outputs": [],
   "source": [
    "with L1 (\n",
    "  select ParticipantCode, Date, max(SubmissionDate) as SubmissionDate\n",
    "  from datahub.wholesale.thermalfueldisclosuresdeliveriessolid \n",
    "  -- where Date >= current_date()\n",
    "  group by all\n",
    ")\n",
    "select a.ParticipantCode, a.Date, a.SubmissionDate,a.Fuel, a.DeliveryVolumeKilotonnes*20.540 as DeliveryVolumeGJ, \n",
    "a.DeliveryVolumeKilotonnes as DeliveryVolumnkT\n",
    "from datahub.wholesale.thermalfueldisclosuresdeliveriessolid a\n",
    "inner join L1 b\n",
    "on (a.ParticipantCode = b.ParticipantCode \n",
    "and a.Date = b.Date \n",
    "and a.SubmissionDate = b.SubmissionDate)\n",
    "order by ParticipantCode, Date"
   ]
  },
  {
   "cell_type": "markdown",
   "metadata": {
    "application/vnd.databricks.v1+cell": {
     "cellMetadata": {
      "byteLimit": 2048000,
      "rowLimit": 10000
     },
     "inputWidgets": {},
     "nuid": "9a6ccc78-d8a8-4a1a-8867-787b2fa96440",
     "showTitle": false,
     "tableResultSettingsMap": {},
     "title": ""
    }
   },
   "source": [
    "#DIESEL"
   ]
  },
  {
   "cell_type": "code",
   "execution_count": 0,
   "metadata": {
    "application/vnd.databricks.v1+cell": {
     "cellMetadata": {
      "byteLimit": 2048000,
      "rowLimit": 10000
     },
     "collapsed": true,
     "inputWidgets": {},
     "nuid": "995f5dfc-956b-454f-9f4b-1905890810ff",
     "showTitle": true,
     "tableResultSettingsMap": {
      "0": {
       "dataGridStateBlob": "{\"version\":1,\"tableState\":{\"columnPinning\":{\"left\":[\"#row_number#\"],\"right\":[]},\"columnSizing\":{\"CO2ExclusiveDollarsPerGJ\":244},\"columnVisibility\":{}},\"settings\":{\"columns\":{}},\"syncTimestamp\":1756173549003}",
       "filterBlob": null,
       "queryPlanFiltersBlob": null,
       "tableResultIndex": 0
      }
     },
     "title": "Diesel Storage"
    }
   },
   "outputs": [],
   "source": [
    "with L1 (\n",
    "  select ParticipantCode, Date, max(SubmissionDate) as SubmissionDate\n",
    "  from datahub.wholesale.thermalfueldisclosuresstoragediesel group by all\n",
    ")\n",
    "select a.ParticipantCode, a.Date,a.SubmissionDate,a.StorageLocation,\n",
    "round(a.StoredDieselLitres * a.SpecificEnergyGigajoulesPerLitre,3) as Storage_GJ,\n",
    "round(a.DeliveriesReceivedInLastWeekLitres * a.SpecificEnergyGigajoulesPerLitre,3) as LastWeekDelivery_GJ,\n",
    "round(1000*a.DeliveryPriceExclCarbonDollarsPerLitre * a.SpecificEnergyGigajoulesPerLitre, 2) as CO2ExclusiveDollarsPerGJ,\n",
    "a.StoredDieselLitres, a.SpecificEnergyGigajoulesPerLitre,\n",
    "a.DeliveriesReceivedInLastWeekLitres, a.DeliveryPriceExclCarbonDollarsPerLitre\n",
    "\n",
    "from datahub.wholesale.thermalfueldisclosuresstoragediesel a\n",
    "inner join L1 b\n",
    "on (a.ParticipantCode = b.ParticipantCode \n",
    "and a.Date = b.Date \n",
    "and a.SubmissionDate = b.SubmissionDate)\n",
    "order by ParticipantCode, Date"
   ]
  },
  {
   "cell_type": "code",
   "execution_count": 0,
   "metadata": {
    "application/vnd.databricks.v1+cell": {
     "cellMetadata": {
      "byteLimit": 2048000,
      "rowLimit": 10000
     },
     "inputWidgets": {},
     "nuid": "54832d4a-9aa6-48ca-8b92-2033cf31ece4",
     "showTitle": true,
     "tableResultSettingsMap": {},
     "title": "Diesel latest storage"
    }
   },
   "outputs": [],
   "source": [
    "with L1 (\n",
    "  select ParticipantCode, Max(Date) as latestDate\n",
    "  from datahub.wholesale.thermalfueldisclosuresstoragediesel group by all\n",
    "), L2 as (\n",
    "  select a.ParticipantCode, a.Date, Max(a.SubmissionDate) as SubmissionDate\n",
    "  from datahub.wholesale.thermalfueldisclosuresstoragediesel a inner join L1 on (a.Date = L1.latestDate and a.ParticipantCode = L1.ParticipantCode)\n",
    "  group by all\n",
    ")\n",
    "select a.ParticipantCode, a.Date,a.SubmissionDate,a.StorageLocation,\n",
    "round(a.StoredDieselLitres * a.SpecificEnergyGigajoulesPerLitre,3) as Storage_GJ,\n",
    "round(a.DeliveriesReceivedInLastWeekLitres * a.SpecificEnergyGigajoulesPerLitre,3) as LastWeekDelivery_GJ,\n",
    "round(a.DeliveryPriceExclCarbonDollarsPerLitre/ a.SpecificEnergyGigajoulesPerLitre,2) as `LastWeekDelivery_$/GJ`,\n",
    "a.StoredDieselLitres, a.SpecificEnergyGigajoulesPerLitre,\n",
    "a.DeliveriesReceivedInLastWeekLitres, a.DeliveryPriceExclCarbonDollarsPerLitre\n",
    "from datahub.wholesale.thermalfueldisclosuresstoragediesel a\n",
    "inner join L2 b\n",
    "on (a.ParticipantCode = b.ParticipantCode \n",
    "and a.Date = b.Date \n",
    "and a.SubmissionDate = b.SubmissionDate)\n",
    "order by a.ParticipantCode, a.Date"
   ]
  },
  {
   "cell_type": "code",
   "execution_count": 0,
   "metadata": {
    "application/vnd.databricks.v1+cell": {
     "cellMetadata": {
      "byteLimit": 2048000,
      "rowLimit": 10000
     },
     "inputWidgets": {},
     "nuid": "fefead4a-71cb-46d6-9426-b4232c9832ad",
     "showTitle": true,
     "tableResultSettingsMap": {},
     "title": "Diesel Delivery"
    }
   },
   "outputs": [],
   "source": [
    "with L1 (\n",
    "  select ParticipantCode, MonthEnded, max(SubmissionDate) as SubmissionDate\n",
    "  from datahub.wholesale.thermalfueldisclosuresdeliveriesdiesel\n",
    "  where SubmissionDate >= '2025-04-23'\n",
    "  group by all\n",
    ")\n",
    "select a.ParticipantCode, a.MonthEnded, a.SubmissionDate,a.DeliveryVolumeLitres as DeliveryVolumnLitres\n",
    "from datahub.wholesale.thermalfueldisclosuresdeliveriesdiesel a\n",
    "inner join L1 b\n",
    "on (a.ParticipantCode = b.ParticipantCode \n",
    "and a.MonthEnded = b.MonthEnded \n",
    "and a.SubmissionDate = b.SubmissionDate)\n",
    "order by ParticipantCode, MonthEnded"
   ]
  },
  {
   "cell_type": "markdown",
   "metadata": {
    "application/vnd.databricks.v1+cell": {
     "cellMetadata": {
      "byteLimit": 2048000,
      "rowLimit": 10000
     },
     "inputWidgets": {},
     "nuid": "a6012a23-cbc6-4adc-9ae2-965a73d6cd50",
     "showTitle": false,
     "tableResultSettingsMap": {},
     "title": ""
    }
   },
   "source": [
    "#WIP"
   ]
  },
  {
   "cell_type": "code",
   "execution_count": 0,
   "metadata": {
    "application/vnd.databricks.v1+cell": {
     "cellMetadata": {
      "byteLimit": 2048000,
      "rowLimit": 10000
     },
     "inputWidgets": {},
     "nuid": "c8234db9-1f47-4249-ae81-04d03d76b302",
     "showTitle": false,
     "tableResultSettingsMap": {},
     "title": ""
    }
   },
   "outputs": [],
   "source": [
    "select * from datahub.wholesale.spdnodal where TradingDate = '2025-01-01' and CaseTypeCode = 'RTD' and Unit"
   ]
  },
  {
   "cell_type": "code",
   "execution_count": 0,
   "metadata": {
    "application/vnd.databricks.v1+cell": {
     "cellMetadata": {
      "byteLimit": 2048000,
      "rowLimit": 10000
     },
     "inputWidgets": {},
     "nuid": "a0953792-785e-49da-be8f-89d62ba4a797",
     "showTitle": true,
     "tableResultSettingsMap": {
      "0": {
       "dataGridStateBlob": "{\"version\":1,\"tableState\":{\"columnPinning\":{\"left\":[\"#row_number#\"],\"right\":[]},\"columnSizing\":{},\"columnVisibility\":{}},\"settings\":{\"columns\":{}},\"syncTimestamp\":1759960694469}",
       "filterBlob": null,
       "queryPlanFiltersBlob": null,
       "tableResultIndex": 0
      }
     },
     "title": "Weekly Huntly Reconciled Gas Generation vs Coal Generation"
    }
   },
   "outputs": [],
   "source": [
    "with L1 as (\n",
    "  select TradingDate, TradingPeriodNumber, MegawattsByGenerationType/2 as MWh,\n",
    "  floor((datediff(TradingDate, date_trunc('year', TradingDate)) / 7) + 1) as WeekOfYear\n",
    "  from datahub.wholesale.emissionsbygenerationtype\n",
    "  where TradingDate >= '2024-01-01' and GenerationType = 'Coal'\n",
    "), Coal as (\n",
    "  select year(TradingDate) as `Year`, case when WeekOfYear > 52 then 52 else WeekOfYear end as `Week`, round(sum(MWh),3) as MWh\n",
    "  from L1 group by 1,2\n",
    "), L2 as (\n",
    "  select TradingDate, TradingPeriodNumber, sum(KilowattHours/1000) as MWh,\n",
    "  floor((datediff(TradingDate, date_trunc('year', TradingDate)) / 7) + 1) as WeekOfYear\n",
    "  from datahub.wholesale.reconciledinjectionandofftake\n",
    "  where TradingDate >= '2024-01-01' and PointOfConnectionCode = 'HLY2201'\n",
    "  and TraderCode = 'GENE' and FlowDirection = 'Injection'\n",
    "  group by 1,2\n",
    "), Total as (\n",
    "select year(TradingDate) as `Year`, case when WeekOfYear > 52 then 52 else WeekOfYear end as `Week`, round(sum(MWh),3) as MWh\n",
    "from L2 group by 1,2\n",
    ")\n",
    "select Total.Year, Total.Week, Total.MWh as TotalMWh, Coal.MWh as CoalMWh, Total.MWh - Coal.MWh as GasMWh \n",
    "from Total inner join Coal using (`Year`,`Week`)\n",
    "order by 1, 2"
   ]
  },
  {
   "cell_type": "code",
   "execution_count": 0,
   "metadata": {
    "application/vnd.databricks.v1+cell": {
     "cellMetadata": {
      "byteLimit": 2048000,
      "rowLimit": 10000
     },
     "inputWidgets": {},
     "nuid": "be16ee28-b5be-4c16-855a-2c3587a5c889",
     "showTitle": true,
     "tableResultSettingsMap": {
      "0": {
       "dataGridStateBlob": "{\"version\":1,\"tableState\":{\"columnPinning\":{\"left\":[\"#row_number#\"],\"right\":[]},\"columnSizing\":{},\"columnVisibility\":{}},\"settings\":{\"columns\":{}},\"syncTimestamp\":1759958851201}",
       "filterBlob": null,
       "queryPlanFiltersBlob": null,
       "tableResultIndex": 0
      }
     },
     "title": "Weekly CTCT Stratford Reconciled Generation"
    }
   },
   "outputs": [],
   "source": [
    "with L1 as (\n",
    "  select TradingDate, TradingPeriodNumber, sum(KilowattHours/1000) as MWh,\n",
    "  floor((datediff(TradingDate, date_trunc('year', TradingDate)) / 7) + 1) as WeekOfYear\n",
    "  from datahub.wholesale.reconciledinjectionandofftake\n",
    "  where TradingDate >= '2024-01-01' and PointOfConnectionCode = 'SFD2201'\n",
    "  and TraderCode = 'CTCT' and FlowDirection = 'Injection'\n",
    "  group by 1,2\n",
    ") \n",
    "select year(TradingDate) as `Year`, case when WeekOfYear > 52 then 52 else WeekOfYear end as `Week`, round(sum(MWh),3) as MWh\n",
    "from L1 group by 1,2\n",
    "order by 1,2\n"
   ]
  },
  {
   "cell_type": "code",
   "execution_count": 0,
   "metadata": {
    "application/vnd.databricks.v1+cell": {
     "cellMetadata": {
      "byteLimit": 2048000,
      "rowLimit": 10000
     },
     "inputWidgets": {},
     "nuid": "6788796f-d2e4-47bc-8bba-b9580c290315",
     "showTitle": true,
     "tableResultSettingsMap": {},
     "title": "Weekly Todd Reconciled Peakers' Generation"
    }
   },
   "outputs": [],
   "source": [
    "with L1 as (\n",
    "  select TradingDate, TradingPeriodNumber, sum(KilowattHours/1000) as MWh,\n",
    "  floor((datediff(TradingDate, date_trunc('year', TradingDate)) / 7) + 1) as WeekOfYear\n",
    "  from datahub.wholesale.reconciledinjectionandofftake\n",
    "  where TradingDate >= '2024-01-01' and PointOfConnectionCode in ('JRD1101','MKE1101')\n",
    "  and TraderCode = 'TODD' and FlowDirection = 'Injection'\n",
    "  group by 1,2\n",
    ") \n",
    "select year(TradingDate) as `Year`, case when WeekOfYear > 52 then 52 else WeekOfYear end as `Week`, round(sum(MWh),3) as MWh\n",
    "from L1 group by 1,2\n",
    "order by 1,2"
   ]
  },
  {
   "cell_type": "code",
   "execution_count": 0,
   "metadata": {
    "application/vnd.databricks.v1+cell": {
     "cellMetadata": {
      "byteLimit": 2048000,
      "rowLimit": 10000
     },
     "inputWidgets": {},
     "nuid": "236967e1-9391-4c28-9c5b-52a95f291288",
     "showTitle": true,
     "tableResultSettingsMap": {
      "0": {
       "dataGridStateBlob": "{\"version\":1,\"tableState\":{\"columnPinning\":{\"left\":[\"#row_number#\"],\"right\":[]},\"columnSizing\":{},\"columnVisibility\":{}},\"settings\":{\"columns\":{}},\"syncTimestamp\":1759958181031}",
       "filterBlob": null,
       "queryPlanFiltersBlob": null,
       "tableResultIndex": 0
      }
     },
     "title": "Using SPD Nodal to estimate  weekly generation data"
    }
   },
   "outputs": [],
   "source": [
    "with L1 as (\n",
    "  select\n",
    "  TradingDate,TradingPeriodNumber,IntervalDateTime, \n",
    "  PointofConnectionCode, sum(SPDInitialMegawatts) as InitialMW, sum(SPDMegawatts) as GenerationMW\n",
    "  from datahub.wholesale.spdnodal \n",
    "  where TradingDate >= '2024-01-01' and CaseTypeCode = 'RTD' and UnitCode <> \"N/A\"\n",
    "  and Fuel in ('Coal','Gas','Coal/Gas') \n",
    "  -- and PointOfConnectionCode in ('JRD1101','MKE1101')\n",
    "  and PointOfConnectionCode in ('HLY2201')\n",
    "  and Technology <> 'Cogeneration'\n",
    "  group by all\n",
    "), L2 as (\n",
    "  select TradingDate,TradingPeriodNumber, PointofConnectionCode, avg(InitialMW) as InitialMW, avg(GenerationMW) as GenerationMW,\n",
    "  floor((datediff(TradingDate, date_trunc('year', TradingDate)) / 7) + 1) as WeekOfYear\n",
    "  from L1 group by all\n",
    "  order by all\n",
    ")\n",
    "select year(TradingDate) as `Year`, case when WeekOfYear > 52 then 52 else WeekOfYear end as `Week`, \n",
    "round(avg(GenerationMW)/2,3) as MW, round(sum(GenerationMW)/2,3) as MWh\n",
    "from L2 group by 1,2\n",
    "order by 1,2"
   ]
  },
  {
   "cell_type": "code",
   "execution_count": 0,
   "metadata": {
    "application/vnd.databricks.v1+cell": {
     "cellMetadata": {
      "byteLimit": 2048000,
      "rowLimit": 10000
     },
     "inputWidgets": {},
     "nuid": "5710528a-82ec-4d49-b148-b39c2450101f",
     "showTitle": false,
     "tableResultSettingsMap": {},
     "title": ""
    }
   },
   "outputs": [],
   "source": [
    "select Date as TradingDate, Fuel, DeliveryVolumeKilotonnes as Delivery_kTonnes,SubmissionDate\n",
    "  from datahub.wholesale.thermalfueldisclosuresdeliveriessolid"
   ]
  },
  {
   "cell_type": "code",
   "execution_count": 0,
   "metadata": {
    "application/vnd.databricks.v1+cell": {
     "cellMetadata": {
      "byteLimit": 2048000,
      "rowLimit": 10000
     },
     "inputWidgets": {},
     "nuid": "149095ef-33b5-47fb-a0b8-2043bc7d7c98",
     "showTitle": false,
     "tableResultSettingsMap": {},
     "title": ""
    }
   },
   "outputs": [],
   "source": [
    "with L1 as (\n",
    "  select Date as TradingDate, max(SubmissionDate) as SubmissionDate\n",
    "  from ea_prd.gold.factthermalfueldisclosuresdeliveriessolid\n",
    "  group by all\n",
    ")\n",
    "select Date as TradingDate, Fuel, DeliveryVolumeKilotonnes as Delivery_kTonnes,a.SubmissionDate\n",
    "from ea_prd.gold.factthermalfueldisclosuresdeliveriessolid a \n",
    "inner join L1 b on (a.Date = b.TradingDate and a.SubmissionDate = b.SubmissionDate)\n",
    "order by D"
   ]
  },
  {
   "cell_type": "code",
   "execution_count": 0,
   "metadata": {
    "application/vnd.databricks.v1+cell": {
     "cellMetadata": {
      "byteLimit": 2048000,
      "rowLimit": 10000
     },
     "inputWidgets": {},
     "nuid": "af5034a9-9aec-42dc-8c62-71acc52fe4b4",
     "showTitle": false,
     "tableResultSettingsMap": {
      "0": {
       "dataGridStateBlob": "{\"version\":1,\"tableState\":{\"columnPinning\":{\"left\":[\"#row_number#\"],\"right\":[]},\"columnSizing\":{},\"columnVisibility\":{}},\"settings\":{\"columns\":{}},\"syncTimestamp\":1759893238368}",
       "filterBlob": null,
       "queryPlanFiltersBlob": null,
       "tableResultIndex": 0
      }
     },
     "title": ""
    }
   },
   "outputs": [],
   "source": [
    "With CoalGeneration as (\n",
    "  select TradingDate, sum(MegawattsByGenerationType/2) as CoalGeneration_MWh\n",
    "  from datahub.wholesale.emissionsbygenerationtype\n",
    "  where TradingDate >= '2025-04-09' and GenerationType = 'Coal'\n",
    "  group by all\n",
    "), CoalDelivery as (\n",
    "  select Date as TradingDate, Fuel, DeliveryVolumeKilotonnes as Delivery_kTonnes,SubmissionDate\n",
    "  from datahub.wholesale.thermalfueldisclosuresdeliveriessolid\n",
    "  order by Date\n",
    "), CoalStorage as (\n",
    "  select Date  as TradingDate, Fuel, TotalVolumeStoredKilotonnes as Stored_kTonnes,SpecificEnergyMegaJoulesPerTonne as GJperTonne\n",
    "  from datahub.wholesale.thermalfueldisclosuresstoragesolid\n",
    ")\n",
    "  select a.TradingDate, a.CoalGeneration_MWh, b.delivery_ktonnes as CoalDelivery_kTonnes,Stored_kTonnes, GJperTonne\n",
    "  from CoalGeneration a \n",
    "  left join CoalDelivery b on a.TradingDate = b.TradingDate\n",
    "  left join CoalStorage c on a.TradingDate = c.TradingDate\n",
    "  order by TradingDate\n",
    "  "
   ]
  },
  {
   "cell_type": "code",
   "execution_count": 0,
   "metadata": {
    "application/vnd.databricks.v1+cell": {
     "cellMetadata": {
      "byteLimit": 2048000,
      "rowLimit": 10000
     },
     "inputWidgets": {},
     "nuid": "d6f572b0-6699-46fb-b330-cbad20519759",
     "showTitle": false,
     "tableResultSettingsMap": {
      "0": {
       "dataGridStateBlob": "{\"version\":1,\"tableState\":{\"columnPinning\":{\"left\":[\"#row_number#\"],\"right\":[]},\"columnSizing\":{},\"columnVisibility\":{}},\"settings\":{\"columns\":{}},\"syncTimestamp\":1760387064881}",
       "filterBlob": null,
       "queryPlanFiltersBlob": null,
       "tableResultIndex": 0
      }
     },
     "title": ""
    }
   },
   "outputs": [],
   "source": [
    "select Date as TradingDate, Fuel, DeliveryVolumeKilotonnes as Delivery_kTonnes,SubmissionDate\n",
    "  from datahub.wholesale.thermalfueldisclosuresdeliveriessolid\n",
    "  order by Date"
   ]
  },
  {
   "cell_type": "code",
   "execution_count": 0,
   "metadata": {
    "application/vnd.databricks.v1+cell": {
     "cellMetadata": {
      "byteLimit": 2048000,
      "rowLimit": 10000
     },
     "inputWidgets": {},
     "nuid": "f92b38d0-9284-4072-9540-b71ba02526ae",
     "showTitle": false,
     "tableResultSettingsMap": {
      "0": {
       "dataGridStateBlob": "{\"version\":1,\"tableState\":{\"columnPinning\":{\"left\":[\"#row_number#\"],\"right\":[]},\"columnSizing\":{},\"columnVisibility\":{}},\"settings\":{\"columns\":{}},\"syncTimestamp\":1759279834934}",
       "filterBlob": null,
       "queryPlanFiltersBlob": null,
       "tableResultIndex": 0
      }
     },
     "title": ""
    }
   },
   "outputs": [],
   "source": [
    "select Date, Fuel, DeliveryVolumeKilotonnes as Delivery_kTonnes,SubmissionDate\n",
    "from datahub.wholesale.thermalfueldisclosuresdeliveriessolid\n",
    "order by Date"
   ]
  },
  {
   "cell_type": "code",
   "execution_count": 0,
   "metadata": {
    "application/vnd.databricks.v1+cell": {
     "cellMetadata": {
      "byteLimit": 2048000,
      "rowLimit": 10000
     },
     "inputWidgets": {},
     "nuid": "83d1136a-1dd1-49a8-b93a-d6968990fae4",
     "showTitle": false,
     "tableResultSettingsMap": {},
     "title": ""
    }
   },
   "outputs": [],
   "source": [
    "select * from datahub.wholesale.thermalfueldisclosurestransactionsgas\n",
    "order by ParticipantCode"
   ]
  },
  {
   "cell_type": "code",
   "execution_count": 0,
   "metadata": {
    "application/vnd.databricks.v1+cell": {
     "cellMetadata": {
      "byteLimit": 2048000,
      "rowLimit": 10000
     },
     "inputWidgets": {},
     "nuid": "95830aae-77e4-4f33-9b0d-7cbb60c1b004",
     "showTitle": false,
     "tableResultSettingsMap": {
      "0": {
       "dataGridStateBlob": "{\"version\":1,\"tableState\":{\"columnPinning\":{\"left\":[\"#row_number#\"],\"right\":[]},\"columnSizing\":{},\"columnVisibility\":{}},\"settings\":{\"columns\":{}},\"syncTimestamp\":1756176899369}",
       "filterBlob": null,
       "queryPlanFiltersBlob": null,
       "tableResultIndex": 0
      }
     },
     "title": ""
    }
   },
   "outputs": [
    {
     "output_type": "display_data",
     "data": {
      "text/plain": [
       "Databricks visualization. Run in Databricks to view."
      ]
     },
     "metadata": {
      "application/vnd.databricks.v1.subcommand+json": {
       "baseErrorDetails": null,
       "bindings": {},
       "collapsed": false,
       "command": "%sql WITH q AS (with L1 as (\n  select TradingDate, TradingPeriodNumber, KilowattHours/500 as MW  from ea_prd.gold.factreconciledinjectionandofftake\nwhere FlowDirection = 'Injection'\nand PointOfConnectionCode = 'SFD2201' and TraderCode = 'CTCT'\n), L2 as (\n  select TradingDate, TradingPeriodNumber, DollarsPerMegawattHour from ea_prd.gold.factpredispatchandfinalenergyprices\n  where PointOfConnectionCode = 'SFD2201' and PriceTypeCode = 'F'\n)\nselect L1.* ,L2.dollarspermegawatthour from L1 inner join L2 on (L1.TradingDate = L2.TradingDate and L1.TradingPeriodNumber = L2.TradingPeriodNumber)\nwhere L1.Tradingdate >= '2020-01-01'\norder by 1,2) SELECT `MW`,`dollarspermegawatthour` FROM q",
       "commandTitle": "Visualization 1",
       "commandType": "auto",
       "commandVersion": 0,
       "commentThread": [],
       "commentsVisible": false,
       "contentSha256Hex": null,
       "customPlotOptions": {
        "redashChart": [
         {
          "key": "type",
          "value": "CHART"
         },
         {
          "key": "options",
          "value": {
           "alignYAxesAtZero": true,
           "coefficient": 1,
           "columnConfigurationMap": {
            "x": {
             "column": "MW",
             "id": "column_6fc982c6112"
            },
            "y": [
             {
              "column": "dollarspermegawatthour",
              "id": "column_6fc982c6114"
             }
            ]
           },
           "dateTimeFormat": "DD/MM/YYYY HH:mm",
           "direction": {
            "type": "counterclockwise"
           },
           "error_y": {
            "type": "data",
            "visible": true
           },
           "globalSeriesType": "box",
           "legend": {
            "traceorder": "normal"
           },
           "missingValuesAsZero": true,
           "numberFormat": "0,0.[00000]",
           "percentFormat": "0[.]00%",
           "series": {
            "error_y": {
             "type": "data",
             "visible": true
            },
            "stacking": null
           },
           "seriesOptions": {
            "column_6fc982c6114": {
             "type": "box",
             "yAxis": 0
            },
            "dollarspermegawatthour": {
             "type": "box",
             "yAxis": 0
            }
           },
           "showDataLabels": false,
           "sizemode": "diameter",
           "sortX": true,
           "sortY": true,
           "swappedAxes": false,
           "textFormat": "",
           "useAggregationsUi": true,
           "valuesOptions": {},
           "version": 2,
           "xAxis": {
            "labels": {
             "enabled": true
            },
            "type": "-"
           },
           "yAxis": [
            {
             "type": "-"
            },
            {
             "opposite": true,
             "type": "-"
            }
           ]
          }
         }
        ]
       },
       "datasetPreviewNameToCmdIdMap": {},
       "diffDeletes": [],
       "diffInserts": [],
       "displayType": "redashChart",
       "error": null,
       "errorDetails": null,
       "errorSummary": null,
       "errorTraceType": null,
       "finishTime": 0,
       "globalVars": {},
       "guid": "",
       "height": "auto",
       "hideCommandCode": false,
       "hideCommandResult": false,
       "iPythonMetadata": null,
       "inputWidgets": {},
       "isLockedInExamMode": false,
       "latestAssumeRoleInfo": null,
       "latestUser": "a user",
       "latestUserId": null,
       "listResultMetadata": null,
       "metadata": {
        "byteLimit": 2048000,
        "rowLimit": 10000
       },
       "nuid": "cf374a36-ae84-485f-b06e-9a96832e03e5",
       "origId": 0,
       "parentHierarchy": [],
       "pivotAggregation": null,
       "pivotColumns": null,
       "position": 7.9375,
       "resultDbfsErrorMessage": null,
       "resultDbfsStatus": "INLINED_IN_TREE",
       "results": null,
       "showCommandTitle": false,
       "startTime": 0,
       "state": "input",
       "streamStates": {},
       "subcommandOptions": {
        "queryPlan": {
         "selects": [
          {
           "column": "MW",
           "type": "column"
          },
          {
           "column": "dollarspermegawatthour",
           "type": "column"
          }
         ]
        }
       },
       "submitTime": 0,
       "subtype": "tableResultSubCmd.visualization",
       "tableResultIndex": 0,
       "tableResultSettingsMap": {},
       "useConsistentColors": false,
       "version": "CommandV1",
       "width": "auto",
       "workflows": null,
       "xColumns": null,
       "yColumns": null
      }
     },
     "output_type": "display_data"
    },
    {
     "output_type": "display_data",
     "data": {
      "text/plain": [
       "Databricks visualization. Run in Databricks to view."
      ]
     },
     "metadata": {
      "application/vnd.databricks.v1.subcommand+json": {
       "baseErrorDetails": null,
       "bindings": {},
       "collapsed": false,
       "command": "%sql WITH q AS (with L1 as (\n  select TradingDate, TradingPeriodNumber, KilowattHours/500 as MW  from ea_prd.gold.factreconciledinjectionandofftake\nwhere FlowDirection = 'Injection'\nand PointOfConnectionCode = 'SFD2201' and TraderCode = 'CTCT'\n), L2 as (\n  select TradingDate, TradingPeriodNumber, DollarsPerMegawattHour from ea_prd.gold.factpredispatchandfinalenergyprices\n  where PointOfConnectionCode = 'SFD2201' and PriceTypeCode = 'F'\n)\nselect L1.* ,L2.dollarspermegawatthour from L1 inner join L2 on (L1.TradingDate = L2.TradingDate and L1.TradingPeriodNumber = L2.TradingPeriodNumber)\nwhere L1.Tradingdate >= '2020-01-01'\norder by 1,2) SELECT `MW`,`dollarspermegawatthour` FROM q",
       "commandTitle": "Visualization 1 - Duplicate",
       "commandType": "auto",
       "commandVersion": 0,
       "commentThread": [],
       "commentsVisible": false,
       "contentSha256Hex": null,
       "customPlotOptions": {
        "redashChart": [
         {
          "key": "type",
          "value": "CHART"
         },
         {
          "key": "options",
          "value": {
           "alignYAxesAtZero": true,
           "coefficient": 1,
           "columnConfigurationMap": {
            "x": {
             "column": "MW",
             "id": "column_6fc982c6112"
            },
            "y": [
             {
              "column": "dollarspermegawatthour",
              "id": "column_6fc982c6114"
             }
            ]
           },
           "dateTimeFormat": "DD/MM/YYYY HH:mm",
           "direction": {
            "type": "counterclockwise"
           },
           "error_y": {
            "type": "data",
            "visible": true
           },
           "globalSeriesType": "scatter",
           "legend": {
            "traceorder": "normal"
           },
           "missingValuesAsZero": true,
           "numberFormat": "0,0.[00000]",
           "percentFormat": "0[.]00%",
           "series": {
            "error_y": {
             "type": "data",
             "visible": true
            },
            "stacking": null
           },
           "seriesOptions": {
            "column_6fc982c6114": {
             "type": "scatter",
             "yAxis": 0
            },
            "dollarspermegawatthour": {
             "type": "scatter",
             "yAxis": 0
            }
           },
           "showDataLabels": false,
           "sizemode": "diameter",
           "sortX": true,
           "sortY": true,
           "swappedAxes": false,
           "textFormat": "",
           "useAggregationsUi": true,
           "valuesOptions": {},
           "version": 2,
           "xAxis": {
            "labels": {
             "enabled": true
            },
            "type": "-"
           },
           "yAxis": [
            {
             "type": "-"
            },
            {
             "opposite": true,
             "type": "-"
            }
           ]
          }
         }
        ]
       },
       "datasetPreviewNameToCmdIdMap": {},
       "diffDeletes": [],
       "diffInserts": [],
       "displayType": "redashChart",
       "error": null,
       "errorDetails": null,
       "errorSummary": null,
       "errorTraceType": null,
       "finishTime": 0,
       "globalVars": {},
       "guid": "",
       "height": "auto",
       "hideCommandCode": false,
       "hideCommandResult": false,
       "iPythonMetadata": null,
       "inputWidgets": {},
       "isLockedInExamMode": false,
       "latestAssumeRoleInfo": null,
       "latestUser": "a user",
       "latestUserId": null,
       "listResultMetadata": null,
       "metadata": {
        "byteLimit": 2048000,
        "rowLimit": 10000
       },
       "nuid": "d38ff982-e7c3-4161-b114-31c6c7dd6ea4",
       "origId": 0,
       "parentHierarchy": [],
       "pivotAggregation": null,
       "pivotColumns": null,
       "position": 8.9375,
       "resultDbfsErrorMessage": null,
       "resultDbfsStatus": "INLINED_IN_TREE",
       "results": null,
       "showCommandTitle": false,
       "startTime": 0,
       "state": "input",
       "streamStates": {},
       "subcommandOptions": {
        "queryPlan": {
         "selects": [
          {
           "column": "MW",
           "type": "column"
          },
          {
           "column": "dollarspermegawatthour",
           "type": "column"
          }
         ]
        }
       },
       "submitTime": 0,
       "subtype": "tableResultSubCmd.visualization",
       "tableResultIndex": 0,
       "tableResultSettingsMap": {},
       "useConsistentColors": false,
       "version": "CommandV1",
       "width": "auto",
       "workflows": null,
       "xColumns": null,
       "yColumns": null
      }
     },
     "output_type": "display_data"
    }
   ],
   "source": [
    "with L1 as (\n",
    "  select TradingDate, TradingPeriodNumber, KilowattHours/500 as MW  from ea_prd.gold.factreconciledinjectionandofftake\n",
    "where FlowDirection = 'Injection'\n",
    "and PointOfConnectionCode = 'SFD2201' and TraderCode = 'CTCT'\n",
    "), L2 as (\n",
    "  select TradingDate, TradingPeriodNumber, DollarsPerMegawattHour from ea_prd.gold.factpredispatchandfinalenergyprices\n",
    "  where PointOfConnectionCode = 'SFD2201' and PriceTypeCode = 'F'\n",
    ")\n",
    "select L1.* ,L2.dollarspermegawatthour from L1 inner join L2 on (L1.TradingDate = L2.TradingDate and L1.TradingPeriodNumber = L2.TradingPeriodNumber)\n",
    "where L1.Tradingdate >= '2020-01-01'\n",
    "order by 1,2"
   ]
  },
  {
   "cell_type": "code",
   "execution_count": 0,
   "metadata": {
    "application/vnd.databricks.v1+cell": {
     "cellMetadata": {
      "byteLimit": 2048000,
      "rowLimit": 10000
     },
     "inputWidgets": {},
     "nuid": "9921ac23-d267-4fd2-84a7-3be2d754d8c3",
     "showTitle": false,
     "tableResultSettingsMap": {
      "0": {
       "dataGridStateBlob": "{\"version\":1,\"tableState\":{\"columnPinning\":{\"left\":[\"#row_number#\"],\"right\":[]},\"columnSizing\":{\"Group_MW\":147},\"columnVisibility\":{}},\"settings\":{\"columns\":{}},\"syncTimestamp\":1756178039797}",
       "filterBlob": null,
       "queryPlanFiltersBlob": null,
       "tableResultIndex": 0
      }
     },
     "title": ""
    }
   },
   "outputs": [],
   "source": [
    "with L1 as (\n",
    "  select TradingDate, TradingPeriodNumber, KilowattHours/500 as MW  from ea_prd.gold.factreconciledinjectionandofftake\n",
    "where PointOfConnectionCode = 'HLY2201' and FlowDirection = 'Injection'\n",
    "and TraderCode = 'GENE'\n",
    "), L2 as (\n",
    "  select TradingDate, TradingPeriodNumber, DollarsPerMegawattHour from ea_prd.gold.factpredispatchandfinalenergyprices\n",
    "  where PointOfConnectionCode = 'HLY2201' and PriceTypeCode = 'F'\n",
    "), L3 as (\n",
    "select L1.* ,L2.dollarspermegawatthour, ceil(L1.MW/100,0)*100 as Group_MW from L1 inner join L2 on (L1.TradingDate = L2.TradingDate and L1.TradingPeriodNumber = L2.TradingPeriodNumber)\n",
    "where L1.Tradingdate >= '2020-01-01'\n",
    "), L4 as (\n",
    "  select Group_MW, sum(MW*dollarspermegawatthour)/sum(MW) as Group_price from L3\n",
    "  group by all\n",
    ")\n",
    "select Group_MW, ceil(Group_price/10)*10 as Group_price\n",
    "from L4\n",
    "where Group_MW > 0\n",
    "order by 1"
   ]
  },
  {
   "cell_type": "code",
   "execution_count": 0,
   "metadata": {
    "application/vnd.databricks.v1+cell": {
     "cellMetadata": {
      "byteLimit": 2048000,
      "rowLimit": 10000
     },
     "inputWidgets": {},
     "nuid": "0edec0f4-b1e7-4324-a498-c83e5dcb7fa3",
     "showTitle": false,
     "tableResultSettingsMap": {},
     "title": ""
    }
   },
   "outputs": [],
   "source": [
    "with L1 as (\n",
    "  select TradingDate, TradingPeriodNumber, KilowattHours/500 as MW  from ea_prd.gold.factreconciledinjectionandofftake\n",
    "where PointOfConnectionCode = 'SFD2201' and FlowDirection = 'Injection'\n",
    "and TraderCode = 'CTCT'\n",
    "), L2 as (\n",
    "  select TradingDate, TradingPeriodNumber, DollarsPerMegawattHour from ea_prd.gold.factpredispatchandfinalenergyprices\n",
    "  where PointOfConnectionCode = 'SFD2201' and PriceTypeCode = 'F'\n",
    "), L3 as (\n",
    "select L1.* ,L2.dollarspermegawatthour, ceil(L1.MW/100,0)*100 as Group_MW from L1 inner join L2 on (L1.TradingDate = L2.TradingDate and L1.TradingPeriodNumber = L2.TradingPeriodNumber)\n",
    "where L1.Tradingdate >= '2020-01-01'\n",
    "), L4 as (\n",
    "  select Group_MW, sum(MW*dollarspermegawatthour)/sum(MW) as Group_price from L3\n",
    "  group by all\n",
    ")\n",
    "select Group_MW, ceil(Group_price/10)*10 as Group_price\n",
    "from L4\n",
    "where Group_MW > 0\n",
    "order by 1"
   ]
  },
  {
   "cell_type": "code",
   "execution_count": 0,
   "metadata": {
    "application/vnd.databricks.v1+cell": {
     "cellMetadata": {
      "byteLimit": 2048000,
      "rowLimit": 10000
     },
     "inputWidgets": {},
     "nuid": "d4e1de5f-3b24-4e5f-babe-86fcebb417a0",
     "showTitle": true,
     "tableResultSettingsMap": {
      "0": {
       "dataGridStateBlob": "{\"version\":1,\"tableState\":{\"columnPinning\":{\"left\":[\"#row_number#\"],\"right\":[]},\"columnSizing\":{},\"columnVisibility\":{}},\"settings\":{\"columns\":{}},\"syncTimestamp\":1758691568905}",
       "filterBlob": null,
       "queryPlanFiltersBlob": null,
       "tableResultIndex": 0
      }
     },
     "title": ""
    }
   },
   "outputs": [
    {
     "output_type": "display_data",
     "data": {
      "text/plain": [
       "Databricks visualization. Run in Databricks to view."
      ]
     },
     "metadata": {
      "application/vnd.databricks.v1.subcommand+json": {
       "baseErrorDetails": null,
       "bindings": {},
       "collapsed": false,
       "command": "%sql WITH q AS (select TradingDate, avg(DollarsPerMegawattHour) as Price from ea_prd.gold.factpredispatchandfinalenergyprices \nwhere TradingDate between '2024-01-01' and '2024-12-31' and PriceTypeCode = 'F' and PointOfConnectionCode = 'HAY2201' group by TradingDate\norder by TradingDate) SELECT `TradingDate`,SUM(`Price`) `column_c09aeb73135` FROM q GROUP BY `TradingDate`",
       "commandTitle": "Visualization 1",
       "commandType": "auto",
       "commandVersion": 0,
       "commentThread": [],
       "commentsVisible": false,
       "contentSha256Hex": null,
       "customPlotOptions": {
        "redashChart": [
         {
          "key": "type",
          "value": "CHART"
         },
         {
          "key": "options",
          "value": {
           "alignYAxesAtZero": true,
           "coefficient": 1,
           "columnConfigurationMap": {
            "x": {
             "column": "TradingDate",
             "id": "column_c09aeb73134"
            },
            "y": [
             {
              "column": "Price",
              "id": "column_c09aeb73135",
              "transform": "SUM"
             }
            ]
           },
           "dateTimeFormat": "DD/MM/YYYY HH:mm",
           "direction": {
            "type": "counterclockwise"
           },
           "error_y": {
            "type": "data",
            "visible": true
           },
           "globalSeriesType": "line",
           "legend": {
            "traceorder": "normal"
           },
           "missingValuesAsZero": true,
           "numberFormat": "0,0.[00000]",
           "percentFormat": "0[.]00%",
           "series": {
            "error_y": {
             "type": "data",
             "visible": true
            },
            "stacking": null
           },
           "seriesOptions": {
            "column_c09aeb73135": {
             "name": "Price",
             "yAxis": 0
            }
           },
           "showDataLabels": false,
           "sizemode": "diameter",
           "sortX": true,
           "sortY": true,
           "swappedAxes": false,
           "textFormat": "",
           "useAggregationsUi": true,
           "valuesOptions": {},
           "version": 2,
           "xAxis": {
            "labels": {
             "enabled": true
            },
            "type": "-"
           },
           "yAxis": [
            {
             "type": "-"
            },
            {
             "opposite": true,
             "type": "-"
            }
           ]
          }
         }
        ]
       },
       "datasetPreviewNameToCmdIdMap": {},
       "diffDeletes": [],
       "diffInserts": [],
       "displayType": "redashChart",
       "error": null,
       "errorDetails": null,
       "errorSummary": null,
       "errorTraceType": null,
       "finishTime": 0,
       "globalVars": {},
       "guid": "",
       "height": "auto",
       "hideCommandCode": false,
       "hideCommandResult": false,
       "iPythonMetadata": null,
       "inputWidgets": {},
       "isLockedInExamMode": false,
       "latestAssumeRoleInfo": null,
       "latestUser": "a user",
       "latestUserId": null,
       "listResultMetadata": null,
       "metadata": {
        "byteLimit": 2048000,
        "rowLimit": 10000
       },
       "nuid": "21c1436b-c838-4e44-a4d0-f2dc5dd0ae05",
       "origId": 0,
       "parentHierarchy": [],
       "pivotAggregation": null,
       "pivotColumns": null,
       "position": 4.375,
       "resultDbfsErrorMessage": null,
       "resultDbfsStatus": "INLINED_IN_TREE",
       "results": null,
       "showCommandTitle": false,
       "startTime": 0,
       "state": "input",
       "streamStates": {},
       "subcommandOptions": {
        "queryPlan": {
         "groups": [
          {
           "column": "TradingDate",
           "type": "column"
          }
         ],
         "selects": [
          {
           "column": "TradingDate",
           "type": "column"
          },
          {
           "alias": "column_c09aeb73135",
           "args": [
            {
             "column": "Price",
             "type": "column"
            }
           ],
           "function": "SUM",
           "type": "function"
          }
         ]
        }
       },
       "submitTime": 0,
       "subtype": "tableResultSubCmd.visualization",
       "tableResultIndex": 0,
       "tableResultSettingsMap": {},
       "useConsistentColors": false,
       "version": "CommandV1",
       "width": "auto",
       "workflows": null,
       "xColumns": null,
       "yColumns": null
      }
     },
     "output_type": "display_data"
    }
   ],
   "source": [
    "select TradingDate, avg(DollarsPerMegawattHour) as Price from ea_prd.gold.factpredispatchandfinalenergyprices \n",
    "where TradingDate between '2024-01-01' and '2024-12-31' and PriceTypeCode = 'F' and PointOfConnectionCode = 'HAY2201' group by TradingDate\n",
    "order by TradingDate"
   ]
  },
  {
   "cell_type": "code",
   "execution_count": 0,
   "metadata": {
    "application/vnd.databricks.v1+cell": {
     "cellMetadata": {
      "byteLimit": 2048000,
      "rowLimit": 10000
     },
     "inputWidgets": {},
     "nuid": "91816c68-720b-4d8a-b704-fbb9dd98784a",
     "showTitle": false,
     "tableResultSettingsMap": {
      "0": {
       "dataGridStateBlob": "{\"version\":1,\"tableState\":{\"columnPinning\":{\"left\":[\"#row_number#\"],\"right\":[]},\"columnSizing\":{},\"columnVisibility\":{}},\"settings\":{\"columns\":{}},\"syncTimestamp\":1759884525804}",
       "filterBlob": null,
       "queryPlanFiltersBlob": null,
       "tableResultIndex": 0
      }
     },
     "title": ""
    }
   },
   "outputs": [],
   "source": [
    "select * from ea_prd.gold.dimgenerationplant"
   ]
  }
 ],
 "metadata": {
  "application/vnd.databricks.v1+notebook": {
   "computePreferences": null,
   "dashboards": [],
   "environmentMetadata": {
    "base_environment": "",
    "environment_version": "2"
   },
   "inputWidgetPreferences": null,
   "language": "sql",
   "notebookMetadata": {
    "pythonIndentUnit": 2
   },
   "notebookName": "Fuel_Data_SQL",
   "widgets": {}
  },
  "language_info": {
   "name": "sql"
  }
 },
 "nbformat": 4,
 "nbformat_minor": 0
}
