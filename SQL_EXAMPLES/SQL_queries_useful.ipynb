{
 "cells": [
  {
   "cell_type": "code",
   "execution_count": 0,
   "metadata": {
    "application/vnd.databricks.v1+cell": {
     "cellMetadata": {},
     "inputWidgets": {},
     "nuid": "8841a57b-cf8a-436e-8407-8c6b40e70b63",
     "showTitle": true,
     "tableResultSettingsMap": {},
     "title": "Huntly Gas Generation vs Coal Generation"
    }
   },
   "outputs": [],
   "source": [
    "with L1 as (\n",
    "  select TradingDate, TradingPeriodNumber, MegawattsByGenerationType/2 as MWh,\n",
    "  floor((datediff(TradingDate, date_trunc('year', TradingDate)) / 7) + 1) as WeekOfYear\n",
    "  from datahub.wholesale.emissionsbygenerationtype\n",
    "  where TradingDate >= '2024-01-01' and GenerationType = 'Coal'\n",
    "), Coal as (\n",
    "  select year(TradingDate) as `Year`, case when WeekOfYear > 52 then 52 else WeekOfYear end as `Week`, round(sum(MWh),3) as MWh\n",
    "  from L1 group by 1,2\n",
    "), L2 as (\n",
    "  select TradingDate, TradingPeriodNumber, sum(KilowattHours/1000) as MWh,\n",
    "  floor((datediff(TradingDate, date_trunc('year', TradingDate)) / 7) + 1) as WeekOfYear\n",
    "  from datahub.wholesale.reconciledinjectionandofftake\n",
    "  where TradingDate >= '2024-01-01' and PointOfConnectionCode = 'HLY2201'\n",
    "  and TraderCode = 'GENE' and FlowDirection = 'Injection'\n",
    "  group by 1,2\n",
    "), Total as (\n",
    "select year(TradingDate) as `Year`, case when WeekOfYear > 52 then 52 else WeekOfYear end as `Week`, round(sum(MWh),3) as MWh\n",
    "from L2 group by 1,2\n",
    ")\n",
    "select Total.Year, Total.Week, Total.MWh as TotalMWh, Coal.MWh as CoalMWh, Total.MWh - Coal.MWh as GasMwh \n",
    "from Total inner join Coal using (`Year`,`Week`)\n",
    "order by 1, 2"
   ]
  }
 ],
 "metadata": {
  "application/vnd.databricks.v1+notebook": {
   "computePreferences": null,
   "dashboards": [],
   "environmentMetadata": {
    "base_environment": "",
    "environment_version": "3"
   },
   "inputWidgetPreferences": null,
   "language": "python",
   "notebookMetadata": {
    "pythonIndentUnit": 4
   },
   "notebookName": "SQL_queries_useful",
   "widgets": {}
  },
  "language_info": {
   "name": "python"
  }
 },
 "nbformat": 4,
 "nbformat_minor": 0
}
