{
 "cells": [
  {
   "cell_type": "code",
   "execution_count": 0,
   "metadata": {
    "application/vnd.databricks.v1+cell": {
     "cellMetadata": {
      "byteLimit": 2048000,
      "rowLimit": 10000
     },
     "inputWidgets": {},
     "nuid": "8841a57b-cf8a-436e-8407-8c6b40e70b63",
     "showTitle": true,
     "tableResultSettingsMap": {},
     "title": "Huntly Gas Generation vs Coal Generation"
    }
   },
   "outputs": [],
   "source": [
    "\n",
    "with L1 as (\n",
    "  select TradingDate, TradingPeriodNumber, MegawattsByGenerationType/2 as MWh,\n",
    "  floor((datediff(TradingDate, date_trunc('year', TradingDate)) / 7) + 1) as WeekOfYear\n",
    "  from datahub.wholesale.emissionsbygenerationtype\n",
    "  where TradingDate >= '2024-01-01' and GenerationType = 'Coal'\n",
    "), Coal as (\n",
    "  select year(TradingDate) as `Year`, case when WeekOfYear > 52 then 52 else WeekOfYear end as `Week`, round(sum(MWh),3) as MWh\n",
    "  from L1 group by 1,2\n",
    "), L2 as (\n",
    "  select TradingDate, TradingPeriodNumber, sum(KilowattHours/1000) as MWh,\n",
    "  floor((datediff(TradingDate, date_trunc('year', TradingDate)) / 7) + 1) as WeekOfYear\n",
    "  from datahub.wholesale.reconciledinjectionandofftake\n",
    "  where TradingDate >= '2024-01-01' and PointOfConnectionCode = 'HLY2201'\n",
    "  and TraderCode = 'GENE' and FlowDirection = 'Injection'\n",
    "  group by 1,2\n",
    "), Total as (\n",
    "select year(TradingDate) as `Year`, case when WeekOfYear > 52 then 52 else WeekOfYear end as `Week`, round(sum(MWh),3) as MWh\n",
    "from L2 group by 1,2\n",
    ")\n",
    "select Total.Year, Total.Week, Total.MWh as TotalMWh, Coal.MWh as CoalMWh, Total.MWh - Coal.MWh as GasMwh \n",
    "from Total inner join Coal using (`Year`,`Week`)\n",
    "order by 1, 2"
   ]
  },
  {
   "cell_type": "code",
   "execution_count": 0,
   "metadata": {
    "application/vnd.databricks.v1+cell": {
     "cellMetadata": {
      "byteLimit": 2048000,
      "rowLimit": 10000
     },
     "inputWidgets": {},
     "nuid": "033540a6-fcf9-4ddf-aa57-4ba46dbb7154",
     "showTitle": false,
     "tableResultSettingsMap": {
      "0": {
       "dataGridStateBlob": "{\"version\":1,\"tableState\":{\"columnPinning\":{\"left\":[\"#row_number#\"],\"right\":[]},\"columnSizing\":{},\"columnVisibility\":{}},\"settings\":{\"columns\":{}},\"syncTimestamp\":1760411576758}",
       "filterBlob": null,
       "queryPlanFiltersBlob": null,
       "tableResultIndex": 0
      }
     },
     "title": ""
    }
   },
   "outputs": [],
   "source": [
    "\n",
    "with L1 as (\n",
    "  select TradingDate, sum(MegawattsByGenerationType/2) as MWh\n",
    "  from datahub.wholesale.emissionsbygenerationtype\n",
    "  where TradingDate >= '2025-01-01' and GenerationType = 'Coal'\n",
    "  group by all\n",
    "), L2 as (\n",
    "  select TradingDate, sum(KilowattHours/1000) as MWh\n",
    "  from datahub.wholesale.reconciledinjectionandofftake\n",
    "  where TradingDate >= '2025-01-01' and PointOfConnectionCode = 'HLY2201'\n",
    "  and TraderCode = 'GENE' and FlowDirection = 'Injection'\n",
    "  group by all\n",
    ")\n",
    "select L2.TradingDate, L2.MWh as TotalMWh, L1.MWh as CoalMWh, L2.MWh - L1.MWh as GasMwh,\n",
    "L1.MWh * 10.2 as Coal_GJ, L2.MWh * 7.4 as Gas_GJ\n",
    "from L2 inner join L1 using (`TradingDate`)\n",
    "order by 1, 2"
   ]
  },
  {
   "cell_type": "code",
   "execution_count": 0,
   "metadata": {
    "application/vnd.databricks.v1+cell": {
     "cellMetadata": {
      "byteLimit": 2048000,
      "rowLimit": 10000
     },
     "inputWidgets": {},
     "nuid": "f44a2f54-46c7-43b7-aa1d-5429cb49cbc3",
     "showTitle": false,
     "tableResultSettingsMap": {
      "0": {
       "dataGridStateBlob": "{\"version\":1,\"tableState\":{\"columnPinning\":{\"left\":[\"#row_number#\"],\"right\":[]},\"columnSizing\":{},\"columnVisibility\":{}},\"settings\":{\"columns\":{}},\"syncTimestamp\":1760411684015}",
       "filterBlob": null,
       "queryPlanFiltersBlob": null,
       "tableResultIndex": 0
      }
     },
     "title": ""
    }
   },
   "outputs": [],
   "source": [
    "select * from ea_prd_legacy.copper.em6_emissionsbygenerationtype"
   ]
  }
 ],
 "metadata": {
  "application/vnd.databricks.v1+notebook": {
   "computePreferences": null,
   "dashboards": [],
   "environmentMetadata": {
    "base_environment": "",
    "environment_version": "3"
   },
   "inputWidgetPreferences": null,
   "language": "sql",
   "notebookMetadata": {
    "pythonIndentUnit": 4
   },
   "notebookName": "SQL_queries_useful",
   "widgets": {}
  },
  "language_info": {
   "name": "sql"
  }
 },
 "nbformat": 4,
 "nbformat_minor": 0
}
