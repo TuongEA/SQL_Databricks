{
 "cells": [
  {
   "cell_type": "code",
   "execution_count": 0,
   "metadata": {
    "application/vnd.databricks.v1+cell": {
     "cellMetadata": {
      "byteLimit": 2048000,
      "rowLimit": 10000
     },
     "inputWidgets": {},
     "nuid": "8d8f6393-f208-41ae-a4de-e3d7a21060ad",
     "showTitle": false,
     "tableResultSettingsMap": {},
     "title": ""
    }
   },
   "outputs": [],
   "source": [
    "SET TIME ZONE 'Pacific/Auckland';"
   ]
  },
  {
   "cell_type": "code",
   "execution_count": 0,
   "metadata": {
    "application/vnd.databricks.v1+cell": {
     "cellMetadata": {
      "byteLimit": 2048000,
      "rowLimit": 10000
     },
     "inputWidgets": {},
     "nuid": "52130f76-220c-4857-8f30-22f6da6ecb07",
     "showTitle": false,
     "tableResultSettingsMap": {},
     "title": ""
    }
   },
   "outputs": [],
   "source": [
    "with L1 AS (select TradingDate, count(*) AS SILVER_COUNT\n",
    "from ea_dev.silver.spd_solution_branch\n",
    "group by TradingDate\n",
    "), L2 as (\n",
    "  select TradingDate, count(*) AS GOLD_COUNT\n",
    "from ea_dev.gold.factspdbranches\n",
    "group by TradingDate\n",
    ")\n",
    "select L1.TradingDate, SIlVER_COUNT, GOLD_COUNT from L1 inner join L2 on L1.TradingDate = L2.TradingDate\n",
    "where SIlVER_COUNT <> GOLD_COUNT and L1.TradingDate >= '2022-11-01'\n",
    "order by TradingDate"
   ]
  },
  {
   "cell_type": "code",
   "execution_count": 0,
   "metadata": {
    "application/vnd.databricks.v1+cell": {
     "cellMetadata": {
      "byteLimit": 2048000,
      "rowLimit": 10000
     },
     "inputWidgets": {},
     "nuid": "5bee6f2a-7910-4648-bf60-7350e860a403",
     "showTitle": false,
     "tableResultSettingsMap": {},
     "title": ""
    }
   },
   "outputs": [],
   "source": [
    "with L1 AS (select CaseTypeCode, CaseID, count(*) AS SILVER_COUNT\n",
    "from ea_dev.silver.spd_solution_branch where TradingDate >= '2025-06-17'\n",
    "group by CaseTypeCode, CaseID\n",
    "), L2 as (\n",
    "  select CaseTypeCode, CaseID, count(*) AS GOLD_COUNT\n",
    "from ea_dev.gold.factspdbranches where TradingDate >= '2025-06-17'\n",
    "group by CaseTypeCode, CaseID\n",
    ")\n",
    "select L1.CaseTypeCode, L1.CaseID, SIlVER_COUNT, GOLD_COUNT from L1 left join L2 on L1.CaseTypeCode = L2.CaseTypeCode and L1.CaseID = L2.CaseID\n",
    "where SIlVER_COUNT <> GOLD_COUNT or GOLD_COUNT is null\n",
    "order by GOLD_COUNT, CaseTypeCode, CaseID"
   ]
  },
  {
   "cell_type": "code",
   "execution_count": 0,
   "metadata": {
    "application/vnd.databricks.v1+cell": {
     "cellMetadata": {
      "byteLimit": 2048000,
      "rowLimit": 10000
     },
     "inputWidgets": {},
     "nuid": "3e06a3de-a006-4f5d-b8ab-af149934c0ce",
     "showTitle": false,
     "tableResultSettingsMap": {},
     "title": ""
    }
   },
   "outputs": [],
   "source": [
    "select 'solution_branch' as table, count(*) as count, min(UpdatedDatetime) from ea_dev.silver.spd_solution_branch where CaseID in (231012025060325855)\n",
    "union\n",
    "select 'mssdata_branchlimit' as table, count(*) as count, min(UpdatedDatetime)  from ea_dev.silver.spd_mssdata_branchlimit where CaseID in (231012025060325855)\n",
    "union\n",
    "select 'mssdata_branchparam' as table, count(*) as count, min(UpdatedDatetime)  from ea_dev.silver.spd_mssdata_branchparam where CaseID in (231012025060325855)\n",
    "union\n",
    "select 'mssdata_hvdclink' as table, count(*) as count, min(UpdatedDatetime)  from ea_dev.silver.spd_mssdata_hvdclink where CaseID in (231012025060325855)\n",
    "union\n",
    "select 'netdata_branchbus' as table, count(*) as count, min(UpdatedDatetime)  from ea_dev.silver.spd_netdata_branchbus where CaseID in (231012025060325855)\n",
    "union\n",
    "select 'solution_bus' as table, count(*) as count, min(UpdatedDatetime)  from ea_dev.silver.spd_solution_bus where CaseID in (231012025060325855)\n"
   ]
  }
 ],
 "metadata": {
  "application/vnd.databricks.v1+notebook": {
   "computePreferences": null,
   "dashboards": [],
   "environmentMetadata": {
    "base_environment": "",
    "environment_version": "2"
   },
   "inputWidgetPreferences": null,
   "language": "sql",
   "notebookMetadata": {
    "pythonIndentUnit": 2
   },
   "notebookName": "Fact_spd_branches_Test_Code",
   "widgets": {}
  },
  "language_info": {
   "name": "sql"
  }
 },
 "nbformat": 4,
 "nbformat_minor": 0
}
