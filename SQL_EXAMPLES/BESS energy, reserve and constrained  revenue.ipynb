{
 "cells": [
  {
   "cell_type": "code",
   "execution_count": 0,
   "metadata": {
    "application/vnd.databricks.v1+cell": {
     "cellMetadata": {
      "byteLimit": 2048000,
      "rowLimit": 10000
     },
     "inputWidgets": {},
     "nuid": "9398f619-a1e9-4047-8da1-79c5e857e1ef",
     "showTitle": false,
     "tableResultSettingsMap": {
      "0": {
       "dataGridStateBlob": "{\"version\":1,\"tableState\":{\"columnPinning\":{\"left\":[\"#row_number#\"],\"right\":[]},\"columnSizing\":{},\"columnVisibility\":{}},\"settings\":{\"columns\":{}},\"syncTimestamp\":1756684545409}",
       "filterBlob": null,
       "queryPlanFiltersBlob": null,
       "tableResultIndex": 0
      }
     },
     "title": ""
    }
   },
   "outputs": [],
   "source": [
    "With L1 as (select year(TradingDate) as `Year`, month(tradingdate) as `Month`,\n",
    "ConstraintTypeCode, ConstraintDirectionIndicator, sum(Dollars) as Total_Dollars\n",
    "from ea_prd.gold.factconstrainedonoff \n",
    "where TRadingDate >= '2024-01-01'\n",
    "group by all\n",
    "), L2 as (select year(TradingDate) as `Year`, month(tradingdate) as `Month`,\n",
    "ConstraintTypeCode, ConstraintDirectionIndicator, sum(Dollars) as Rotohiko_Dollars\n",
    "from ea_prd.gold.factconstrainedonoff \n",
    "where TRadingDate >= '2024-01-01' and PointOfConnectionCode = 'HLY0331' and ParticipantCode = 'NPEL'\n",
    "group by all\n",
    ")\n",
    "Select L1.* , L2. Rotohiko_Dollars\n",
    "from L1 left join L2 \n",
    "on L1.Year = L2.Year and L1.Month = L2.Month \n",
    "and L1.ConstraintTypeCode = L2.ConstraintTypeCode \n",
    "and L1.ConstraintDirectionIndicator = L2.ConstraintDirectionIndicator\n",
    "where (l1.constrainttypecode <> 'FKCONS' )\n",
    "--and not (l1.constrainttypecode = 'ECONS' and l1.constraintdirectionindicator = 'OFF')\n",
    "order by all"
   ]
  },
  {
   "cell_type": "code",
   "execution_count": 0,
   "metadata": {
    "application/vnd.databricks.v1+cell": {
     "cellMetadata": {
      "byteLimit": 2048000,
      "rowLimit": 10000
     },
     "inputWidgets": {},
     "nuid": "144193a4-eb7a-4ff5-a9e4-b93cb4a3e7d0",
     "showTitle": true,
     "tableResultSettingsMap": {
      "0": {
       "dataGridStateBlob": "{\"version\":1,\"tableState\":{\"columnPinning\":{\"left\":[\"#row_number#\"],\"right\":[]},\"columnSizing\":{},\"columnVisibility\":{}},\"settings\":{\"columns\":{}},\"syncTimestamp\":1756448191114}",
       "filterBlob": null,
       "queryPlanFiltersBlob": null,
       "tableResultIndex": 0
      }
     },
     "title": "Constrained on/off revenue"
    }
   },
   "outputs": [],
   "source": [
    "select PNodeCode, ParticipantCode, ConstraintTypeCode, ConstraintDirectionIndicator, \n",
    "Min(TradingDate) as FromDate, Max(TradingDate) as ToDate, sum(Dollars) as Dollars, avg(Megawatts) as Average_MW\n",
    "from ea_prd.gold.factconstrainedonoff \n",
    "where PointOfConnectionCode in ('HLY0331','BRB0331','SWN2201')\n",
    "group by all"
   ]
  },
  {
   "cell_type": "code",
   "execution_count": 0,
   "metadata": {
    "application/vnd.databricks.v1+cell": {
     "cellMetadata": {
      "byteLimit": 2048000,
      "rowLimit": 10000
     },
     "inputWidgets": {},
     "nuid": "2d7f983e-5356-4c74-bf6e-1ca0269946e1",
     "showTitle": true,
     "tableResultSettingsMap": {
      "0": {
       "dataGridStateBlob": "{\"version\":1,\"tableState\":{\"columnPinning\":{\"left\":[\"#row_number#\"],\"right\":[]},\"columnSizing\":{},\"columnVisibility\":{}},\"settings\":{\"columns\":{}},\"syncTimestamp\":1756694037576}",
       "filterBlob": null,
       "queryPlanFiltersBlob": null,
       "tableResultIndex": 0
      }
     },
     "title": "Monthly generation revenue"
    }
   },
   "outputs": [],
   "source": [
    "With L1 as (\n",
    "  select TradingDate, TradingPeriodNumber, PointOfConnectionCode,TraderCode,NetworkParticipantCode, KilowattHours/1000 as MWh from ea_prd.gold.factreconciledinjectionandofftake\n",
    "  where TradingDate >= '2024-01-01' and FlowDirection = 'Injection' and KilowattHours > 0\n",
    "  and (\n",
    "      -- (PointOfConnectionCode = 'BRB0331' and TraderCode in ('MERI') and NetworkParticipantCode = 'MERI')\n",
    "    -- or \n",
    "      (PointOfConnectionCode = 'HLY0331' and TraderCode in ('NPEL','OPHL') and NetworkParticipantCode = 'WAIK')\n",
    "      )\n",
    "), L2 as (\n",
    "  select distinct TradingDate, TradingPeriodNumber, PointOfConnectionCode, DollarsPerMegawattHour from ea_prd.gold.factpredispatchandfinalenergyprices\n",
    "  where TradingDate >= '2024-01-01' and PointOfConnectionCode in ('BRB0331','HLY0331') and PriceTypeCode = 'F'\n",
    ")\n",
    "select Year(L1.TradingDate) as `Year`, Month(L1.TradingDate) as `Month`,\n",
    "round(sum(MWh),3) as Total_injection_MWh, round(sum(DollarsPerMegawattHour*MWh),2) as Generation_revenue\n",
    "from L1 inner join L2 \n",
    "on L1.TradingDate = L2.TradingDate \n",
    "and L1.TradingPeriodNumber = L2.TradingPeriodNumber \n",
    "and L1.PointOfConnectionCode = L2.PointOfConnectionCode\n",
    "group by all\n",
    "Order by Year, Month"
   ]
  },
  {
   "cell_type": "code",
   "execution_count": 0,
   "metadata": {
    "application/vnd.databricks.v1+cell": {
     "cellMetadata": {
      "byteLimit": 2048000,
      "rowLimit": 10000
     },
     "inputWidgets": {},
     "nuid": "048a12ca-935d-41b4-a3c7-b5620d5673a7",
     "showTitle": true,
     "tableResultSettingsMap": {},
     "title": "Monthly Load Cost"
    }
   },
   "outputs": [],
   "source": [
    "With L1 as (\n",
    "  select TradingDate, TradingPeriodNumber, PointOfConnectionCode,TraderCode,NetworkParticipantCode, KilowattHours/1000 as MWh from ea_prd.gold.factreconciledinjectionandofftake\n",
    "  where TradingDate >= '2024-01-01' and FlowDirection = 'Offtake' and KilowattHours > 0\n",
    "  and (\n",
    "      -- (PointOfConnectionCode = 'BRB0331' and TraderCode in ('MERI') and NetworkParticipantCode = 'MERI')\n",
    "    -- or \n",
    "      (PointOfConnectionCode = 'HLY0331' and TraderCode in ('NPEL','OPHL') and NetworkParticipantCode = 'WAIK')\n",
    "      )\n",
    "), L2 as (\n",
    "  select distinct TradingDate, TradingPeriodNumber, PointOfConnectionCode, DollarsPerMegawattHour from ea_prd.gold.factpredispatchandfinalenergyprices\n",
    "  where TradingDate >= '2024-01-01' and PointOfConnectionCode in ('BRB0331','HLY0331') and PriceTypeCode = 'F'\n",
    ")\n",
    "select Year(L1.TradingDate) as `Year`, Month(L1.TradingDate) as `Month`,\n",
    "round(sum(MWh),3) as Total_injection_MWh, round(sum(DollarsPerMegawattHour*MWh),2) as Load_cost\n",
    "from L1 inner join L2 \n",
    "on L1.TradingDate = L2.TradingDate \n",
    "and L1.TradingPeriodNumber = L2.TradingPeriodNumber \n",
    "and L1.PointOfConnectionCode = L2.PointOfConnectionCode\n",
    "group by all\n",
    "Order by Year, Month"
   ]
  },
  {
   "cell_type": "code",
   "execution_count": 0,
   "metadata": {
    "application/vnd.databricks.v1+cell": {
     "cellMetadata": {
      "byteLimit": 2048000,
      "rowLimit": 10000
     },
     "inputWidgets": {},
     "nuid": "fc7753ef-1a9b-402e-b1a7-697be85b74a1",
     "showTitle": true,
     "tableResultSettingsMap": {
      "0": {
       "dataGridStateBlob": "{\"version\":1,\"tableState\":{\"columnPinning\":{\"left\":[\"#row_number#\"],\"right\":[]},\"columnSizing\":{},\"columnVisibility\":{}},\"settings\":{\"columns\":{}},\"syncTimestamp\":1756696956536}",
       "filterBlob": null,
       "queryPlanFiltersBlob": null,
       "tableResultIndex": 0
      }
     },
     "title": "Estimate monthly reserve revenue"
    }
   },
   "outputs": [],
   "source": [
    "with L1 as (\n",
    "  select DATE(TRadingDate) as TradingDate, int(TradingPeriod) as TradingPeriodNumber, CaseID, int(InterimTimeWeightSeconds) as NumberofSecs \n",
    "  from ea_prd.bronze.casefilepublishtimes where InterimTimeWeightSeconds <> '0' \n",
    "), L2 as (\n",
    "  Select a.CaseID, a.TradingDate, a.TradingPeriodNumber, a.IntervalDateTime, b.NumberofSecs,\n",
    "  avg(a.SPDClearedFIRMegawatts) as Cleared_FIR_MW, avg(a.SPDClearedFIRMegawatts) as Cleared_SIR_MW\n",
    "  from ea_prd.gold.factspdbidsandoffers a inner join L1 b\n",
    "  on (a.TradingDate = b.TradingDate and a.TradingPeriodNumber = b.TradingPeriodNumber and a.CaseID = b.CaseID)\n",
    "  where a.TradingDate >= '2024-01-01' \n",
    "  and a.PointOfConnectionCode = 'HLY0331'\n",
    "  --and UnitCode in ('RHO0','RHO99')\n",
    "  and OfferTypeCode not in ('ENOF','ENDL')\n",
    "  Group By all\n",
    "), L3 as (\n",
    "  select TradingDate, TradingPeriodNumber, \n",
    "  round(sum(Cleared_FIR_MW*NumberofSecs)/sum(NumberofSecs),3) as Cleared_FIR_MW, \n",
    "  round(sum(Cleared_SIR_MW*NumberofSecs)/sum(NumberofSecs),3) as Cleared_SIR_MW\n",
    "  from L2\n",
    "  Group by TradingDate, TradingPeriodNumber\n",
    "), L4 as (\n",
    "select a.*, b.FIRDollarsPerMegawattHour, b.SIRDollarsPerMegawattHour \n",
    "from L3 a inner join ea_prd.gold.factpredispatchandfinalreserveprices b\n",
    "on (a.TradingDate = b.TradingDate and a.TradingPeriodNumber = b.TradingPeriodNumber \n",
    "and b.PointOfConnectionCode = 'HAY2201' and b.PriceTypeCode = 'F')\n",
    ")\n",
    "select Year(TradingDate) as `Year`, month(TradingDate) as `Month`, \n",
    "round(sum(Cleared_FIR_MW * FIRDollarsPerMegawattHour),2) as Revenue_FIR, \n",
    "round(sum(Cleared_SIR_MW * SIRDollarsPerMegawattHour),2) as Revenue_SIR \n",
    "from L4\n",
    "Group by all\n",
    "Order by Year, Month"
   ]
  },
  {
   "cell_type": "markdown",
   "metadata": {
    "application/vnd.databricks.v1+cell": {
     "cellMetadata": {},
     "inputWidgets": {},
     "nuid": "c81f9b7b-bbc6-4037-950c-4c976eb1714d",
     "showTitle": false,
     "tableResultSettingsMap": {},
     "title": ""
    }
   },
   "source": [
    "#TEST CODE"
   ]
  },
  {
   "cell_type": "code",
   "execution_count": 0,
   "metadata": {
    "application/vnd.databricks.v1+cell": {
     "cellMetadata": {
      "byteLimit": 2048000,
      "rowLimit": 10000
     },
     "inputWidgets": {},
     "nuid": "294d152a-efc8-468d-b163-67d198080ec0",
     "showTitle": false,
     "tableResultSettingsMap": {
      "0": {
       "dataGridStateBlob": "{\"version\":1,\"tableState\":{\"columnPinning\":{\"left\":[\"#row_number#\"],\"right\":[]},\"columnSizing\":{},\"columnVisibility\":{}},\"settings\":{\"columns\":{}},\"syncTimestamp\":1756695903570}",
       "filterBlob": null,
       "queryPlanFiltersBlob": null,
       "tableResultIndex": 0
      }
     },
     "title": ""
    }
   },
   "outputs": [],
   "source": [
    "with L1 as (\n",
    "  select DATE(TRadingDate) as TradingDate, int(TradingPeriod) as TradingPeriodNumber, CaseID, int(InterimTimeWeightSeconds) as NumberofSecs \n",
    "  from ea_prd.bronze.casefilepublishtimes where InterimTimeWeightSeconds <> '0' \n",
    "), L2 as (\n",
    "  Select a.CaseID, a.TradingDate, a.TradingPeriodNumber, a.IntervalDateTime, b.NumberofSecs,\n",
    "  avg(a.SPDClearedFIRMegawatts) as Cleared_FIR_MW, avg(a.SPDClearedFIRMegawatts) as Cleared_SIR_MW\n",
    "  from ea_prd.gold.factspdbidsandoffers a inner join L1 b\n",
    "  on (a.TradingDate = b.TradingDate and a.TradingPeriodNumber = b.TradingPeriodNumber and a.CaseID = b.CaseID)\n",
    "  where a.TradingDate >= '2024-01-01' \n",
    "  and a.PointOfConnectionCode = 'HLY0331'\n",
    "  --and UnitCode in ('RHO0','RHO99')\n",
    "  and OfferTypeCode not in ('ENOF','ENDL')\n",
    "  Group By all\n",
    "), L3 as (\n",
    "  select TradingDate, TradingPeriodNumber, \n",
    "  round(sum(Cleared_FIR_MW*NumberofSecs)/sum(NumberofSecs),3) as Cleared_FIR_MW, \n",
    "  round(sum(Cleared_SIR_MW*NumberofSecs)/sum(NumberofSecs),3) as Cleared_SIR_MW\n",
    "  from L2\n",
    "  Group by TradingDate, TradingPeriodNumber\n",
    "), L4 as (\n",
    "select a.*, b.FIRDollarsPerMegawattHour, b.SIRDollarsPerMegawattHour \n",
    "from L3 a inner join ea_prd.gold.factpredispatchandfinalreserveprices b\n",
    "on (a.TradingDate = b.TradingDate and a.TradingPeriodNumber = b.TradingPeriodNumber \n",
    "and b.PointOfConnectionCode = 'HAY2201' and b.PriceTypeCode = 'F')\n",
    ")\n",
    "select Year(TradingDate) as `Year`, month(TradingDate) as `Month`, \n",
    "round(sum(Cleared_FIR_MW)/2,2) as FIR_MWh, round(sum(Cleared_FIR_MW * FIRDollarsPerMegawattHour)/2,2) as Revenue_FIR, \n",
    "round(sum(Cleared_FIR_MW * FIRDollarsPerMegawattHour)/sum(Cleared_FIR_MW),2) as avg_FIR_Price,\n",
    "round(sum(Cleared_SIR_MW)/2,2) as SIR_MWh, round(sum(Cleared_SIR_MW * SIRDollarsPerMegawattHour)/2,2) as Revenue_SIR,\n",
    "round(sum(Cleared_SIR_MW * SIRDollarsPerMegawattHour)/sum(Cleared_SIR_MW),2) as avg_SIR_Price\n",
    "from L4\n",
    "Group by all\n",
    "Order by Year, Month"
   ]
  },
  {
   "cell_type": "code",
   "execution_count": 0,
   "metadata": {
    "application/vnd.databricks.v1+cell": {
     "cellMetadata": {
      "byteLimit": 2048000,
      "rowLimit": 10000
     },
     "inputWidgets": {},
     "nuid": "04aafa6d-6be0-4bbb-b008-a7dbb3826186",
     "showTitle": true,
     "tableResultSettingsMap": {
      "0": {
       "dataGridStateBlob": "{\"version\":1,\"tableState\":{\"columnPinning\":{\"left\":[\"#row_number#\"],\"right\":[]},\"columnSizing\":{},\"columnVisibility\":{}},\"settings\":{\"columns\":{}},\"syncTimestamp\":1756680920927}",
       "filterBlob": null,
       "queryPlanFiltersBlob": null,
       "tableResultIndex": 0
      }
     },
     "title": "Generation Revenue"
    }
   },
   "outputs": [],
   "source": [
    "With L1 as (\n",
    "  select TradingDate, TradingPeriodNumber, PointOfConnectionCode,TraderCode,NetworkParticipantCode, KilowattHours/1000 as MWh from ea_prd.gold.factreconciledinjectionandofftake\n",
    "  where TradingDate >= '2024-01-01' and FlowDirection = 'Injection' and KilowattHours > 0\n",
    "  and ((PointOfConnectionCode = 'BRB0331' and TraderCode in ('MERI') and NetworkParticipantCode = 'MERI')\n",
    "    or (PointOfConnectionCode = 'HLY0331' and TraderCode in ('NPEL','OPHL') and NetworkParticipantCode = 'WAIK')\n",
    "  )\n",
    "), L2 as (\n",
    "  select distinct TradingDate, TradingPeriodNumber, PointOfConnectionCode, DollarsPerMegawattHour from ea_prd.gold.factpredispatchandfinalenergyprices\n",
    "  where TradingDate >= '2024-01-01' and PointOfConnectionCode in ('BRB0331','HLY0331') and PriceTypeCode = 'F'\n",
    ")\n",
    "select L1.PointOfConnectionCode,TraderCode,NetworkParticipantCode, \n",
    "Min(L1.TradingDate) as FromDate, Max(L1.TradingDate) as ToDate,\n",
    "round(sum(MWh),3) as Total_injection_MWh, round(sum(DollarsPerMegawattHour*MWh),2) as Generation_revenue\n",
    "from L1 inner join L2 \n",
    "on L1.TradingDate = L2.TradingDate \n",
    "and L1.TradingPeriodNumber = L2.TradingPeriodNumber \n",
    "and L1.PointOfConnectionCode = L2.PointOfConnectionCode\n",
    "group by all\n",
    "Order by PointOfConnectionCode"
   ]
  },
  {
   "cell_type": "code",
   "execution_count": 0,
   "metadata": {
    "application/vnd.databricks.v1+cell": {
     "cellMetadata": {
      "byteLimit": 2048000,
      "rowLimit": 10000
     },
     "inputWidgets": {},
     "nuid": "38586e43-c329-418a-b370-30e126ab42a8",
     "showTitle": true,
     "tableResultSettingsMap": {
      "0": {
       "dataGridStateBlob": "{\"version\":1,\"tableState\":{\"columnPinning\":{\"left\":[\"#row_number#\"],\"right\":[]},\"columnSizing\":{},\"columnVisibility\":{}},\"settings\":{\"columns\":{}},\"syncTimestamp\":1756448233534}",
       "filterBlob": null,
       "queryPlanFiltersBlob": null,
       "tableResultIndex": 0
      }
     },
     "title": "Load cost"
    }
   },
   "outputs": [],
   "source": [
    "With L1 as (\n",
    "  select TradingDate, TradingPeriodNumber, PointOfConnectionCode,TraderCode,NetworkParticipantCode, KilowattHours/1000 as MWh from ea_prd.gold.factreconciledinjectionandofftake\n",
    "  where TradingDate >= '2024-01-01' and FlowDirection = 'Offtake' and KilowattHours > 0\n",
    "  and ((PointOfConnectionCode = 'BRB0331' and TraderCode = 'MERI' and NetworkParticipantCode = 'MERI')\n",
    "    or (PointOfConnectionCode = 'HLY0331' and TraderCode in ('NPEL','OPHL') --and NetworkParticipantCode = 'WAIK'\n",
    "    )\n",
    "  )\n",
    "), L2 as (\n",
    "  select distinct TradingDate, TradingPeriodNumber, PointOfConnectionCode, DollarsPerMegawattHour from ea_prd.gold.factpredispatchandfinalenergyprices\n",
    "  where TradingDate >= '2024-01-01' and PointOfConnectionCode in ('BRB0331','HLY0331') and PriceTypeCode = 'F'\n",
    ")\n",
    "select L1.PointOfConnectionCode,TraderCode,NetworkParticipantCode, \n",
    "Min(L1.TradingDate) as FromDate, Max(L1.TradingDate) as ToDate,\n",
    "round(sum(MWh),3) as Total_offtake_MWh, round(sum(DollarsPerMegawattHour*MWh),2) as Load_cost\n",
    "from L1 inner join L2 \n",
    "on L1.TradingDate = L2.TradingDate \n",
    "and L1.TradingPeriodNumber = L2.TradingPeriodNumber \n",
    "and L1.PointOfConnectionCode = L2.PointOfConnectionCode\n",
    "group by all\n",
    "Order by PointOfConnectionCode"
   ]
  },
  {
   "cell_type": "code",
   "execution_count": 0,
   "metadata": {
    "application/vnd.databricks.v1+cell": {
     "cellMetadata": {
      "byteLimit": 2048000,
      "rowLimit": 10000
     },
     "inputWidgets": {},
     "nuid": "03de8c13-8892-4129-9a2d-7a19fa508b1d",
     "showTitle": true,
     "tableResultSettingsMap": {
      "0": {
       "dataGridStateBlob": "{\"version\":1,\"tableState\":{\"columnPinning\":{\"left\":[\"#row_number#\"],\"right\":[]},\"columnSizing\":{},\"columnVisibility\":{}},\"settings\":{\"columns\":{}},\"syncTimestamp\":1756682062831}",
       "filterBlob": null,
       "queryPlanFiltersBlob": null,
       "tableResultIndex": 0
      }
     },
     "title": "BESS's offtake vs injection"
    }
   },
   "outputs": [
    {
     "output_type": "display_data",
     "data": {
      "text/plain": [
       "Databricks visualization. Run in Databricks to view."
      ]
     },
     "metadata": {
      "application/vnd.databricks.v1.subcommand+json": {
       "baseErrorDetails": null,
       "bindings": {},
       "collapsed": false,
       "command": "%sql WITH q AS (With L1 as (\n  select TradingDate, TradingPeriodNumber, TradingPeriodStartTime ,PointOfConnectionCode,TraderCode,NetworkParticipantCode, KilowattHours/1000 as Offtake_MWh \n  from ea_prd.gold.factreconciledinjectionandofftake\n  where TradingDate >= '2025-01-01' and FlowDirection = 'Offtake' and KilowattHours > 0\n  and (PointOfConnectionCode = 'BRB0331' and TraderCode = 'MERI' and NetworkParticipantCode = 'MERI')\n), L2 as (\n  select TradingDate, TradingPeriodNumber, TradingPeriodStartTime, PointOfConnectionCode,TraderCode,NetworkParticipantCode, KilowattHours/1000 as Injection_MWh \n  from ea_prd.gold.factreconciledinjectionandofftake\n  where TradingDate >= '2025-01-01' and FlowDirection = 'Injection' and KilowattHours > 0\n  and (PointOfConnectionCode = 'BRB0331' and TraderCode = 'MERI' and NetworkParticipantCode = 'MERI')\n), L3 as (\n  select TradingDate, TradingPeriodNumber, TradingPeriodStartTime, PointOfConnectionCode,TraderCode,NetworkParticipantCode from L1\n  union \n  select TradingDate, TradingPeriodNumber, TradingPeriodStartTime, PointOfConnectionCode,TraderCode,NetworkParticipantCode from L2\n), L4 as (select distinct * from L3)\n, L5 as (\n  select L4.*, offtake_mwh, injection_mwh from L4 \n  left join L1\n  on L4.TradingDate = L1.TradingDate and L4.TradingPeriodNumber = L1.TradingPeriodNumber \n  and L4.PointOfConnectionCode = L1.PointOfConnectionCode\n  and L4.TraderCode = L1.TraderCode and L4.NetworkParticipantCode = L1.NetworkParticipantCode\n  left join L2\n  on L4.TradingDate = L2.tradingdate and L4.TradingPeriodNumber = L2.TradingPeriodNumber \n  and L4.PointOfConnectionCode = L2.PointOfConnectionCode\n  and L4.TraderCode = L2.TraderCode and L4.NetworkParticipantCode = L2.NetworkParticipantCode\n  order by L4.tradingdate, L4.tradingperiodnumber\n), L6 as (\n  select tradingdate, \n  casesum(offtake_mwh) as offtake_mwh, sum(injection_mwh) as injection_mwh from L5\n  group by tradingdate\n  order by tradingdate\n)\nselect * from L6) SELECT SUM(`offtake_mwh`) `column_615567e7701`,SUM(`injection_mwh`) `column_615567e7702`,`tradingdate` FROM q GROUP BY `tradingdate`",
       "commandTitle": "Visualization 1",
       "commandType": "auto",
       "commandVersion": 0,
       "commentThread": [],
       "commentsVisible": false,
       "contentSha256Hex": null,
       "customPlotOptions": {
        "redashChart": [
         {
          "key": "type",
          "value": "CHART"
         },
         {
          "key": "options",
          "value": {
           "alignYAxesAtZero": true,
           "coefficient": 1,
           "columnConfigurationMap": {
            "x": {
             "column": "tradingdate",
             "id": "column_615567e7703"
            },
            "y": [
             {
              "column": "offtake_mwh",
              "id": "column_615567e7701",
              "transform": "SUM"
             },
             {
              "column": "injection_mwh",
              "id": "column_615567e7702",
              "transform": "SUM"
             }
            ]
           },
           "dateTimeFormat": "DD/MM/YYYY HH:mm",
           "direction": {
            "type": "counterclockwise"
           },
           "error_y": {
            "type": "data",
            "visible": true
           },
           "globalSeriesType": "area",
           "legend": {
            "traceorder": "normal"
           },
           "missingValuesAsZero": true,
           "numberFormat": "0,0.[00000]",
           "percentFormat": "0[.]00%",
           "series": {
            "error_y": {
             "type": "data",
             "visible": true
            },
            "stacking": null
           },
           "seriesOptions": {
            "column_615567e7701": {
             "name": "offtake_mwh",
             "type": "area",
             "yAxis": 0
            },
            "column_615567e7702": {
             "name": "injection_mwh",
             "type": "area",
             "yAxis": 0
            }
           },
           "showDataLabels": false,
           "sizemode": "diameter",
           "sortX": true,
           "sortY": true,
           "swappedAxes": false,
           "textFormat": "",
           "useAggregationsUi": true,
           "valuesOptions": {},
           "version": 2,
           "xAxis": {
            "labels": {
             "enabled": true
            },
            "type": "-"
           },
           "yAxis": [
            {
             "type": "-"
            },
            {
             "opposite": true,
             "type": "-"
            }
           ]
          }
         }
        ]
       },
       "datasetPreviewNameToCmdIdMap": {},
       "diffDeletes": [],
       "diffInserts": [],
       "displayType": "redashChart",
       "error": null,
       "errorDetails": null,
       "errorSummary": null,
       "errorTraceType": null,
       "finishTime": 0,
       "globalVars": {},
       "guid": "",
       "height": "auto",
       "hideCommandCode": false,
       "hideCommandResult": false,
       "iPythonMetadata": null,
       "inputWidgets": {},
       "isLockedInExamMode": false,
       "latestAssumeRoleInfo": null,
       "latestUser": "a user",
       "latestUserId": null,
       "listResultMetadata": null,
       "metadata": {},
       "nuid": "dad8e6db-323d-48f4-94b5-4f1d8c5ef0f8",
       "origId": 0,
       "parentHierarchy": [],
       "pivotAggregation": null,
       "pivotColumns": null,
       "position": 4.0,
       "resultDbfsErrorMessage": null,
       "resultDbfsStatus": "INLINED_IN_TREE",
       "results": null,
       "showCommandTitle": false,
       "startTime": 0,
       "state": "input",
       "streamStates": {},
       "subcommandOptions": {
        "queryPlan": {
         "groups": [
          {
           "column": "tradingdate",
           "type": "column"
          }
         ],
         "selects": [
          {
           "alias": "column_615567e7701",
           "args": [
            {
             "column": "offtake_mwh",
             "type": "column"
            }
           ],
           "function": "SUM",
           "type": "function"
          },
          {
           "alias": "column_615567e7702",
           "args": [
            {
             "column": "injection_mwh",
             "type": "column"
            }
           ],
           "function": "SUM",
           "type": "function"
          },
          {
           "column": "tradingdate",
           "type": "column"
          }
         ]
        }
       },
       "submitTime": 0,
       "subtype": "tableResultSubCmd.visualization",
       "tableResultIndex": 0,
       "tableResultSettingsMap": {},
       "useConsistentColors": false,
       "version": "CommandV1",
       "width": "auto",
       "workflows": null,
       "xColumns": null,
       "yColumns": null
      }
     },
     "output_type": "display_data"
    }
   ],
   "source": [
    "With L1 as (\n",
    "  select TradingDate, TradingPeriodNumber, TradingPeriodStartTime ,PointOfConnectionCode,TraderCode,NetworkParticipantCode, KilowattHours/1000 as Offtake_MWh \n",
    "  from ea_prd.gold.factreconciledinjectionandofftake\n",
    "  where TradingDate >= '2025-01-01' and FlowDirection = 'Offtake' and KilowattHours > 0\n",
    "  and (PointOfConnectionCode = 'BRB0331' and TraderCode = 'MERI' and NetworkParticipantCode = 'MERI')\n",
    "), L2 as (\n",
    "  select TradingDate, TradingPeriodNumber, TradingPeriodStartTime, PointOfConnectionCode,TraderCode,NetworkParticipantCode, KilowattHours/1000 as Injection_MWh \n",
    "  from ea_prd.gold.factreconciledinjectionandofftake\n",
    "  where TradingDate >= '2025-01-01' and FlowDirection = 'Injection' and KilowattHours > 0\n",
    "  and (PointOfConnectionCode = 'BRB0331' and TraderCode = 'MERI' and NetworkParticipantCode = 'MERI')\n",
    "), L3 as (\n",
    "  select TradingDate, TradingPeriodNumber, TradingPeriodStartTime, PointOfConnectionCode,TraderCode,NetworkParticipantCode from L1\n",
    "  union \n",
    "  select TradingDate, TradingPeriodNumber, TradingPeriodStartTime, PointOfConnectionCode,TraderCode,NetworkParticipantCode from L2\n",
    "), L4 as (select distinct * from L3)\n",
    ", L5 as (\n",
    "  select L4.*, offtake_mwh, injection_mwh from L4 \n",
    "  left join L1\n",
    "  on L4.TradingDate = L1.TradingDate and L4.TradingPeriodNumber = L1.TradingPeriodNumber \n",
    "  and L4.PointOfConnectionCode = L1.PointOfConnectionCode\n",
    "  and L4.TraderCode = L1.TraderCode and L4.NetworkParticipantCode = L1.NetworkParticipantCode\n",
    "  left join L2\n",
    "  on L4.TradingDate = L2.tradingdate and L4.TradingPeriodNumber = L2.TradingPeriodNumber \n",
    "  and L4.PointOfConnectionCode = L2.PointOfConnectionCode\n",
    "  and L4.TraderCode = L2.TraderCode and L4.NetworkParticipantCode = L2.NetworkParticipantCode\n",
    "  order by L4.tradingdate, L4.tradingperiodnumber\n",
    "), L6 as (\n",
    "  select tradingdate, \n",
    "  casesum(offtake_mwh) as offtake_mwh, sum(injection_mwh) as injection_mwh from L5\n",
    "  group by tradingdate\n",
    "  order by tradingdate\n",
    ")\n",
    "select * from L6\n",
    "\n"
   ]
  },
  {
   "cell_type": "code",
   "execution_count": 0,
   "metadata": {
    "application/vnd.databricks.v1+cell": {
     "cellMetadata": {
      "byteLimit": 2048000,
      "rowLimit": 10000
     },
     "inputWidgets": {},
     "nuid": "f9068599-f189-4059-8948-5b6f17075a01",
     "showTitle": false,
     "tableResultSettingsMap": {
      "0": {
       "dataGridStateBlob": "{\"version\":1,\"tableState\":{\"columnPinning\":{\"left\":[\"#row_number#\"],\"right\":[]},\"columnSizing\":{},\"columnVisibility\":{}},\"settings\":{\"columns\":{}},\"syncTimestamp\":1756688219682}",
       "filterBlob": null,
       "queryPlanFiltersBlob": null,
       "tableResultIndex": 0
      }
     },
     "title": ""
    }
   },
   "outputs": [],
   "source": [
    "select TradingDate, TradingPeriodNumber,\n",
    "ConstraintTypeCode, ConstraintDirectionIndicator, Dollars, Megawatts\n",
    "from ea_prd.gold.factconstrainedonoff \n",
    "where TradingDate between '2024-01-01' and '2024-01-31' \n",
    "and PointOfConnectionCode = 'HLY0331' and ParticipantCode  in ('NPEL','OPHL') and Dollars > 0\n",
    "Order by Dollars desc"
   ]
  },
  {
   "cell_type": "code",
   "execution_count": 0,
   "metadata": {
    "application/vnd.databricks.v1+cell": {
     "cellMetadata": {
      "byteLimit": 2048000,
      "rowLimit": 10000
     },
     "inputWidgets": {},
     "nuid": "4ff75f08-e9f4-4b32-b2b2-aaa5178fd5c5",
     "showTitle": false,
     "tableResultSettingsMap": {
      "0": {
       "dataGridStateBlob": "{\"version\":1,\"tableState\":{\"columnPinning\":{\"left\":[\"#row_number#\"],\"right\":[]},\"columnSizing\":{\"#row_number#\":59},\"columnVisibility\":{}},\"settings\":{\"columns\":{}},\"syncTimestamp\":1756688492634}",
       "filterBlob": null,
       "queryPlanFiltersBlob": null,
       "tableResultIndex": 0
      }
     },
     "title": ""
    }
   },
   "outputs": [],
   "source": [
    "Select TraderCode, NetworkParticipantCode,KilowattHours/500 as MW,* from ea_prd.gold.factreconciledinjectionandofftake \n",
    "where TradingDate = '2024-01-25' and TradingPeriodNumber = 12 \n",
    "and FlowDirection = 'Offtake'\n",
    "and PointOfConnectionCode = 'HLY0331' --and TraderCode = 'NPEL' --and NetworkParticipantCode = 'WAIK'"
   ]
  },
  {
   "cell_type": "code",
   "execution_count": 0,
   "metadata": {
    "application/vnd.databricks.v1+cell": {
     "cellMetadata": {
      "byteLimit": 2048000,
      "rowLimit": 10000
     },
     "inputWidgets": {},
     "nuid": "ef63ed69-9963-4a91-9d4e-3fe64264253b",
     "showTitle": false,
     "tableResultSettingsMap": {
      "0": {
       "dataGridStateBlob": "{\"version\":1,\"tableState\":{\"columnPinning\":{\"left\":[\"#row_number#\"],\"right\":[]},\"columnSizing\":{\"IntervalDateTime\":190,\"Cleared_MW\":167,\"Offer_Pr\":139,\"Offer_MW\":154},\"columnVisibility\":{}},\"settings\":{\"columns\":{}},\"syncTimestamp\":1756689356317}",
       "filterBlob": null,
       "queryPlanFiltersBlob": null,
       "tableResultIndex": 0
      }
     },
     "title": ""
    }
   },
   "outputs": [],
   "source": [
    "Select a.TradingDate, a.TradingPeriodNumber, a.IntervalDateTime, a.TrancheNumber,\n",
    "a.SPDOfferOutputMegawatts as Offer_MW, a.SPDOfferPriceDollarsPerMegawattHour as Offer_Pr, \n",
    "a.SPDGenerationMegawatts as Cleared_MW, a.SPDDollarsPerMegawattHour as RTD_Price,\n",
    "b.DollarsPerMegawattHour as Final_Price, *\n",
    "from ea_prd.gold.factspdbidsandoffers a \n",
    "inner join ea_prd.gold.factpredispatchandfinalenergyprices b\n",
    "on (a.TradingDate = b.TradingDate and a.TradingPeriodNumber = b.TradingPeriodNumber \n",
    "and a.PointOfConnectionCode = b.PointOfConnectionCode\n",
    "and b.PriceTypeCode = 'F')\n",
    "where \n",
    "-- TradingDate = '2024-01-28' and TradingPeriodNumber = 9 \n",
    "a.TradingDate = '2024-01-25' and a.TradingPeriodNumber = 12 \n",
    "and a.PointOfConnectionCode = 'HLY0331'\n",
    "and CaseTypeCode = 'RTD' and OfferTypeCode = 'ENDL'\n",
    "Order by IntervalDateTime"
   ]
  },
  {
   "cell_type": "code",
   "execution_count": 0,
   "metadata": {
    "application/vnd.databricks.v1+cell": {
     "cellMetadata": {},
     "inputWidgets": {},
     "nuid": "e74a75f4-99fc-4cf8-81d4-491e53ae7ec3",
     "showTitle": false,
     "tableResultSettingsMap": {},
     "title": ""
    }
   },
   "outputs": [],
   "source": [
    "select * from ea_prd.gold.factspdbidsandoffers where PointOfConnectionCode = 'HLY0331' and CaseTypeCode = 'RTD'\n",
    "order by TradingDate"
   ]
  },
  {
   "cell_type": "code",
   "execution_count": 0,
   "metadata": {
    "application/vnd.databricks.v1+cell": {
     "cellMetadata": {
      "byteLimit": 2048000,
      "rowLimit": 10000
     },
     "inputWidgets": {},
     "nuid": "9f3bce1b-8e41-49c2-bc45-ab21f5cc1104",
     "showTitle": false,
     "tableResultSettingsMap": {
      "0": {
       "dataGridStateBlob": "{\"version\":1,\"tableState\":{\"columnPinning\":{\"left\":[\"#row_number#\"],\"right\":[]},\"columnSizing\":{\"Interval\":224},\"columnVisibility\":{}},\"settings\":{\"columns\":{}},\"syncTimestamp\":1756777543417}",
       "filterBlob": null,
       "queryPlanFiltersBlob": null,
       "tableResultIndex": 0
      }
     },
     "title": ""
    }
   },
   "outputs": [],
   "source": [
    "select PointOfConnectionCode || ' ' || UnitCode as PnodeName,TradingDate,TradingPeriodNumber as Period,\n",
    "IntervalDateTime as `Interval`, ProductType || ' ' || ProductClass as Product, SPDMegawatts \n",
    "from datahub.wholesale.spdnodal\n",
    "where TradingDate >= '2024-01-01' and CaseTypeCode = 'RTD'\n",
    "and PointOfConnectionCode = 'BRB0331' --and UnitCode = 'RHO99' \n",
    "and SPDMegawatts <> 0\n",
    "order by IntervalDateTime"
   ]
  },
  {
   "cell_type": "code",
   "execution_count": 0,
   "metadata": {
    "application/vnd.databricks.v1+cell": {
     "cellMetadata": {
      "byteLimit": 2048000,
      "rowLimit": 10000
     },
     "inputWidgets": {},
     "nuid": "f64f421a-7c09-4e8e-aefb-dd136858d5a3",
     "showTitle": false,
     "tableResultSettingsMap": {
      "0": {
       "dataGridStateBlob": "{\"version\":1,\"tableState\":{\"columnPinning\":{\"left\":[\"#row_number#\"],\"right\":[]},\"columnSizing\":{},\"columnVisibility\":{}},\"settings\":{\"columns\":{}},\"syncTimestamp\":1756689110187}",
       "filterBlob": null,
       "queryPlanFiltersBlob": null,
       "tableResultIndex": 0
      }
     },
     "title": ""
    }
   },
   "outputs": [],
   "source": [
    "select PointOfConnectionCode || ' ' || UnitCode as PnodeName , TradingDate, TradingPeriodNumber as Period,\n",
    "DispatchInstructionSentDateTime, ProductType || ' ' || ProductClass as Product, DispatchedMegawatts, SPDCaseID\n",
    "from datahub.wholesale.dispatchinstructions a\n",
    "where TradingDate >= '2024-01-01' and PointOfConnectionCode = 'HLY0331' and ProductType = 'Energy' and  ProductClass = 'Offtake'"
   ]
  },
  {
   "cell_type": "code",
   "execution_count": 0,
   "metadata": {
    "application/vnd.databricks.v1+cell": {
     "cellMetadata": {
      "byteLimit": 2048000,
      "rowLimit": 10000
     },
     "inputWidgets": {},
     "nuid": "26b85205-2ec3-4062-8ea0-4c080b50f752",
     "showTitle": false,
     "tableResultSettingsMap": {
      "0": {
       "dataGridStateBlob": "{\"version\":1,\"tableState\":{\"columnPinning\":{\"left\":[\"#row_number#\"],\"right\":[]},\"columnSizing\":{},\"columnVisibility\":{}},\"settings\":{\"columns\":{}},\"syncTimestamp\":1756688983926}",
       "filterBlob": null,
       "queryPlanFiltersBlob": null,
       "tableResultIndex": 0
      }
     },
     "title": ""
    }
   },
   "outputs": [],
   "source": [
    "select * from ea_prd.gold.factdispatchinstructions \n",
    "where TradingDate >= '2024-01-01' and PointOfConnectionCode = 'HLY0331' and UnitCode = 'RHO99'\n",
    "and DispatchTypeCode = 'DD'"
   ]
  },
  {
   "cell_type": "code",
   "execution_count": 0,
   "metadata": {
    "application/vnd.databricks.v1+cell": {
     "cellMetadata": {
      "byteLimit": 2048000,
      "rowLimit": 10000
     },
     "inputWidgets": {},
     "nuid": "0db24526-24d4-4158-b1db-6d9fd907c02d",
     "showTitle": false,
     "tableResultSettingsMap": {
      "0": {
       "dataGridStateBlob": "{\"version\":1,\"tableState\":{\"columnPinning\":{\"left\":[\"#row_number#\"],\"right\":[]},\"columnSizing\":{},\"columnVisibility\":{}},\"settings\":{\"columns\":{}},\"syncTimestamp\":1756849961767}",
       "filterBlob": null,
       "queryPlanFiltersBlob": null,
       "tableResultIndex": 0
      }
     },
     "title": ""
    }
   },
   "outputs": [],
   "source": [
    "with L1 as (\n",
    "  select DATE(TRadingDate) as TradingDate, int(TradingPeriod) as TradingPeriodNumber, CaseID, int(InterimTimeWeightSeconds) as NumberofSecs \n",
    "  from ea_prd.bronze.casefilepublishtimes where InterimTimeWeightSeconds <> '0' \n",
    "), L2 as (\n",
    "  Select a.CaseID, a.TradingDate, a.TradingPeriodNumber, a.IntervalDateTime, b.NumberofSecs,\n",
    "  avg(a.SPDClearedFIRMegawatts) as Cleared_FIR_MW, avg(a.SPDClearedFIRMegawatts) as Cleared_SIR_MW\n",
    "  from ea_prd.gold.factspdbidsandoffers a inner join L1 b\n",
    "  on (a.TradingDate = b.TradingDate and a.TradingPeriodNumber = b.TradingPeriodNumber and a.CaseID = b.CaseID)\n",
    "  where a.TradingDate >= '2024-01-01'  and Month(a.TradingDate) = 4\n",
    "  and a.PointOfConnectionCode = 'HLY0331'\n",
    "  --and UnitCode in ('RHO0','RHO99')\n",
    "  and OfferTypeCode not in ('ENOF','ENDL')\n",
    "  Group By all\n",
    "), L3 as (\n",
    "  select TradingDate, TradingPeriodNumber, \n",
    "  round(sum(Cleared_FIR_MW*NumberofSecs)/sum(NumberofSecs),3) as Cleared_FIR_MW, \n",
    "  round(sum(Cleared_SIR_MW*NumberofSecs)/sum(NumberofSecs),3) as Cleared_SIR_MW\n",
    "  from L2\n",
    "  Group by TradingDate, TradingPeriodNumber\n",
    "), L4 as (\n",
    "select a.*, b.FIRDollarsPerMegawattHour, b.SIRDollarsPerMegawattHour \n",
    "from L3 a inner join ea_prd.gold.factpredispatchandfinalreserveprices b\n",
    "on (a.TradingDate = b.TradingDate and a.TradingPeriodNumber = b.TradingPeriodNumber \n",
    "and b.PointOfConnectionCode = 'HAY2201' and b.PriceTypeCode = 'F')\n",
    "), L5 as (\n",
    "select Year(TradingDate) as `Year`, month(TradingDate) as `Month`, \n",
    "round(sum(Cleared_FIR_MW * FIRDollarsPerMegawattHour),2) as Revenue_FIR, \n",
    "round(sum(Cleared_SIR_MW * SIRDollarsPerMegawattHour),2) as Revenue_SIR \n",
    "from L4\n",
    "Group by all\n",
    "Order by Year, Month\n",
    ")\n",
    "select * from L4"
   ]
  },
  {
   "cell_type": "code",
   "execution_count": 0,
   "metadata": {
    "application/vnd.databricks.v1+cell": {
     "cellMetadata": {
      "byteLimit": 2048000,
      "rowLimit": 10000
     },
     "inputWidgets": {},
     "nuid": "16792cd5-6c78-444b-8515-01595701bd9d",
     "showTitle": false,
     "tableResultSettingsMap": {
      "0": {
       "dataGridStateBlob": "{\"version\":1,\"tableState\":{\"columnPinning\":{\"left\":[\"#row_number#\"],\"right\":[]},\"columnSizing\":{},\"columnVisibility\":{}},\"settings\":{\"columns\":{}},\"syncTimestamp\":1756850048689}",
       "filterBlob": null,
       "queryPlanFiltersBlob": null,
       "tableResultIndex": 0
      }
     },
     "title": ""
    }
   },
   "outputs": [],
   "source": [
    "select a.TradingPeriodNumber, DollarsPerMegawattHour, FIRDollarsPerMegawattHour, SIRDollarsPerMegawattHour \n",
    "from ea_prd.gold.factpredispatchandfinalreserveprices a\n",
    "inner join ea_prd.gold.factpredispatchandfinalenergyprices b\n",
    "on a.TradingDate = b.TradingDate and a.TradingPeriodNumber = b.TradingPeriodNumber \n",
    "and a.PointOfConnectionCode = b.PointOfConnectionCode and a.PriceTypeCode = b.PriceTypeCode\n",
    "where a.TradingDate = '2024-04-20' and a.PriceTypeCode = 'F' and a.PointOfConnectionCode = 'HAY2201'\n",
    "Order by TradingPeriodNumber"
   ]
  },
  {
   "cell_type": "code",
   "execution_count": 0,
   "metadata": {
    "application/vnd.databricks.v1+cell": {
     "cellMetadata": {
      "byteLimit": 2048000,
      "rowLimit": 10000
     },
     "inputWidgets": {},
     "nuid": "95da43fe-6dd4-43c0-bb20-c5baded6d5f8",
     "showTitle": false,
     "tableResultSettingsMap": {
      "0": {
       "dataGridStateBlob": "{\"version\":1,\"tableState\":{\"columnPinning\":{\"left\":[\"#row_number#\"],\"right\":[]},\"columnSizing\":{\"Interval\":175},\"columnVisibility\":{}},\"settings\":{\"columns\":{}},\"syncTimestamp\":1756850977910}",
       "filterBlob": null,
       "queryPlanFiltersBlob": null,
       "tableResultIndex": 0
      }
     },
     "title": ""
    }
   },
   "outputs": [],
   "source": [
    "select * from ea_prd.gold.factspdbidsandoffers \n",
    "where TradingDate = '2024-04-20' and CaseTypeCode = 'RTD' and PointOfConnectionCode = 'HLY0331' and TradingPeriodNumber = 20\n",
    "and `Interval` = '20-APR-2024 09:30'\n",
    "Order by TradingPeriodNumber"
   ]
  },
  {
   "cell_type": "code",
   "execution_count": 0,
   "metadata": {
    "application/vnd.databricks.v1+cell": {
     "cellMetadata": {
      "byteLimit": 2048000,
      "rowLimit": 10000
     },
     "inputWidgets": {},
     "nuid": "14964fd1-da2c-4878-b9ce-6a088679c43a",
     "showTitle": false,
     "tableResultSettingsMap": {},
     "title": ""
    }
   },
   "outputs": [],
   "source": [
    "select * from ea_prd.gold.factpredispatchandfinalreserveprices\n",
    "where TradingDate = '2024-04-20' and TradingPeriodNumber = 20 and PointOfConnectionCode = 'HAY2201'--and PriceTypeCode = 'F'\n",
    "Order by PriceTypeCode, RunDateTime"
   ]
  }
 ],
 "metadata": {
  "application/vnd.databricks.v1+notebook": {
   "computePreferences": null,
   "dashboards": [],
   "environmentMetadata": {
    "base_environment": "",
    "environment_version": "3"
   },
   "inputWidgetPreferences": null,
   "language": "sql",
   "notebookMetadata": {
    "pythonIndentUnit": 4
   },
   "notebookName": "BESS energy, reserve and constrained  revenue",
   "widgets": {}
  },
  "language_info": {
   "name": "sql"
  }
 },
 "nbformat": 4,
 "nbformat_minor": 0
}
